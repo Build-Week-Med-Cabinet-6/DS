{
  "nbformat": 4,
  "nbformat_minor": 0,
  "metadata": {
    "colab": {
      "name": "Med-Cabinet-Mark.ipynb",
      "provenance": [],
      "collapsed_sections": []
    },
    "kernelspec": {
      "name": "python3",
      "display_name": "Python 3"
    }
  },
  "cells": [
    {
      "cell_type": "markdown",
      "metadata": {
        "id": "RfqZ-DJyMV6w",
        "colab_type": "text"
      },
      "source": [
        "# TFIDF KNN Approach "
      ]
    },
    {
      "cell_type": "code",
      "metadata": {
        "id": "2F9FXBToMbtd",
        "colab_type": "code",
        "colab": {}
      },
      "source": [
        "import pandas as pd\n",
        "\n",
        "import spacy\n",
        "from spacy.tokenizer import Tokenizer\n",
        "from spacy.lang.en import English\n",
        "\n",
        "from sklearn.feature_extraction.text import TfidfVectorizer\n",
        "from sklearn.neighbors import NearestNeighbors\n",
        "\n",
        "import pickle"
      ],
      "execution_count": 0,
      "outputs": []
    },
    {
      "cell_type": "code",
      "metadata": {
        "id": "3lmqxnzPMbos",
        "colab_type": "code",
        "colab": {}
      },
      "source": [
        "# Instantiate the tokenizer \n",
        "nlp = English()\n",
        "tokenizer = Tokenizer(nlp.vocab)"
      ],
      "execution_count": 0,
      "outputs": []
    },
    {
      "cell_type": "code",
      "metadata": {
        "id": "zcHGr5LwMbmE",
        "colab_type": "code",
        "colab": {
          "base_uri": "https://localhost:8080/",
          "height": 204
        },
        "outputId": "9aebff64-dc77-4bde-c5fe-43ddb5203396"
      },
      "source": [
        "df = pd.read_csv(\"https://raw.githubusercontent.com/Build-Week-Med-Cabinet-6/DS/mark-dev/data/cannabis.csv\")\n",
        "df.head()"
      ],
      "execution_count": 3,
      "outputs": [
        {
          "output_type": "execute_result",
          "data": {
            "text/html": [
              "<div>\n",
              "<style scoped>\n",
              "    .dataframe tbody tr th:only-of-type {\n",
              "        vertical-align: middle;\n",
              "    }\n",
              "\n",
              "    .dataframe tbody tr th {\n",
              "        vertical-align: top;\n",
              "    }\n",
              "\n",
              "    .dataframe thead th {\n",
              "        text-align: right;\n",
              "    }\n",
              "</style>\n",
              "<table border=\"1\" class=\"dataframe\">\n",
              "  <thead>\n",
              "    <tr style=\"text-align: right;\">\n",
              "      <th></th>\n",
              "      <th>Strain</th>\n",
              "      <th>Type</th>\n",
              "      <th>Rating</th>\n",
              "      <th>Effects</th>\n",
              "      <th>Flavor</th>\n",
              "      <th>Description</th>\n",
              "    </tr>\n",
              "  </thead>\n",
              "  <tbody>\n",
              "    <tr>\n",
              "      <th>0</th>\n",
              "      <td>100-Og</td>\n",
              "      <td>hybrid</td>\n",
              "      <td>4.0</td>\n",
              "      <td>Creative,Energetic,Tingly,Euphoric,Relaxed</td>\n",
              "      <td>Earthy,Sweet,Citrus</td>\n",
              "      <td>$100 OG is a 50/50 hybrid strain that packs a ...</td>\n",
              "    </tr>\n",
              "    <tr>\n",
              "      <th>1</th>\n",
              "      <td>98-White-Widow</td>\n",
              "      <td>hybrid</td>\n",
              "      <td>4.7</td>\n",
              "      <td>Relaxed,Aroused,Creative,Happy,Energetic</td>\n",
              "      <td>Flowery,Violet,Diesel</td>\n",
              "      <td>The ‘98 Aloha White Widow is an especially pot...</td>\n",
              "    </tr>\n",
              "    <tr>\n",
              "      <th>2</th>\n",
              "      <td>1024</td>\n",
              "      <td>sativa</td>\n",
              "      <td>4.4</td>\n",
              "      <td>Uplifted,Happy,Relaxed,Energetic,Creative</td>\n",
              "      <td>Spicy/Herbal,Sage,Woody</td>\n",
              "      <td>1024 is a sativa-dominant hybrid bred in Spain...</td>\n",
              "    </tr>\n",
              "    <tr>\n",
              "      <th>3</th>\n",
              "      <td>13-Dawgs</td>\n",
              "      <td>hybrid</td>\n",
              "      <td>4.2</td>\n",
              "      <td>Tingly,Creative,Hungry,Relaxed,Uplifted</td>\n",
              "      <td>Apricot,Citrus,Grapefruit</td>\n",
              "      <td>13 Dawgs is a hybrid of G13 and Chemdawg genet...</td>\n",
              "    </tr>\n",
              "    <tr>\n",
              "      <th>4</th>\n",
              "      <td>24K-Gold</td>\n",
              "      <td>hybrid</td>\n",
              "      <td>4.6</td>\n",
              "      <td>Happy,Relaxed,Euphoric,Uplifted,Talkative</td>\n",
              "      <td>Citrus,Earthy,Orange</td>\n",
              "      <td>Also known as Kosher Tangie, 24k Gold is a 60%...</td>\n",
              "    </tr>\n",
              "  </tbody>\n",
              "</table>\n",
              "</div>"
            ],
            "text/plain": [
              "           Strain  ...                                        Description\n",
              "0          100-Og  ...  $100 OG is a 50/50 hybrid strain that packs a ...\n",
              "1  98-White-Widow  ...  The ‘98 Aloha White Widow is an especially pot...\n",
              "2            1024  ...  1024 is a sativa-dominant hybrid bred in Spain...\n",
              "3        13-Dawgs  ...  13 Dawgs is a hybrid of G13 and Chemdawg genet...\n",
              "4        24K-Gold  ...  Also known as Kosher Tangie, 24k Gold is a 60%...\n",
              "\n",
              "[5 rows x 6 columns]"
            ]
          },
          "metadata": {
            "tags": []
          },
          "execution_count": 3
        }
      ]
    },
    {
      "cell_type": "code",
      "metadata": {
        "id": "Ai8m8CZAMbjy",
        "colab_type": "code",
        "colab": {}
      },
      "source": [
        "# drop nan or missing values\n",
        "df = df.dropna()\n",
        "#drop entry 149 because its a dupe you dupe \n",
        "df = df.drop(df.index[149])\n",
        "df = df.reset_index(drop=True)\n"
      ],
      "execution_count": 0,
      "outputs": []
    },
    {
      "cell_type": "code",
      "metadata": {
        "id": "DmG3Uj7DMbhJ",
        "colab_type": "code",
        "colab": {}
      },
      "source": [
        "# Combine the Effects and Flavors in one column so everything is together. \n",
        "df['Combined'] = df['Effects'] + ',' + df['Flavor']\n"
      ],
      "execution_count": 0,
      "outputs": []
    },
    {
      "cell_type": "code",
      "metadata": {
        "id": "Wb1hUFEiQXrD",
        "colab_type": "code",
        "colab": {
          "base_uri": "https://localhost:8080/",
          "height": 224
        },
        "outputId": "4c2913b9-caaa-4bb7-c51c-7e2a1a3b5c30"
      },
      "source": [
        "# Instantiate vecorizer object - call tokenize\n",
        "dtm_combined_tf = TfidfVectorizer(stop_words='english')\n",
        "\n",
        "\n",
        "# dtm_combined  (vocabulary) and get word counts \n",
        "# effects and flavors combined \n",
        "dtm_combined = dtm_combined_tf.fit_transform(df['Combined'].values.astype('U'))\n",
        "dtm_combined = pd.DataFrame(dtm_combined.todense(), columns=dtm_combined_tf.get_feature_names())\n",
        "dtm_combined.head()"
      ],
      "execution_count": 6,
      "outputs": [
        {
          "output_type": "execute_result",
          "data": {
            "text/html": [
              "<div>\n",
              "<style scoped>\n",
              "    .dataframe tbody tr th:only-of-type {\n",
              "        vertical-align: middle;\n",
              "    }\n",
              "\n",
              "    .dataframe tbody tr th {\n",
              "        vertical-align: top;\n",
              "    }\n",
              "\n",
              "    .dataframe thead th {\n",
              "        text-align: right;\n",
              "    }\n",
              "</style>\n",
              "<table border=\"1\" class=\"dataframe\">\n",
              "  <thead>\n",
              "    <tr style=\"text-align: right;\">\n",
              "      <th></th>\n",
              "      <th>ammonia</th>\n",
              "      <th>apple</th>\n",
              "      <th>apricot</th>\n",
              "      <th>aroused</th>\n",
              "      <th>berry</th>\n",
              "      <th>blue</th>\n",
              "      <th>blueberry</th>\n",
              "      <th>butter</th>\n",
              "      <th>cheese</th>\n",
              "      <th>chemical</th>\n",
              "      <th>chestnut</th>\n",
              "      <th>citrus</th>\n",
              "      <th>coffee</th>\n",
              "      <th>creative</th>\n",
              "      <th>diesel</th>\n",
              "      <th>dry</th>\n",
              "      <th>earthy</th>\n",
              "      <th>energetic</th>\n",
              "      <th>euphoric</th>\n",
              "      <th>flowery</th>\n",
              "      <th>focused</th>\n",
              "      <th>fruit</th>\n",
              "      <th>giggly</th>\n",
              "      <th>grape</th>\n",
              "      <th>grapefruit</th>\n",
              "      <th>happy</th>\n",
              "      <th>herbal</th>\n",
              "      <th>honey</th>\n",
              "      <th>hungry</th>\n",
              "      <th>lavender</th>\n",
              "      <th>lemon</th>\n",
              "      <th>lime</th>\n",
              "      <th>mango</th>\n",
              "      <th>menthol</th>\n",
              "      <th>mint</th>\n",
              "      <th>minty</th>\n",
              "      <th>mouth</th>\n",
              "      <th>nutty</th>\n",
              "      <th>orange</th>\n",
              "      <th>peach</th>\n",
              "      <th>pear</th>\n",
              "      <th>pepper</th>\n",
              "      <th>pine</th>\n",
              "      <th>pineapple</th>\n",
              "      <th>plum</th>\n",
              "      <th>pungent</th>\n",
              "      <th>relaxed</th>\n",
              "      <th>rose</th>\n",
              "      <th>sage</th>\n",
              "      <th>skunk</th>\n",
              "      <th>sleepy</th>\n",
              "      <th>spicy</th>\n",
              "      <th>strawberry</th>\n",
              "      <th>sweet</th>\n",
              "      <th>talkative</th>\n",
              "      <th>tar</th>\n",
              "      <th>tea</th>\n",
              "      <th>tingly</th>\n",
              "      <th>tobacco</th>\n",
              "      <th>tree</th>\n",
              "      <th>tropical</th>\n",
              "      <th>uplifted</th>\n",
              "      <th>vanilla</th>\n",
              "      <th>violet</th>\n",
              "      <th>woody</th>\n",
              "    </tr>\n",
              "  </thead>\n",
              "  <tbody>\n",
              "    <tr>\n",
              "      <th>0</th>\n",
              "      <td>0.0</td>\n",
              "      <td>0.0</td>\n",
              "      <td>0.000000</td>\n",
              "      <td>0.000000</td>\n",
              "      <td>0.0</td>\n",
              "      <td>0.0</td>\n",
              "      <td>0.0</td>\n",
              "      <td>0.0</td>\n",
              "      <td>0.0</td>\n",
              "      <td>0.0</td>\n",
              "      <td>0.0</td>\n",
              "      <td>0.423573</td>\n",
              "      <td>0.0</td>\n",
              "      <td>0.367348</td>\n",
              "      <td>0.000000</td>\n",
              "      <td>0.0</td>\n",
              "      <td>0.296072</td>\n",
              "      <td>0.393157</td>\n",
              "      <td>0.231858</td>\n",
              "      <td>0.000000</td>\n",
              "      <td>0.0</td>\n",
              "      <td>0.0</td>\n",
              "      <td>0.0</td>\n",
              "      <td>0.0</td>\n",
              "      <td>0.000000</td>\n",
              "      <td>0.000000</td>\n",
              "      <td>0.000000</td>\n",
              "      <td>0.0</td>\n",
              "      <td>0.000000</td>\n",
              "      <td>0.0</td>\n",
              "      <td>0.0</td>\n",
              "      <td>0.0</td>\n",
              "      <td>0.0</td>\n",
              "      <td>0.0</td>\n",
              "      <td>0.0</td>\n",
              "      <td>0.0</td>\n",
              "      <td>0.0</td>\n",
              "      <td>0.0</td>\n",
              "      <td>0.000000</td>\n",
              "      <td>0.0</td>\n",
              "      <td>0.0</td>\n",
              "      <td>0.0</td>\n",
              "      <td>0.0</td>\n",
              "      <td>0.0</td>\n",
              "      <td>0.0</td>\n",
              "      <td>0.0</td>\n",
              "      <td>0.221355</td>\n",
              "      <td>0.0</td>\n",
              "      <td>0.000000</td>\n",
              "      <td>0.0</td>\n",
              "      <td>0.0</td>\n",
              "      <td>0.000000</td>\n",
              "      <td>0.0</td>\n",
              "      <td>0.304395</td>\n",
              "      <td>0.000000</td>\n",
              "      <td>0.0</td>\n",
              "      <td>0.0</td>\n",
              "      <td>0.497994</td>\n",
              "      <td>0.0</td>\n",
              "      <td>0.0</td>\n",
              "      <td>0.0</td>\n",
              "      <td>0.000000</td>\n",
              "      <td>0.0</td>\n",
              "      <td>0.000000</td>\n",
              "      <td>0.000000</td>\n",
              "    </tr>\n",
              "    <tr>\n",
              "      <th>1</th>\n",
              "      <td>0.0</td>\n",
              "      <td>0.0</td>\n",
              "      <td>0.000000</td>\n",
              "      <td>0.363903</td>\n",
              "      <td>0.0</td>\n",
              "      <td>0.0</td>\n",
              "      <td>0.0</td>\n",
              "      <td>0.0</td>\n",
              "      <td>0.0</td>\n",
              "      <td>0.0</td>\n",
              "      <td>0.0</td>\n",
              "      <td>0.000000</td>\n",
              "      <td>0.0</td>\n",
              "      <td>0.227094</td>\n",
              "      <td>0.343946</td>\n",
              "      <td>0.0</td>\n",
              "      <td>0.000000</td>\n",
              "      <td>0.243049</td>\n",
              "      <td>0.000000</td>\n",
              "      <td>0.332205</td>\n",
              "      <td>0.0</td>\n",
              "      <td>0.0</td>\n",
              "      <td>0.0</td>\n",
              "      <td>0.0</td>\n",
              "      <td>0.000000</td>\n",
              "      <td>0.128916</td>\n",
              "      <td>0.000000</td>\n",
              "      <td>0.0</td>\n",
              "      <td>0.000000</td>\n",
              "      <td>0.0</td>\n",
              "      <td>0.0</td>\n",
              "      <td>0.0</td>\n",
              "      <td>0.0</td>\n",
              "      <td>0.0</td>\n",
              "      <td>0.0</td>\n",
              "      <td>0.0</td>\n",
              "      <td>0.0</td>\n",
              "      <td>0.0</td>\n",
              "      <td>0.000000</td>\n",
              "      <td>0.0</td>\n",
              "      <td>0.0</td>\n",
              "      <td>0.0</td>\n",
              "      <td>0.0</td>\n",
              "      <td>0.0</td>\n",
              "      <td>0.0</td>\n",
              "      <td>0.0</td>\n",
              "      <td>0.136841</td>\n",
              "      <td>0.0</td>\n",
              "      <td>0.000000</td>\n",
              "      <td>0.0</td>\n",
              "      <td>0.0</td>\n",
              "      <td>0.000000</td>\n",
              "      <td>0.0</td>\n",
              "      <td>0.000000</td>\n",
              "      <td>0.000000</td>\n",
              "      <td>0.0</td>\n",
              "      <td>0.0</td>\n",
              "      <td>0.000000</td>\n",
              "      <td>0.0</td>\n",
              "      <td>0.0</td>\n",
              "      <td>0.0</td>\n",
              "      <td>0.000000</td>\n",
              "      <td>0.0</td>\n",
              "      <td>0.702087</td>\n",
              "      <td>0.000000</td>\n",
              "    </tr>\n",
              "    <tr>\n",
              "      <th>2</th>\n",
              "      <td>0.0</td>\n",
              "      <td>0.0</td>\n",
              "      <td>0.000000</td>\n",
              "      <td>0.000000</td>\n",
              "      <td>0.0</td>\n",
              "      <td>0.0</td>\n",
              "      <td>0.0</td>\n",
              "      <td>0.0</td>\n",
              "      <td>0.0</td>\n",
              "      <td>0.0</td>\n",
              "      <td>0.0</td>\n",
              "      <td>0.000000</td>\n",
              "      <td>0.0</td>\n",
              "      <td>0.252260</td>\n",
              "      <td>0.000000</td>\n",
              "      <td>0.0</td>\n",
              "      <td>0.000000</td>\n",
              "      <td>0.269982</td>\n",
              "      <td>0.000000</td>\n",
              "      <td>0.000000</td>\n",
              "      <td>0.0</td>\n",
              "      <td>0.0</td>\n",
              "      <td>0.0</td>\n",
              "      <td>0.0</td>\n",
              "      <td>0.000000</td>\n",
              "      <td>0.143202</td>\n",
              "      <td>0.388126</td>\n",
              "      <td>0.0</td>\n",
              "      <td>0.000000</td>\n",
              "      <td>0.0</td>\n",
              "      <td>0.0</td>\n",
              "      <td>0.0</td>\n",
              "      <td>0.0</td>\n",
              "      <td>0.0</td>\n",
              "      <td>0.0</td>\n",
              "      <td>0.0</td>\n",
              "      <td>0.0</td>\n",
              "      <td>0.0</td>\n",
              "      <td>0.000000</td>\n",
              "      <td>0.0</td>\n",
              "      <td>0.0</td>\n",
              "      <td>0.0</td>\n",
              "      <td>0.0</td>\n",
              "      <td>0.0</td>\n",
              "      <td>0.0</td>\n",
              "      <td>0.0</td>\n",
              "      <td>0.152005</td>\n",
              "      <td>0.0</td>\n",
              "      <td>0.591172</td>\n",
              "      <td>0.0</td>\n",
              "      <td>0.0</td>\n",
              "      <td>0.388126</td>\n",
              "      <td>0.0</td>\n",
              "      <td>0.000000</td>\n",
              "      <td>0.000000</td>\n",
              "      <td>0.0</td>\n",
              "      <td>0.0</td>\n",
              "      <td>0.000000</td>\n",
              "      <td>0.0</td>\n",
              "      <td>0.0</td>\n",
              "      <td>0.0</td>\n",
              "      <td>0.168966</td>\n",
              "      <td>0.0</td>\n",
              "      <td>0.000000</td>\n",
              "      <td>0.374893</td>\n",
              "    </tr>\n",
              "    <tr>\n",
              "      <th>3</th>\n",
              "      <td>0.0</td>\n",
              "      <td>0.0</td>\n",
              "      <td>0.659428</td>\n",
              "      <td>0.000000</td>\n",
              "      <td>0.0</td>\n",
              "      <td>0.0</td>\n",
              "      <td>0.0</td>\n",
              "      <td>0.0</td>\n",
              "      <td>0.0</td>\n",
              "      <td>0.0</td>\n",
              "      <td>0.0</td>\n",
              "      <td>0.250376</td>\n",
              "      <td>0.0</td>\n",
              "      <td>0.217141</td>\n",
              "      <td>0.000000</td>\n",
              "      <td>0.0</td>\n",
              "      <td>0.000000</td>\n",
              "      <td>0.000000</td>\n",
              "      <td>0.000000</td>\n",
              "      <td>0.000000</td>\n",
              "      <td>0.0</td>\n",
              "      <td>0.0</td>\n",
              "      <td>0.0</td>\n",
              "      <td>0.0</td>\n",
              "      <td>0.511427</td>\n",
              "      <td>0.000000</td>\n",
              "      <td>0.000000</td>\n",
              "      <td>0.0</td>\n",
              "      <td>0.262361</td>\n",
              "      <td>0.0</td>\n",
              "      <td>0.0</td>\n",
              "      <td>0.0</td>\n",
              "      <td>0.0</td>\n",
              "      <td>0.0</td>\n",
              "      <td>0.0</td>\n",
              "      <td>0.0</td>\n",
              "      <td>0.0</td>\n",
              "      <td>0.0</td>\n",
              "      <td>0.000000</td>\n",
              "      <td>0.0</td>\n",
              "      <td>0.0</td>\n",
              "      <td>0.0</td>\n",
              "      <td>0.0</td>\n",
              "      <td>0.0</td>\n",
              "      <td>0.0</td>\n",
              "      <td>0.0</td>\n",
              "      <td>0.130844</td>\n",
              "      <td>0.0</td>\n",
              "      <td>0.000000</td>\n",
              "      <td>0.0</td>\n",
              "      <td>0.0</td>\n",
              "      <td>0.000000</td>\n",
              "      <td>0.0</td>\n",
              "      <td>0.000000</td>\n",
              "      <td>0.000000</td>\n",
              "      <td>0.0</td>\n",
              "      <td>0.0</td>\n",
              "      <td>0.294366</td>\n",
              "      <td>0.0</td>\n",
              "      <td>0.0</td>\n",
              "      <td>0.0</td>\n",
              "      <td>0.145443</td>\n",
              "      <td>0.0</td>\n",
              "      <td>0.000000</td>\n",
              "      <td>0.000000</td>\n",
              "    </tr>\n",
              "    <tr>\n",
              "      <th>4</th>\n",
              "      <td>0.0</td>\n",
              "      <td>0.0</td>\n",
              "      <td>0.000000</td>\n",
              "      <td>0.000000</td>\n",
              "      <td>0.0</td>\n",
              "      <td>0.0</td>\n",
              "      <td>0.0</td>\n",
              "      <td>0.0</td>\n",
              "      <td>0.0</td>\n",
              "      <td>0.0</td>\n",
              "      <td>0.0</td>\n",
              "      <td>0.375113</td>\n",
              "      <td>0.0</td>\n",
              "      <td>0.000000</td>\n",
              "      <td>0.000000</td>\n",
              "      <td>0.0</td>\n",
              "      <td>0.262199</td>\n",
              "      <td>0.000000</td>\n",
              "      <td>0.205331</td>\n",
              "      <td>0.000000</td>\n",
              "      <td>0.0</td>\n",
              "      <td>0.0</td>\n",
              "      <td>0.0</td>\n",
              "      <td>0.0</td>\n",
              "      <td>0.000000</td>\n",
              "      <td>0.184677</td>\n",
              "      <td>0.000000</td>\n",
              "      <td>0.0</td>\n",
              "      <td>0.000000</td>\n",
              "      <td>0.0</td>\n",
              "      <td>0.0</td>\n",
              "      <td>0.0</td>\n",
              "      <td>0.0</td>\n",
              "      <td>0.0</td>\n",
              "      <td>0.0</td>\n",
              "      <td>0.0</td>\n",
              "      <td>0.0</td>\n",
              "      <td>0.0</td>\n",
              "      <td>0.663356</td>\n",
              "      <td>0.0</td>\n",
              "      <td>0.0</td>\n",
              "      <td>0.0</td>\n",
              "      <td>0.0</td>\n",
              "      <td>0.0</td>\n",
              "      <td>0.0</td>\n",
              "      <td>0.0</td>\n",
              "      <td>0.196030</td>\n",
              "      <td>0.0</td>\n",
              "      <td>0.000000</td>\n",
              "      <td>0.0</td>\n",
              "      <td>0.0</td>\n",
              "      <td>0.000000</td>\n",
              "      <td>0.0</td>\n",
              "      <td>0.000000</td>\n",
              "      <td>0.433964</td>\n",
              "      <td>0.0</td>\n",
              "      <td>0.0</td>\n",
              "      <td>0.000000</td>\n",
              "      <td>0.0</td>\n",
              "      <td>0.0</td>\n",
              "      <td>0.0</td>\n",
              "      <td>0.217903</td>\n",
              "      <td>0.0</td>\n",
              "      <td>0.000000</td>\n",
              "      <td>0.000000</td>\n",
              "    </tr>\n",
              "  </tbody>\n",
              "</table>\n",
              "</div>"
            ],
            "text/plain": [
              "   ammonia  apple   apricot   aroused  ...  uplifted  vanilla    violet     woody\n",
              "0      0.0    0.0  0.000000  0.000000  ...  0.000000      0.0  0.000000  0.000000\n",
              "1      0.0    0.0  0.000000  0.363903  ...  0.000000      0.0  0.702087  0.000000\n",
              "2      0.0    0.0  0.000000  0.000000  ...  0.168966      0.0  0.000000  0.374893\n",
              "3      0.0    0.0  0.659428  0.000000  ...  0.145443      0.0  0.000000  0.000000\n",
              "4      0.0    0.0  0.000000  0.000000  ...  0.217903      0.0  0.000000  0.000000\n",
              "\n",
              "[5 rows x 65 columns]"
            ]
          },
          "metadata": {
            "tags": []
          },
          "execution_count": 6
        }
      ]
    },
    {
      "cell_type": "code",
      "metadata": {
        "id": "smEmTZ5ORe52",
        "colab_type": "code",
        "colab": {
          "base_uri": "https://localhost:8080/",
          "height": 68
        },
        "outputId": "ed8d4d43-6755-4476-dfea-e1b3f169aa8f"
      },
      "source": [
        "# Fit on TF-IDF Vectors\n",
        "nn = NearestNeighbors(n_neighbors=5, algorithm='ball_tree')\n",
        "nn.fit(dtm_combined)"
      ],
      "execution_count": 7,
      "outputs": [
        {
          "output_type": "execute_result",
          "data": {
            "text/plain": [
              "NearestNeighbors(algorithm='ball_tree', leaf_size=30, metric='minkowski',\n",
              "                 metric_params=None, n_jobs=None, n_neighbors=5, p=2,\n",
              "                 radius=1.0)"
            ]
          },
          "metadata": {
            "tags": []
          },
          "execution_count": 7
        }
      ]
    },
    {
      "cell_type": "code",
      "metadata": {
        "id": "BIMinWmrRp4H",
        "colab_type": "code",
        "colab": {}
      },
      "source": [
        "# Practice passing a strain to the model with this string\n",
        "# ideal_strain = ['Creative,Energetic,Tingly,Euphoric,Relaxed,Earthy,Sweet,Citrus']\n",
        "\n",
        "\n",
        "# Practice passing a strain to the model with this string\n",
        "ideal_strain2 = ['Creative,Citrus']"
      ],
      "execution_count": 0,
      "outputs": []
    },
    {
      "cell_type": "code",
      "metadata": {
        "id": "EyPWaR-wYMoO",
        "colab_type": "code",
        "colab": {}
      },
      "source": [
        "# Query for similar strains using the test case\n",
        "new = dtm_combined_tf.transform(ideal_strain2)\n",
        "results = nn.kneighbors(new.todense())"
      ],
      "execution_count": 0,
      "outputs": []
    },
    {
      "cell_type": "code",
      "metadata": {
        "id": "L7do34AQYMm3",
        "colab_type": "code",
        "colab": {
          "base_uri": "https://localhost:8080/",
          "height": 34
        },
        "outputId": "c20f0230-4ebb-4d0b-a10e-2d9df43a043c"
      },
      "source": [
        "# Results are returned in a tuple of arrays\n",
        "print(results)"
      ],
      "execution_count": 25,
      "outputs": [
        {
          "output_type": "stream",
          "text": [
            "(array([[0.81309268, 0.81309268, 0.81309268, 0.81309268, 0.83043702]]), array([[1915, 2080, 1974,  124,  349]]))\n"
          ],
          "name": "stdout"
        }
      ]
    },
    {
      "cell_type": "code",
      "metadata": {
        "id": "I2rPgrI3lA9M",
        "colab_type": "code",
        "colab": {
          "base_uri": "https://localhost:8080/",
          "height": 34
        },
        "outputId": "dea4b2c8-fe16-4d89-acb3-14aa44392ae2"
      },
      "source": [
        "type(results)"
      ],
      "execution_count": 11,
      "outputs": [
        {
          "output_type": "execute_result",
          "data": {
            "text/plain": [
              "tuple"
            ]
          },
          "metadata": {
            "tags": []
          },
          "execution_count": 11
        }
      ]
    },
    {
      "cell_type": "code",
      "metadata": {
        "id": "aR9PpMF7YMlS",
        "colab_type": "code",
        "colab": {
          "base_uri": "https://localhost:8080/",
          "height": 68
        },
        "outputId": "7983a0e6-45de-49c8-c670-1edf3b615bc6"
      },
      "source": [
        "# first tuple contains percentage confidence the item is a match - 1st tuple in first array in first entry\n",
        "print('First Tuple:', results[0][0][0])\n",
        "\n",
        "# second tuple contains index number of nearest matches - 2nd tuple in first array in first entry \n",
        "print('Second Tuple:', results[1][0][0]) \n",
        "\n",
        "# Strain is strain name - 2nd tuple in first array in first entry \n",
        "df['Strain'][results[1][0][0]]\n"
      ],
      "execution_count": 29,
      "outputs": [
        {
          "output_type": "stream",
          "text": [
            "First Tuple: 0.8130926771833283\n",
            "Second Tuple: 1915\n"
          ],
          "name": "stdout"
        },
        {
          "output_type": "execute_result",
          "data": {
            "text/plain": [
              "'Special-K'"
            ]
          },
          "metadata": {
            "tags": []
          },
          "execution_count": 29
        }
      ]
    },
    {
      "cell_type": "code",
      "metadata": {
        "id": "C4lPTojobvOa",
        "colab_type": "code",
        "colab": {
          "base_uri": "https://localhost:8080/",
          "height": 34
        },
        "outputId": "40092835-5b9c-462b-9d0a-3e24c3c29801"
      },
      "source": [
        "# combined is the combination of effects and flavors - 2nd tuple in first array in first entry \n",
        "df['Combined'][results[1][0][0]]"
      ],
      "execution_count": 13,
      "outputs": [
        {
          "output_type": "execute_result",
          "data": {
            "text/plain": [
              "'Happy,Uplifted,Euphoric,Relaxed,Creative,Sweet,Citrus,Earthy'"
            ]
          },
          "metadata": {
            "tags": []
          },
          "execution_count": 13
        }
      ]
    },
    {
      "cell_type": "code",
      "metadata": {
        "id": "DrtjNSNubvMF",
        "colab_type": "code",
        "colab": {
          "base_uri": "https://localhost:8080/",
          "height": 54
        },
        "outputId": "6196060d-542c-4e76-d1d5-063cefb39b4b"
      },
      "source": [
        "# combined is the combination of effects and flavors - 2nd tuple in first array in first entry \n",
        "df['Description'][results[1][0][0]]"
      ],
      "execution_count": 14,
      "outputs": [
        {
          "output_type": "execute_result",
          "data": {
            "text/plain": [
              "'Special K is a hybrid cross between sativa Western Winds and indica Slyder. The plant is tall with substantial girth,\\xa0despite its lanky indica influence, with elongated buds.\\xa0The effects are long-lasting with a quick onset, beginning with a\\xa0physical buzz and\\xa0evolving into a heady lift that borders on psychedelic. Special K has been called adventureful, making it a wonderful daytime strain. Indoor or outdoor grows can expect to flower at around 10 weeks.'"
            ]
          },
          "metadata": {
            "tags": []
          },
          "execution_count": 14
        }
      ]
    },
    {
      "cell_type": "code",
      "metadata": {
        "id": "DKw6m4FD-lm1",
        "colab_type": "code",
        "colab": {
          "base_uri": "https://localhost:8080/",
          "height": 153
        },
        "outputId": "c6ec4012-6a62-4531-d18b-e622eb64c30d"
      },
      "source": [
        "# sanity test that the strain at iloc 1915 is indded special k\n",
        "df.iloc[1915]"
      ],
      "execution_count": 27,
      "outputs": [
        {
          "output_type": "execute_result",
          "data": {
            "text/plain": [
              "Strain                                                 Special-K\n",
              "Type                                                      hybrid\n",
              "Rating                                                       4.5\n",
              "Effects                 Happy,Uplifted,Euphoric,Relaxed,Creative\n",
              "Flavor                                       Sweet,Citrus,Earthy\n",
              "Description    Special K is a hybrid cross between sativa Wes...\n",
              "Combined       Happy,Uplifted,Euphoric,Relaxed,Creative,Sweet...\n",
              "Name: 1915, dtype: object"
            ]
          },
          "metadata": {
            "tags": []
          },
          "execution_count": 27
        }
      ]
    },
    {
      "cell_type": "code",
      "metadata": {
        "id": "LFUpOCgSbvJh",
        "colab_type": "code",
        "colab": {}
      },
      "source": [
        ""
      ],
      "execution_count": 0,
      "outputs": []
    },
    {
      "cell_type": "markdown",
      "metadata": {
        "id": "34NqaZSwboUl",
        "colab_type": "text"
      },
      "source": [
        "### Second Value "
      ]
    },
    {
      "cell_type": "code",
      "metadata": {
        "id": "kQL9Nu_zEHqB",
        "colab_type": "code",
        "colab": {
          "base_uri": "https://localhost:8080/",
          "height": 34
        },
        "outputId": "fad2aa01-dfa0-4c9c-98d5-abc1f8e8e39b"
      },
      "source": [
        "# Results are returned in a tuple of arrays\n",
        "print(results)"
      ],
      "execution_count": 32,
      "outputs": [
        {
          "output_type": "stream",
          "text": [
            "(array([[0.81309268, 0.81309268, 0.81309268, 0.81309268, 0.83043702]]), array([[1915, 2080, 1974,  124,  349]]))\n"
          ],
          "name": "stdout"
        }
      ]
    },
    {
      "cell_type": "code",
      "metadata": {
        "id": "fXx5BB3mD1iN",
        "colab_type": "code",
        "colab": {
          "base_uri": "https://localhost:8080/",
          "height": 68
        },
        "outputId": "7d1e72ee-a168-4adc-f3e5-6e8e6cc5e612"
      },
      "source": [
        "# first tuple contains percentage confidence the item is a match - 1st tuple in first array in second entry\n",
        "print('First Tuple:', results[0][0][1])\n",
        "\n",
        "# second tuple contains index number of nearest matches - 2nd tuple in first array in second entry \n",
        "print('Second Tuple:', results[1][0][1]) \n",
        "\n",
        "# Strain is strain name - results[1] is 2nd tuple [0] is 1st array [0] is first value - the 1915 index\n",
        "df['Strain'][results[1][0][1]]\n"
      ],
      "execution_count": 34,
      "outputs": [
        {
          "output_type": "stream",
          "text": [
            "First Tuple: 0.8130926771833283\n",
            "Second Tuple: 2080\n"
          ],
          "name": "stdout"
        },
        {
          "output_type": "execute_result",
          "data": {
            "text/plain": [
              "'The-Sauce'"
            ]
          },
          "metadata": {
            "tags": []
          },
          "execution_count": 34
        }
      ]
    },
    {
      "cell_type": "code",
      "metadata": {
        "id": "VMGgkCJGYMhK",
        "colab_type": "code",
        "colab": {
          "base_uri": "https://localhost:8080/",
          "height": 34
        },
        "outputId": "9aef621a-197b-471c-cfc5-43a6a15a4e3f"
      },
      "source": [
        ""
      ],
      "execution_count": 15,
      "outputs": [
        {
          "output_type": "execute_result",
          "data": {
            "text/plain": [
              "'The-Sauce'"
            ]
          },
          "metadata": {
            "tags": []
          },
          "execution_count": 15
        }
      ]
    },
    {
      "cell_type": "code",
      "metadata": {
        "id": "TwTwjUzpaLPW",
        "colab_type": "code",
        "colab": {
          "base_uri": "https://localhost:8080/",
          "height": 34
        },
        "outputId": "64e49fcb-3c1f-4547-cbeb-e010d86cc72e"
      },
      "source": [
        ""
      ],
      "execution_count": 16,
      "outputs": [
        {
          "output_type": "execute_result",
          "data": {
            "text/plain": [
              "'Happy,Uplifted,Relaxed,Euphoric,Creative,Earthy,Sweet,Citrus'"
            ]
          },
          "metadata": {
            "tags": []
          },
          "execution_count": 16
        }
      ]
    },
    {
      "cell_type": "code",
      "metadata": {
        "id": "Qe2XQHC5YMeL",
        "colab_type": "code",
        "colab": {
          "base_uri": "https://localhost:8080/",
          "height": 54
        },
        "outputId": "18ec426f-e865-484f-c79b-d95d0b1b4f85"
      },
      "source": [
        ""
      ],
      "execution_count": 17,
      "outputs": [
        {
          "output_type": "execute_result",
          "data": {
            "text/plain": [
              "'The Sauce is a 60/40 sativa-dominant hybrid bred by Exotic Genetix. Using a backcross of Green Ribbon to pollenate a Gorilla Glue #4 mother, the Northwest breeder created a potent blend that emits a mix of chocolate, lime and diesel flavors. The Sauce took the prize for Judge’s Choice at the 2015 DOPE Cup in Seattle.'"
            ]
          },
          "metadata": {
            "tags": []
          },
          "execution_count": 17
        }
      ]
    },
    {
      "cell_type": "code",
      "metadata": {
        "id": "KTrrchSGEiw7",
        "colab_type": "code",
        "colab": {}
      },
      "source": [
        ""
      ],
      "execution_count": 0,
      "outputs": []
    },
    {
      "cell_type": "markdown",
      "metadata": {
        "colab_type": "text",
        "id": "CspfYT4YEtAi"
      },
      "source": [
        "### Fifth Value "
      ]
    },
    {
      "cell_type": "code",
      "metadata": {
        "colab_type": "code",
        "outputId": "fad2aa01-dfa0-4c9c-98d5-abc1f8e8e39b",
        "id": "ipQcWo8yEtAk",
        "colab": {
          "base_uri": "https://localhost:8080/",
          "height": 34
        }
      },
      "source": [
        "# Results are returned in a tuple of arrays\n",
        "print(results)"
      ],
      "execution_count": 0,
      "outputs": [
        {
          "output_type": "stream",
          "text": [
            "(array([[0.81309268, 0.81309268, 0.81309268, 0.81309268, 0.83043702]]), array([[1915, 2080, 1974,  124,  349]]))\n"
          ],
          "name": "stdout"
        }
      ]
    },
    {
      "cell_type": "code",
      "metadata": {
        "colab_type": "code",
        "outputId": "1b5eba03-46c6-43be-e98b-9f7f7d133d07",
        "id": "fmcJCsi_EtAn",
        "colab": {
          "base_uri": "https://localhost:8080/",
          "height": 68
        }
      },
      "source": [
        "# first tuple contains percentage confidence the item is a match - 1st tuple in first array in first entry\n",
        "print('First Tuple:', results[0][0][4])\n",
        "\n",
        "# second tuple contains index number of nearest matches - 2nd tuple in first array in first entry \n",
        "print('Second Tuple:', results[1][0][4]) \n",
        "\n",
        "# Strain is strain name - results[1] is 2nd tuple [0] is 1st array [0] is first value - the 2080 index\n",
        "df['Strain'][results[1][0][4]]\n"
      ],
      "execution_count": 38,
      "outputs": [
        {
          "output_type": "stream",
          "text": [
            "First Tuple: 0.8304370201964505\n",
            "Second Tuple: 349\n"
          ],
          "name": "stdout"
        },
        {
          "output_type": "execute_result",
          "data": {
            "text/plain": [
              "'Blukashima'"
            ]
          },
          "metadata": {
            "tags": []
          },
          "execution_count": 38
        }
      ]
    },
    {
      "cell_type": "code",
      "metadata": {
        "colab_type": "code",
        "outputId": "0c789401-67bf-46a0-98e2-b2632ab186de",
        "id": "AOjmZDm3EtAq",
        "colab": {
          "base_uri": "https://localhost:8080/",
          "height": 34
        }
      },
      "source": [
        "# strain name from \n",
        "df['Strain'][results[1][0][4]]"
      ],
      "execution_count": 40,
      "outputs": [
        {
          "output_type": "execute_result",
          "data": {
            "text/plain": [
              "'Blukashima'"
            ]
          },
          "metadata": {
            "tags": []
          },
          "execution_count": 40
        }
      ]
    },
    {
      "cell_type": "code",
      "metadata": {
        "colab_type": "code",
        "outputId": "14333f96-a52c-423a-f6c1-e82bd175aae6",
        "id": "7yctbUTxEtAv",
        "colab": {
          "base_uri": "https://localhost:8080/",
          "height": 34
        }
      },
      "source": [
        "# Pull the criteria from 2nd value (1) of the 1st array (0) of the 2nd tuple (1) - the 1972 index\n",
        "df['Combined'][results[1][0][4]]"
      ],
      "execution_count": 41,
      "outputs": [
        {
          "output_type": "execute_result",
          "data": {
            "text/plain": [
              "'Creative,None'"
            ]
          },
          "metadata": {
            "tags": []
          },
          "execution_count": 41
        }
      ]
    },
    {
      "cell_type": "code",
      "metadata": {
        "colab_type": "code",
        "outputId": "7c990c6c-063a-409a-b140-8cee1150e031",
        "id": "Fra0qgZeEtAy",
        "colab": {
          "base_uri": "https://localhost:8080/",
          "height": 54
        }
      },
      "source": [
        "# Pull the criteria from 2nd value (1) of the 1st array (0) of the 2nd tuple (1) - the 1972 index\n",
        "df['Description'][results[1][0][4]]"
      ],
      "execution_count": 42,
      "outputs": [
        {
          "output_type": "execute_result",
          "data": {
            "text/plain": [
              "'Using a Chernobyl male plant to pollenate their Blue Dream cut, Terraform Genetics created Blukashima. This forcible hybrid inherits stress- and pain-relieving qualities as well as invigorating cerebral effects from both parent strains. Designed with potency in mind, proceed with caution if you’re new to cannabis.'"
            ]
          },
          "metadata": {
            "tags": []
          },
          "execution_count": 42
        }
      ]
    },
    {
      "cell_type": "markdown",
      "metadata": {
        "colab_type": "text",
        "id": "UuwaohxtEtA1"
      },
      "source": [
        "#### Save this snippet for later\n"
      ]
    },
    {
      "cell_type": "code",
      "metadata": {
        "colab_type": "code",
        "id": "TkgmOaxbEtA1",
        "colab": {}
      },
      "source": [
        "# Imagine doing a detailed return of information afterwards \n",
        "# #output results here, rec strains criteria and description\n",
        "# rec_str = [strains['Strain'][results[1][0][i]] for i in range(5)]\n",
        "# rec_crit = [strains['Combined'][results[1][0][i]] for i in range(5)]\n",
        "# rec_str_desc = [strains['Description'][results[1][0][i]] for i in range(5)]\n",
        "\n",
        "# rec1 = rec_str[0] + ' * ' + rec_crit[0] + ' * ' + rec_str_desc[0]\n",
        "# rec2 = rec_str[1] + ' * ' + rec_crit[1] + ' * ' + rec_str_desc[1]\n",
        "# rec3 = rec_str[2] + ' * ' + rec_crit[2] + ' * ' + rec_str_desc[2]\n",
        "# rec4 = rec_str[3] + ' * ' + rec_crit[3] + ' * ' + rec_str_desc[3]\n",
        "# rec5 = rec_str[4] + ' * ' + rec_crit[4] + ' * ' + rec_str_desc[4]\n"
      ],
      "execution_count": 0,
      "outputs": []
    },
    {
      "cell_type": "markdown",
      "metadata": {
        "id": "vsncfYcXEoeS",
        "colab_type": "text"
      },
      "source": [
        ""
      ]
    },
    {
      "cell_type": "markdown",
      "metadata": {
        "id": "2T0O2EZ9EVeR",
        "colab_type": "text"
      },
      "source": [
        "#### Save this snippet for later\n"
      ]
    },
    {
      "cell_type": "code",
      "metadata": {
        "colab_type": "code",
        "id": "E7fXJNKsfcF4",
        "colab": {}
      },
      "source": [
        "# Imagine doing a detailed return of information afterwards \n",
        "# #output results here, rec strains criteria and description\n",
        "# rec_str = [strains['Strain'][results[1][0][i]] for i in range(5)]\n",
        "# rec_crit = [strains['Combined'][results[1][0][i]] for i in range(5)]\n",
        "# rec_str_desc = [strains['Description'][results[1][0][i]] for i in range(5)]\n",
        "\n",
        "# rec1 = rec_str[0] + ' * ' + rec_crit[0] + ' * ' + rec_str_desc[0]\n",
        "# rec2 = rec_str[1] + ' * ' + rec_crit[1] + ' * ' + rec_str_desc[1]\n",
        "# rec3 = rec_str[2] + ' * ' + rec_crit[2] + ' * ' + rec_str_desc[2]\n",
        "# rec4 = rec_str[3] + ' * ' + rec_crit[3] + ' * ' + rec_str_desc[3]\n",
        "# rec5 = rec_str[4] + ' * ' + rec_crit[4] + ' * ' + rec_str_desc[4]\n"
      ],
      "execution_count": 0,
      "outputs": []
    },
    {
      "cell_type": "code",
      "metadata": {
        "id": "pRxuk2JTEgp1",
        "colab_type": "code",
        "colab": {}
      },
      "source": [
        ""
      ],
      "execution_count": 0,
      "outputs": []
    },
    {
      "cell_type": "markdown",
      "metadata": {
        "id": "RrsvE1pZzn4i",
        "colab_type": "text"
      },
      "source": [
        "### Pickling step here"
      ]
    },
    {
      "cell_type": "code",
      "metadata": {
        "id": "USIl6KZOe3oa",
        "colab_type": "code",
        "colab": {}
      },
      "source": [
        "# Pickle the dtm and tf for use in the prediction\n",
        "pickle.dump(dtm_combined, open('/content/dtm_combined.pkl', 'wb'))\n",
        "pickle.dump(dtm_combined_tf, open('/content/dtm_combined_tf.pkl', 'wb'))"
      ],
      "execution_count": 0,
      "outputs": []
    },
    {
      "cell_type": "code",
      "metadata": {
        "id": "eH-wTv7pzqqD",
        "colab_type": "code",
        "colab": {}
      },
      "source": [
        ""
      ],
      "execution_count": 0,
      "outputs": []
    },
    {
      "cell_type": "markdown",
      "metadata": {
        "id": "mMtpbHkWSPUp",
        "colab_type": "text"
      },
      "source": [
        "# Effects"
      ]
    },
    {
      "cell_type": "code",
      "metadata": {
        "id": "-74HkjnWSVMH",
        "colab_type": "code",
        "colab": {}
      },
      "source": [
        "# Instantiate vecorizer object - call tokenize\n",
        "dtm_effects_tf = TfidfVectorizer(stop_words='english')\n",
        "\n",
        "\n",
        "# dtm_effects  (vocabulary) and get word counts \n",
        "# effects and flavors effects \n",
        "dtm_effects = dtm_effects_tf.fit_transform(df['Effects'].values.astype('U'))\n",
        "dtm_effects = pd.DataFrame(dtm_effects.todense(), columns=dtm_effects_tf.get_feature_names())\n",
        "dtm_effects.head()"
      ],
      "execution_count": 0,
      "outputs": []
    },
    {
      "cell_type": "code",
      "metadata": {
        "id": "B4W2Ne_-XdmN",
        "colab_type": "code",
        "colab": {}
      },
      "source": [
        "df.head()"
      ],
      "execution_count": 0,
      "outputs": []
    },
    {
      "cell_type": "markdown",
      "metadata": {
        "id": "CL3MD1Q9SSyo",
        "colab_type": "text"
      },
      "source": [
        "# Flavors"
      ]
    },
    {
      "cell_type": "code",
      "metadata": {
        "id": "ymTgOC1zS-MJ",
        "colab_type": "code",
        "colab": {}
      },
      "source": [
        "# Instantiate vecorizer object - call tokenize\n",
        "dtm_flavors_tf = TfidfVectorizer(stop_words='english')\n",
        "\n",
        "\n",
        "# dtm_flavors  (vocabulary) and get word counts \n",
        "# flavors \n",
        "dtm_flavors = dtm_flavors_tf.fit_transform(df['Flavor'].values.astype('U'))\n",
        "dtm_flavors = pd.DataFrame(dtm_flavors.todense(), columns=dtm_flavors_tf.get_feature_names())\n",
        "dtm_flavors.head()"
      ],
      "execution_count": 0,
      "outputs": []
    },
    {
      "cell_type": "markdown",
      "metadata": {
        "id": "5nJjum1ZvqGS",
        "colab_type": "text"
      },
      "source": [
        "# Leafly API EDA \n"
      ]
    },
    {
      "cell_type": "code",
      "metadata": {
        "id": "iBsKVRVbvtpP",
        "colab_type": "code",
        "colab": {}
      },
      "source": [
        "import pandas as pd "
      ],
      "execution_count": 0,
      "outputs": []
    },
    {
      "cell_type": "code",
      "metadata": {
        "id": "n3fY77Yw6IGx",
        "colab_type": "code",
        "colab": {}
      },
      "source": [
        "df = pd.read_csv(\"https://raw.githubusercontent.com/Build-Week-Med-Cabinet-6/DS/mark-dev/data/cannabis.csv\")\n",
        "df.head()"
      ],
      "execution_count": 0,
      "outputs": []
    },
    {
      "cell_type": "code",
      "metadata": {
        "id": "L_lPy4oM8FEd",
        "colab_type": "code",
        "colab": {}
      },
      "source": [
        "df.shape"
      ],
      "execution_count": 0,
      "outputs": []
    },
    {
      "cell_type": "code",
      "metadata": {
        "id": "F66Q0q4t8NwN",
        "colab_type": "code",
        "colab": {}
      },
      "source": [
        "df = df.dropna()\n"
      ],
      "execution_count": 0,
      "outputs": []
    },
    {
      "cell_type": "code",
      "metadata": {
        "id": "wvXZ9vvZ8Ql8",
        "colab_type": "code",
        "colab": {}
      },
      "source": [
        "df.shape"
      ],
      "execution_count": 0,
      "outputs": []
    },
    {
      "cell_type": "code",
      "metadata": {
        "id": "kv08GL068SKl",
        "colab_type": "code",
        "colab": {}
      },
      "source": [
        "df.describe(exclude='number')"
      ],
      "execution_count": 0,
      "outputs": []
    },
    {
      "cell_type": "code",
      "metadata": {
        "id": "BPZhHbjSkY3Z",
        "colab_type": "code",
        "colab": {}
      },
      "source": [
        "pip install https://github.com/pandas-profiling/pandas-profiling/archive/master.zip\n"
      ],
      "execution_count": 0,
      "outputs": []
    },
    {
      "cell_type": "code",
      "metadata": {
        "id": "joUifMN58rua",
        "colab_type": "code",
        "colab": {}
      },
      "source": [
        "\n",
        "import pandas_profiling\n",
        "df.profile_report()"
      ],
      "execution_count": 0,
      "outputs": []
    },
    {
      "cell_type": "code",
      "metadata": {
        "id": "zBiqcySq8wYo",
        "colab_type": "code",
        "colab": {}
      },
      "source": [
        ""
      ],
      "execution_count": 0,
      "outputs": []
    },
    {
      "cell_type": "markdown",
      "metadata": {
        "id": "WWd4YokVvChK",
        "colab_type": "text"
      },
      "source": [
        "# Kushy API "
      ]
    },
    {
      "cell_type": "code",
      "metadata": {
        "id": "XUbMm-CyVl68",
        "colab_type": "code",
        "colab": {}
      },
      "source": [
        "import pandas as pd "
      ],
      "execution_count": 0,
      "outputs": []
    },
    {
      "cell_type": "code",
      "metadata": {
        "id": "H1ZxPJP7VoF_",
        "colab_type": "code",
        "colab": {}
      },
      "source": [
        "df = pd.read_csv(\"https://raw.githubusercontent.com/kushyapp/cannabis-dataset/master/Dataset/Strains/strains-kushy_api.2017-11-14.csv\")"
      ],
      "execution_count": 0,
      "outputs": []
    },
    {
      "cell_type": "code",
      "metadata": {
        "id": "VR3ANWphVtva",
        "colab_type": "code",
        "colab": {}
      },
      "source": [
        "df.head()"
      ],
      "execution_count": 0,
      "outputs": []
    },
    {
      "cell_type": "code",
      "metadata": {
        "id": "zCh6GGddW1vJ",
        "colab_type": "code",
        "colab": {}
      },
      "source": [
        "df.shape"
      ],
      "execution_count": 0,
      "outputs": []
    },
    {
      "cell_type": "code",
      "metadata": {
        "id": "hD3qkLmxVvI6",
        "colab_type": "code",
        "colab": {}
      },
      "source": [
        "df.isnull().values.sum()"
      ],
      "execution_count": 0,
      "outputs": []
    },
    {
      "cell_type": "code",
      "metadata": {
        "id": "nN0N1j3bVych",
        "colab_type": "code",
        "colab": {}
      },
      "source": [
        "df.info()"
      ],
      "execution_count": 0,
      "outputs": []
    },
    {
      "cell_type": "code",
      "metadata": {
        "id": "4qGJ2NArWvEW",
        "colab_type": "code",
        "colab": {}
      },
      "source": [
        "# These are the columns with a percentage of missing values. \n",
        "df.isnull().sum()/len(df)*100\n"
      ],
      "execution_count": 0,
      "outputs": []
    },
    {
      "cell_type": "code",
      "metadata": {
        "id": "1p0MIHSjXAqU",
        "colab_type": "code",
        "colab": {}
      },
      "source": [
        "df.describe(exclude=\"number\")"
      ],
      "execution_count": 0,
      "outputs": []
    },
    {
      "cell_type": "code",
      "metadata": {
        "id": "dinojcUpsY50",
        "colab_type": "code",
        "colab": {}
      },
      "source": [
        "df.describe(include=\"number\")"
      ],
      "execution_count": 0,
      "outputs": []
    },
    {
      "cell_type": "code",
      "metadata": {
        "id": "fy95Mk_VuiKC",
        "colab_type": "code",
        "colab": {}
      },
      "source": [
        ""
      ],
      "execution_count": 0,
      "outputs": []
    }
  ]
}