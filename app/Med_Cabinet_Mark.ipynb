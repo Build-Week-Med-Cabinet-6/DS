{
  "nbformat": 4,
  "nbformat_minor": 0,
  "metadata": {
    "colab": {
      "name": "Med-Cabinet-Mark.ipynb",
      "provenance": [],
      "collapsed_sections": [
        "WWd4YokVvChK"
      ]
    },
    "kernelspec": {
      "name": "python3",
      "display_name": "Python 3"
    }
  },
  "cells": [
    {
      "cell_type": "markdown",
      "metadata": {
        "id": "RfqZ-DJyMV6w",
        "colab_type": "text"
      },
      "source": [
        "# TFIDF KNN Approach "
      ]
    },
    {
      "cell_type": "code",
      "metadata": {
        "id": "2F9FXBToMbtd",
        "colab_type": "code",
        "colab": {}
      },
      "source": [
        "import pandas as pd\n",
        "\n",
        "import spacy\n",
        "from spacy.tokenizer import Tokenizer\n",
        "from spacy.lang.en import English\n",
        "\n",
        "from sklearn.feature_extraction.text import TfidfVectorizer\n",
        "from sklearn.neighbors import NearestNeighbors\n",
        "\n",
        "import pickle"
      ],
      "execution_count": 0,
      "outputs": []
    },
    {
      "cell_type": "code",
      "metadata": {
        "id": "3lmqxnzPMbos",
        "colab_type": "code",
        "colab": {}
      },
      "source": [
        "# Instantiate the tokenizer \n",
        "nlp=English()\n",
        "tokenizer = Tokenizer(nlp.vocab)"
      ],
      "execution_count": 0,
      "outputs": []
    },
    {
      "cell_type": "code",
      "metadata": {
        "id": "zcHGr5LwMbmE",
        "colab_type": "code",
        "colab": {}
      },
      "source": [
        "df = pd.read_csv(\"https://raw.githubusercontent.com/Build-Week-Med-Cabinet-6/DS/mark-dev/data/cannabis.csv\")\n",
        "df.head()"
      ],
      "execution_count": 0,
      "outputs": []
    },
    {
      "cell_type": "code",
      "metadata": {
        "id": "Ai8m8CZAMbjy",
        "colab_type": "code",
        "colab": {}
      },
      "source": [
        "# drop nan or missing values\n",
        "df = df.dropna()\n",
        "df = df.drop(df.index[149])\n",
        "df = df.reset_index(drop=True)\n",
        "\n",
        "\n"
      ],
      "execution_count": 0,
      "outputs": []
    },
    {
      "cell_type": "code",
      "metadata": {
        "id": "O5NOVr4KQ1wz",
        "colab_type": "code",
        "colab": {}
      },
      "source": [
        ""
      ],
      "execution_count": 0,
      "outputs": []
    },
    {
      "cell_type": "code",
      "metadata": {
        "id": "A_tnPRrH22pO",
        "colab_type": "code",
        "colab": {}
      },
      "source": [
        ""
      ],
      "execution_count": 0,
      "outputs": []
    },
    {
      "cell_type": "code",
      "metadata": {
        "id": "DmG3Uj7DMbhJ",
        "colab_type": "code",
        "colab": {}
      },
      "source": [
        "# Combine the Effects and Flavors in one column\n",
        "df['Combined'] = df['Effects'] + ',' + df['Flavor']\n"
      ],
      "execution_count": 0,
      "outputs": []
    },
    {
      "cell_type": "code",
      "metadata": {
        "id": "Wb1hUFEiQXrD",
        "colab_type": "code",
        "colab": {}
      },
      "source": [
        "# Instantiate vecorizer object - call tokenize\n",
        "dtm_combined_tf = TfidfVectorizer(stop_words='english')\n",
        "\n",
        "\n",
        "# dtm_combined  (vocabulary) and get word counts \n",
        "# effects and flavors combined \n",
        "dtm_combined = dtm_combined_tf.fit_transform(df['Combined'].values.astype('U'))\n",
        "dtm_combined = pd.DataFrame(dtm_combined.todense(), columns=dtm_combined_tf.get_feature_names())\n",
        "dtm_combined.head()"
      ],
      "execution_count": 0,
      "outputs": []
    },
    {
      "cell_type": "code",
      "metadata": {
        "id": "smEmTZ5ORe52",
        "colab_type": "code",
        "colab": {}
      },
      "source": [
        "# Fit on TF-IDF Vectors\n",
        "nn = NearestNeighbors(n_neighbors=5, algorithm='ball_tree')\n",
        "nn.fit(dtm_combined)"
      ],
      "execution_count": 0,
      "outputs": []
    },
    {
      "cell_type": "code",
      "metadata": {
        "id": "BIMinWmrRp4H",
        "colab_type": "code",
        "colab": {}
      },
      "source": [
        "# Practice passing a strain to the model with this string\n",
        "ideal_strain = ['Creative,Energetic,Tingly,Euphoric,Relaxed,Earthy,Sweet,Citrus']\n"
      ],
      "execution_count": 0,
      "outputs": []
    },
    {
      "cell_type": "code",
      "metadata": {
        "id": "EyPWaR-wYMoO",
        "colab_type": "code",
        "colab": {}
      },
      "source": [
        "# Query for similar strains using the test case\n",
        "new = dtm_combined_tf.transform(ideal_strain)\n",
        "results = nn.kneighbors(new.todense())"
      ],
      "execution_count": 0,
      "outputs": []
    },
    {
      "cell_type": "code",
      "metadata": {
        "id": "L7do34AQYMm3",
        "colab_type": "code",
        "colab": {}
      },
      "source": [
        "# Results are returned in a tuple of arrays\n",
        "results"
      ],
      "execution_count": 0,
      "outputs": []
    },
    {
      "cell_type": "code",
      "metadata": {
        "id": "I2rPgrI3lA9M",
        "colab_type": "code",
        "colab": {}
      },
      "source": [
        "type(results)"
      ],
      "execution_count": 0,
      "outputs": []
    },
    {
      "cell_type": "code",
      "metadata": {
        "id": "aR9PpMF7YMlS",
        "colab_type": "code",
        "colab": {}
      },
      "source": [
        "# Pull the strain name from 1st value (0) of the 1st array (0) of the 2nd tuple (1) - the 0 index\n",
        "df['Strain'][results[1][0][0]]\n"
      ],
      "execution_count": 0,
      "outputs": []
    },
    {
      "cell_type": "code",
      "metadata": {
        "id": "C4lPTojobvOa",
        "colab_type": "code",
        "colab": {}
      },
      "source": [
        "df['Combined'][results[1][0][0]]"
      ],
      "execution_count": 0,
      "outputs": []
    },
    {
      "cell_type": "code",
      "metadata": {
        "id": "DrtjNSNubvMF",
        "colab_type": "code",
        "colab": {}
      },
      "source": [
        "df['Description'][results[1][0][0]]"
      ],
      "execution_count": 0,
      "outputs": []
    },
    {
      "cell_type": "code",
      "metadata": {
        "id": "LFUpOCgSbvJh",
        "colab_type": "code",
        "colab": {}
      },
      "source": [
        ""
      ],
      "execution_count": 0,
      "outputs": []
    },
    {
      "cell_type": "markdown",
      "metadata": {
        "id": "34NqaZSwboUl",
        "colab_type": "text"
      },
      "source": [
        "### Second Value "
      ]
    },
    {
      "cell_type": "code",
      "metadata": {
        "id": "VMGgkCJGYMhK",
        "colab_type": "code",
        "colab": {}
      },
      "source": [
        "# Pull the strain name from 2nd value (1) of the 1st array (0) of the 2nd tuple (1) - the 1972 index\n",
        "df['Strain'][results[1][0][1]]"
      ],
      "execution_count": 0,
      "outputs": []
    },
    {
      "cell_type": "code",
      "metadata": {
        "id": "TwTwjUzpaLPW",
        "colab_type": "code",
        "colab": {}
      },
      "source": [
        "# Pull the criteria from 2nd value (1) of the 1st array (0) of the 2nd tuple (1) - the 1972 index\n",
        "df['Combined'][results[1][0][1]]"
      ],
      "execution_count": 0,
      "outputs": []
    },
    {
      "cell_type": "code",
      "metadata": {
        "id": "Qe2XQHC5YMeL",
        "colab_type": "code",
        "colab": {}
      },
      "source": [
        "# Pull the criteria from 2nd value (1) of the 1st array (0) of the 2nd tuple (1) - the 1972 index\n",
        "df['Description'][results[1][0][1]]"
      ],
      "execution_count": 0,
      "outputs": []
    },
    {
      "cell_type": "code",
      "metadata": {
        "colab_type": "code",
        "id": "E7fXJNKsfcF4",
        "colab": {}
      },
      "source": [
        "# Imagine doing a detailed return of information afterwards \n",
        "# #output results here, rec strains criteria and description\n",
        "# rec_str = [strains['Strain'][results[1][0][i]] for i in range(5)]\n",
        "# rec_crit = [strains['Combined'][results[1][0][i]] for i in range(5)]\n",
        "# rec_str_desc = [strains['Description'][results[1][0][i]] for i in range(5)]\n",
        "\n",
        "# rec1 = rec_str[0] + ' * ' + rec_crit[0] + ' * ' + rec_str_desc[0]\n",
        "# rec2 = rec_str[1] + ' * ' + rec_crit[1] + ' * ' + rec_str_desc[1]\n",
        "# rec3 = rec_str[2] + ' * ' + rec_crit[2] + ' * ' + rec_str_desc[2]\n",
        "# rec4 = rec_str[3] + ' * ' + rec_crit[3] + ' * ' + rec_str_desc[3]\n",
        "# rec5 = rec_str[4] + ' * ' + rec_crit[4] + ' * ' + rec_str_desc[4]\n"
      ],
      "execution_count": 0,
      "outputs": []
    },
    {
      "cell_type": "markdown",
      "metadata": {
        "id": "RrsvE1pZzn4i",
        "colab_type": "text"
      },
      "source": [
        "### Pickling step here"
      ]
    },
    {
      "cell_type": "code",
      "metadata": {
        "id": "USIl6KZOe3oa",
        "colab_type": "code",
        "colab": {}
      },
      "source": [
        "# Pickle the dtm and tf for use in the prediction\n",
        "pickle.dump(dtm_combined, open('/content/dtm_combined.pkl', 'wb'))\n",
        "pickle.dump(dtm_combined_tf, open('/content/dtm_combined_tf.pkl', 'wb'))"
      ],
      "execution_count": 0,
      "outputs": []
    },
    {
      "cell_type": "code",
      "metadata": {
        "id": "eH-wTv7pzqqD",
        "colab_type": "code",
        "colab": {}
      },
      "source": [
        ""
      ],
      "execution_count": 0,
      "outputs": []
    },
    {
      "cell_type": "markdown",
      "metadata": {
        "id": "mMtpbHkWSPUp",
        "colab_type": "text"
      },
      "source": [
        "# Effects"
      ]
    },
    {
      "cell_type": "code",
      "metadata": {
        "id": "-74HkjnWSVMH",
        "colab_type": "code",
        "colab": {}
      },
      "source": [
        "# Instantiate vecorizer object - call tokenize\n",
        "dtm_effects_tf = TfidfVectorizer(stop_words='english')\n",
        "\n",
        "\n",
        "# dtm_effects  (vocabulary) and get word counts \n",
        "# effects and flavors effects \n",
        "dtm_effects = dtm_effects_tf.fit_transform(df['Effects'].values.astype('U'))\n",
        "dtm_effects = pd.DataFrame(dtm_effects.todense(), columns=dtm_effects_tf.get_feature_names())\n",
        "dtm_effects.head()"
      ],
      "execution_count": 0,
      "outputs": []
    },
    {
      "cell_type": "code",
      "metadata": {
        "id": "B4W2Ne_-XdmN",
        "colab_type": "code",
        "colab": {}
      },
      "source": [
        "df.head()"
      ],
      "execution_count": 0,
      "outputs": []
    },
    {
      "cell_type": "markdown",
      "metadata": {
        "id": "CL3MD1Q9SSyo",
        "colab_type": "text"
      },
      "source": [
        "# Flavors"
      ]
    },
    {
      "cell_type": "code",
      "metadata": {
        "id": "ymTgOC1zS-MJ",
        "colab_type": "code",
        "colab": {}
      },
      "source": [
        "# Instantiate vecorizer object - call tokenize\n",
        "dtm_flavors_tf = TfidfVectorizer(stop_words='english')\n",
        "\n",
        "\n",
        "# dtm_flavors  (vocabulary) and get word counts \n",
        "# flavors \n",
        "dtm_flavors = dtm_flavors_tf.fit_transform(df['Flavor'].values.astype('U'))\n",
        "dtm_flavors = pd.DataFrame(dtm_flavors.todense(), columns=dtm_flavors_tf.get_feature_names())\n",
        "dtm_flavors.head()"
      ],
      "execution_count": 0,
      "outputs": []
    },
    {
      "cell_type": "markdown",
      "metadata": {
        "id": "5nJjum1ZvqGS",
        "colab_type": "text"
      },
      "source": [
        "# Leafly API EDA \n"
      ]
    },
    {
      "cell_type": "code",
      "metadata": {
        "id": "iBsKVRVbvtpP",
        "colab_type": "code",
        "colab": {}
      },
      "source": [
        "import pandas as pd "
      ],
      "execution_count": 0,
      "outputs": []
    },
    {
      "cell_type": "code",
      "metadata": {
        "id": "n3fY77Yw6IGx",
        "colab_type": "code",
        "colab": {}
      },
      "source": [
        "df = pd.read_csv(\"https://raw.githubusercontent.com/Build-Week-Med-Cabinet-6/DS/mark-dev/data/cannabis.csv\")\n",
        "df.head()"
      ],
      "execution_count": 0,
      "outputs": []
    },
    {
      "cell_type": "code",
      "metadata": {
        "id": "L_lPy4oM8FEd",
        "colab_type": "code",
        "colab": {}
      },
      "source": [
        "df.shape"
      ],
      "execution_count": 0,
      "outputs": []
    },
    {
      "cell_type": "code",
      "metadata": {
        "id": "F66Q0q4t8NwN",
        "colab_type": "code",
        "colab": {}
      },
      "source": [
        "df = df.dropna()\n"
      ],
      "execution_count": 0,
      "outputs": []
    },
    {
      "cell_type": "code",
      "metadata": {
        "id": "wvXZ9vvZ8Ql8",
        "colab_type": "code",
        "colab": {}
      },
      "source": [
        "df.shape"
      ],
      "execution_count": 0,
      "outputs": []
    },
    {
      "cell_type": "code",
      "metadata": {
        "id": "kv08GL068SKl",
        "colab_type": "code",
        "colab": {}
      },
      "source": [
        "df.describe(exclude='number')"
      ],
      "execution_count": 0,
      "outputs": []
    },
    {
      "cell_type": "code",
      "metadata": {
        "id": "BPZhHbjSkY3Z",
        "colab_type": "code",
        "colab": {}
      },
      "source": [
        "pip install https://github.com/pandas-profiling/pandas-profiling/archive/master.zip\n"
      ],
      "execution_count": 0,
      "outputs": []
    },
    {
      "cell_type": "code",
      "metadata": {
        "id": "joUifMN58rua",
        "colab_type": "code",
        "colab": {}
      },
      "source": [
        "\n",
        "import pandas_profiling\n",
        "df.profile_report()"
      ],
      "execution_count": 0,
      "outputs": []
    },
    {
      "cell_type": "code",
      "metadata": {
        "id": "zBiqcySq8wYo",
        "colab_type": "code",
        "colab": {}
      },
      "source": [
        ""
      ],
      "execution_count": 0,
      "outputs": []
    },
    {
      "cell_type": "markdown",
      "metadata": {
        "id": "WWd4YokVvChK",
        "colab_type": "text"
      },
      "source": [
        "# Kushy API "
      ]
    },
    {
      "cell_type": "code",
      "metadata": {
        "id": "XUbMm-CyVl68",
        "colab_type": "code",
        "colab": {}
      },
      "source": [
        "import pandas as pd "
      ],
      "execution_count": 0,
      "outputs": []
    },
    {
      "cell_type": "code",
      "metadata": {
        "id": "H1ZxPJP7VoF_",
        "colab_type": "code",
        "colab": {}
      },
      "source": [
        "df = pd.read_csv(\"https://raw.githubusercontent.com/kushyapp/cannabis-dataset/master/Dataset/Strains/strains-kushy_api.2017-11-14.csv\")"
      ],
      "execution_count": 0,
      "outputs": []
    },
    {
      "cell_type": "code",
      "metadata": {
        "id": "VR3ANWphVtva",
        "colab_type": "code",
        "colab": {}
      },
      "source": [
        "df.head()"
      ],
      "execution_count": 0,
      "outputs": []
    },
    {
      "cell_type": "code",
      "metadata": {
        "id": "zCh6GGddW1vJ",
        "colab_type": "code",
        "colab": {}
      },
      "source": [
        "df.shape"
      ],
      "execution_count": 0,
      "outputs": []
    },
    {
      "cell_type": "code",
      "metadata": {
        "id": "hD3qkLmxVvI6",
        "colab_type": "code",
        "colab": {}
      },
      "source": [
        "df.isnull().values.sum()"
      ],
      "execution_count": 0,
      "outputs": []
    },
    {
      "cell_type": "code",
      "metadata": {
        "id": "nN0N1j3bVych",
        "colab_type": "code",
        "colab": {}
      },
      "source": [
        "df.info()"
      ],
      "execution_count": 0,
      "outputs": []
    },
    {
      "cell_type": "code",
      "metadata": {
        "id": "4qGJ2NArWvEW",
        "colab_type": "code",
        "colab": {}
      },
      "source": [
        "# These are the columns with a percentage of missing values. \n",
        "df.isnull().sum()/len(df)*100\n"
      ],
      "execution_count": 0,
      "outputs": []
    },
    {
      "cell_type": "code",
      "metadata": {
        "id": "1p0MIHSjXAqU",
        "colab_type": "code",
        "colab": {}
      },
      "source": [
        "df.describe(exclude=\"number\")"
      ],
      "execution_count": 0,
      "outputs": []
    },
    {
      "cell_type": "code",
      "metadata": {
        "id": "dinojcUpsY50",
        "colab_type": "code",
        "colab": {}
      },
      "source": [
        "df.describe(include=\"number\")"
      ],
      "execution_count": 0,
      "outputs": []
    },
    {
      "cell_type": "code",
      "metadata": {
        "id": "fy95Mk_VuiKC",
        "colab_type": "code",
        "colab": {}
      },
      "source": [
        ""
      ],
      "execution_count": 0,
      "outputs": []
    }
  ]
}