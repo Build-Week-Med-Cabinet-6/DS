{
 "cells": [
  {
   "cell_type": "markdown",
   "metadata": {},
   "source": [
    "# looking at neobi for adding data to leafly"
   ]
  },
  {
   "cell_type": "code",
   "execution_count": 6,
   "metadata": {
    "tags": [
     "outputPrepend"
    ]
   },
   "outputs": [
    {
     "output_type": "stream",
     "name": "stdout",
     "text": "ova Vaporizer\",\"ccc\":\"60556\",\"link\":\"https://neobi.io/products?p=60556\",\"qr\":\"https://api.qrserver.com/v1/create-qr-code/?size=150x150&data=https://neobi.io/products?p=60556\",\"url\":\"https://cannabis.mynslc.com/en/products/accessories/vapourizers/1033372.aspx\",\"image\":\"cannabis.mynslc.com/en/skins/cannabis/images/Unavailable.jpg\",\"type\":\"Accessories\",\"labTest\":false,\"thc\":\"\",\"cbd\":\"\",\"price\":\"$56.29\",\"instockstatus\":\"In Stock\",\"metaDescription\":\"\",\"metaTitle\":\"\",\"eqWeight\":\"\",\"brand\":\"Premium 5\",\"currency\":\"CAD\",\"updatedAt\":\"2020-04-27T06:54:56\",\"producer\":{\"name\":\"Cannabis.myNSLC\",\"ccc\":\"248\",\"link\":\"https://neobi.io/product?i=248-1033372\",\"location\":\"\",\"image\":\"https://neobi.io/images/coming-soon.jpg\",\"phone\":\"\",\"email\":\"\",\"productCount\":\"500\"}},{\"name\":\"Pax3 Black Matte Complete\",\"ccc\":\"46634\",\"link\":\"https://neobi.io/products?p=46634\",\"qr\":\"https://api.qrserver.com/v1/create-qr-code/?size=150x150&data=https://neobi.io/products?p=46634\",\"url\":\"https://cannabis.mynslc.com/en/products/accessories/vapourizers/1032629.aspx\",\"image\":\"cannabis.mynslc.com/en/-/media/Images/Cannabis/Products/1032600/1032629/1032629_PAX3_Black_Matte_Complete.jpg\",\"type\":\"Accessories\",\"labTest\":false,\"thc\":\"\",\"cbd\":\"\",\"price\":\"$346.30\",\"instockstatus\":\"In Stock\",\"metaDescription\":\"\",\"metaTitle\":\"\",\"eqWeight\":\"\",\"brand\":\"Pax\",\"currency\":\"CAD\",\"updatedAt\":\"2020-04-27T06:54:55\",\"producer\":{\"name\":\"Cannabis.myNSLC\",\"ccc\":\"248\",\"link\":\"https://neobi.io/product?i=248-1032629\",\"location\":\"\",\"image\":\"https://neobi.io/images/coming-soon.jpg\",\"phone\":\"\",\"email\":\"\",\"productCount\":\"500\"}},{\"name\":\"Pax Era Battery\",\"ccc\":\"47330\",\"link\":\"https://neobi.io/products?p=47330\",\"qr\":\"https://api.qrserver.com/v1/create-qr-code/?size=150x150&data=https://neobi.io/products?p=47330\",\"url\":\"https://cannabis.mynslc.com/en/products/accessories/batteries/1032650.aspx\",\"image\":\"cannabis.mynslc.com/en/-/media/Images/Cannabis/Products/1032600/1032650/1032650_PAX_Era.jpg\",\"type\":\"Accessories\",\"labTest\":false,\"thc\":\"\",\"cbd\":\"\",\"price\":\"$48.30\",\"instockstatus\":\"In Stock\",\"metaDescription\":\"\",\"metaTitle\":\"\",\"eqWeight\":\"\",\"brand\":\"Pax\",\"currency\":\"CAD\",\"updatedAt\":\"2020-04-27T06:54:54\",\"producer\":{\"name\":\"Cannabis.myNSLC\",\"ccc\":\"248\",\"link\":\"https://neobi.io/product?i=248-1032650\",\"location\":\"\",\"image\":\"https://neobi.io/images/coming-soon.jpg\",\"phone\":\"\",\"email\":\"\",\"productCount\":\"500\"}},{\"name\":\"One-Hitter Slim Pipe\",\"ccc\":\"31349\",\"link\":\"https://neobi.io/products?p=31349\",\"qr\":\"https://api.qrserver.com/v1/create-qr-code/?size=150x150&data=https://neobi.io/products?p=31349\",\"url\":\"https://cannabis.mynslc.com/en/products/accessories/hand-pipes/1029632.aspx\",\"image\":\"cannabis.mynslc.com/en/-/media/Images/Cannabis/Products/1029600/1029632/1029632_A1C0_1.jpg\",\"type\":\"Accessories\",\"labTest\":false,\"thc\":\"\",\"cbd\":\"\",\"price\":\"$30.19\",\"instockstatus\":\"In Stock\",\"metaDescription\":\"\",\"metaTitle\":\"\",\"eqWeight\":\"\",\"brand\":\"Silverstick\",\"currency\":\"CAD\",\"updatedAt\":\"2020-04-27T06:54:42\",\"producer\":{\"name\":\"Cannabis.myNSLC\",\"ccc\":\"248\",\"link\":\"https://neobi.io/product?i=248-1029632\",\"location\":\"\",\"image\":\"https://neobi.io/images/coming-soon.jpg\",\"phone\":\"\",\"email\":\"\",\"productCount\":\"500\"}},{\"name\":\"Ocb Crystal Hand Roller 79Mm\",\"ccc\":\"31348\",\"link\":\"https://neobi.io/products?p=31348\",\"qr\":\"https://api.qrserver.com/v1/create-qr-code/?size=150x150&data=https://neobi.io/products?p=31348\",\"url\":\"https://cannabis.mynslc.com/en/products/accessories/papers/1030644.aspx\",\"image\":\"cannabis.mynslc.com/en/-/media/Images/Cannabis/Products/1030600/1030644/1030644_A7C0.jpg\",\"type\":\"Accessories\",\"labTest\":false,\"thc\":\"\",\"cbd\":\"\",\"price\":\"$3.96\",\"instockstatus\":\"In Stock\",\"metaDescription\":\"\",\"metaTitle\":\"\",\"eqWeight\":\"\",\"brand\":\"Ocb\",\"currency\":\"CAD\",\"updatedAt\":\"2020-04-27T06:54:41\",\"producer\":{\"name\":\"Cannabis.myNSLC\",\"ccc\":\"248\",\"link\":\"https://neobi.io/product?i=248-1030644\",\"location\":\"\",\"image\":\"https://neobi.io/images/coming-soon.jpg\",\"phone\":\"\",\"email\":\"\",\"productCount\":\"500\"}},{\"name\":\"Kolab Battery W Charger\",\"ccc\":\"47329\",\"link\":\"https://neobi.io/products?p=47329\",\"qr\":\"https://api.qrserver.com/v1/create-qr-code/?size=150x150&data=https://neobi.io/products?p=47329\",\"url\":\"https://cannabis.mynslc.com/en/products/accessories/batteries/1032891.aspx\",\"image\":\"cannabis.mynslc.com/en/-/media/Images/Cannabis/Products/1032800/1032891/1032891_Kolab_Project_Vaporizer_Battery_1.jpg\",\"type\":\"Accessories\",\"labTest\":false,\"thc\":\"\",\"cbd\":\"\",\"price\":\"$12.98\",\"instockstatus\":\"In Stock\",\"metaDescription\":\"\",\"metaTitle\":\"\",\"eqWeight\":\"\",\"brand\":\"Kolab\",\"currency\":\"CAD\",\"updatedAt\":\"2020-04-27T06:54:40\",\"producer\":{\"name\":\"Cannabis.myNSLC\",\"ccc\":\"248\",\"link\":\"https://neobi.io/product?i=248-1032891\",\"location\":\"\",\"image\":\"https://neobi.io/images/coming-soon.jpg\",\"phone\":\"\",\"email\":\"\",\"productCount\":\"500\"}},{\"name\":\"In Boost 4G 62P Humidiccant Pk\",\"ccc\":\"31346\",\"link\":\"https://neobi.io/products?p=31346\",\"qr\":\"https://api.qrserver.com/v1/create-qr-code/?size=150x150&data=https://neobi.io/products?p=31346\",\"url\":\"https://cannabis.mynslc.com/en/products/accessories/storage-containers/1029638.aspx\",\"image\":\"cannabis.mynslc.com/en/-/media/Images/Cannabis/Products/1029600/1029638/1029638_A1C1.jpg\",\"type\":\"Accessories\",\"labTest\":false,\"thc\":\"\",\"cbd\":\"\",\"price\":\"$0.99\",\"instockstatus\":\"In Stock\",\"metaDescription\":\"\",\"metaTitle\":\"\",\"eqWeight\":\"\",\"brand\":\"Integra Boost\",\"currency\":\"CAD\",\"updatedAt\":\"2020-04-27T06:54:39\",\"producer\":{\"name\":\"Cannabis.myNSLC\",\"ccc\":\"248\",\"link\":\"https://neobi.io/product?i=248-1029638\",\"location\":\"\",\"image\":\"https://neobi.io/images/coming-soon.jpg\",\"phone\":\"\",\"email\":\"\",\"productCount\":\"500\"}},{\"name\":\"Journey Pipe 3 Silver W Case\",\"ccc\":\"31347\",\"link\":\"https://neobi.io/products?p=31347\",\"qr\":\"https://api.qrserver.com/v1/create-qr-code/?size=150x150&data=https://neobi.io/products?p=31347\",\"url\":\"https://cannabis.mynslc.com/en/products/accessories/hand-pipes/1030147.aspx\",\"image\":\"cannabis.mynslc.com/en/-/media/Images/Cannabis/Products/1030100/1030147/1030147_A1C0.jpg\",\"type\":\"Accessories\",\"labTest\":false,\"thc\":\"\",\"cbd\":\"\",\"price\":\"$38.81\",\"instockstatus\":\"In Stock\",\"metaDescription\":\"\",\"metaTitle\":\"\",\"eqWeight\":\"\",\"brand\":\"Journey Pipe\",\"currency\":\"CAD\",\"updatedAt\":\"2020-04-27T06:54:39\",\"producer\":{\"name\":\"Cannabis.myNSLC\",\"ccc\":\"248\",\"link\":\"https://neobi.io/product?i=248-1030147\",\"location\":\"\",\"image\":\"https://neobi.io/images/coming-soon.jpg\",\"phone\":\"\",\"email\":\"\",\"productCount\":\"500\"}},{\"name\":\"Hera 2 Vapourizer\",\"ccc\":\"31345\",\"link\":\"https://neobi.io/products?p=31345\",\"qr\":\"https://api.qrserver.com/v1/create-qr-code/?size=150x150&data=https://neobi.io/products?p=31345\",\"url\":\"https://cannabis.mynslc.com/en/products/accessories/vapourizers/1029621.aspx\",\"image\":\"cannabis.mynslc.com/en/-/media/Images/Cannabis/Products/1029600/1029621/1029621_A1C1.jpg\",\"type\":\"Accessories\",\"labTest\":false,\"thc\":\"\",\"cbd\":\"\",\"price\":\"$257.02\",\"instockstatus\":\"In Stock\",\"metaDescription\":\"\",\"metaTitle\":\"\",\"eqWeight\":\"\",\"brand\":\"Hera\",\"currency\":\"CAD\",\"updatedAt\":\"2020-04-27T06:54:38\",\"producer\":{\"name\":\"Cannabis.myNSLC\",\"ccc\":\"248\",\"link\":\"https://neobi.io/product?i=248-1029621\",\"location\":\"\",\"image\":\"https://neobi.io/images/coming-soon.jpg\",\"phone\":\"\",\"email\":\"\",\"productCount\":\"500\"}},{\"name\":\"Grav Labs 4In Spoon Green\",\"ccc\":\"35178\",\"link\":\"https://neobi.io/products?p=35178\",\"qr\":\"https://api.qrserver.com/v1/create-qr-code/?size=150x150&data=https://neobi.io/products?p=35178\",\"url\":\"https://cannabis.mynslc.com/en/products/accessories/hand-pipes/1031633.aspx\",\"image\":\"cannabis.mynslc.com/en/-/media/Images/Cannabis/Products/1031600/1031633/1031633_A1C0.jpg\",\"type\":\"Accessories\",\"labTest\":false,\"thc\":\"\",\"cbd\":\"\",\"price\":\"$20.53\",\"instockstatus\":\"In Stock\",\"metaDescription\":\"\",\"metaTitle\":\"\",\"eqWeight\":\"\",\"brand\":\"Grav Labs\",\"currency\":\"CAD\",\"updatedAt\":\"2020-04-27T06:54:37\",\"producer\":{\"name\":\"Cannabis.myNSLC\",\"ccc\":\"248\",\"link\":\"https://neobi.io/product?i=248-1031633\",\"location\":\"\",\"image\":\"https://neobi.io/images/coming-soon.jpg\",\"phone\":\"\",\"email\":\"\",\"productCount\":\"500\"}},{\"name\":\"Grav Labs 3In 9Mm Taster Clear Inhaler\",\"ccc\":\"31344\",\"link\":\"https://neobi.io/products?p=31344\",\"qr\":\"https://api.qrserver.com/v1/create-qr-code/?size=150x150&data=https://neobi.io/products?p=31344\",\"url\":\"https://cannabis.mynslc.com/en/products/accessories/hand-pipes/1030268.aspx\",\"image\":\"cannabis.mynslc.com/en/-/media/Images/Cannabis/Products/1030200/1030268/1030268_A1C1.jpg\",\"type\":\"Accessories\",\"labTest\":false,\"thc\":\"\",\"cbd\":\"\",\"price\":\"$5.18\",\"instockstatus\":\"In Stock\",\"metaDescription\":\"\",\"metaTitle\":\"\",\"eqWeight\":\"\",\"brand\":\"Grav Labs\",\"currency\":\"CAD\",\"updatedAt\":\"2020-04-27T06:54:36\",\"producer\":{\"name\":\"Cannabis.myNSLC\",\"ccc\":\"248\",\"link\":\"https://neobi.io/product?i=248-1030268\",\"location\":\"\",\"image\":\"https://neobi.io/images/coming-soon.jpg\",\"phone\":\"\",\"email\":\"\",\"productCount\":\"500\"}},{\"name\":\"GR8TR V2 Series Grinder\",\"ccc\":\"31342\",\"link\":\"https://neobi.io/products?p=31342\",\"qr\":\"https://api.qrserver.com/v1/create-qr-code/?size=150x150&data=https://neobi.io/products?p=31342\",\"url\":\"https://cannabis.mynslc.com/en/products/accessories/grinders/1029625.aspx\",\"image\":\"cannabis.mynslc.com/en/-/media/Images/Cannabis/Products/1029600/1029625/1029625_A1C0.jpg\",\"type\":\"Accessories\",\"labTest\":false,\"thc\":\"\",\"cbd\":\"\",\"price\":\"$75.13\",\"instockstatus\":\"In Stock\",\"metaDescription\":\"\",\"metaTitle\":\"\",\"eqWeight\":\"\",\"brand\":\"Kannastor\",\"currency\":\"CAD\",\"updatedAt\":\"2020-04-27T06:54:35\",\"producer\":{\"name\":\"Cannabis.myNSLC\",\"ccc\":\"248\",\"link\":\"https://neobi.io/product?i=248-1029625\",\"location\":\"\",\"image\":\"https://neobi.io/images/coming-soon.jpg\",\"phone\":\"\",\"email\":\"\",\"productCount\":\"500\"}},{\"name\":\"Futurola Pre-Roll Slim Sz 3 Cones\",\"ccc\":\"31341\",\"link\":\"https://neobi.io/products?p=31341\",\"qr\":\"https://api.qrserver.com/v1/create-qr-code/?size=150x150&data=https://neobi.io/products?p=31341\",\"url\":\"https://cannabis.mynslc.com/en/products/accessories/papers/1030649.aspx\",\"image\":\"cannabis.mynslc.com/en/-/media/Images/Cannabis/Products/1030600/1030649/1030649_A1C1.jpg\",\"type\":\"Accessories\",\"labTest\":false,\"thc\":\"\",\"cbd\":\"\",\"price\":\"$2.50\",\"instockstatus\":\"In Stock\",\"metaDescription\":\"\",\"metaTitle\":\"\",\"eqWeight\":\"\",\"brand\":\"Futurola\",\"currency\":\"CAD\",\"updatedAt\":\"2020-04-27T06:54:34\",\"producer\":{\"name\":\"Cannabis.myNSLC\",\"ccc\":\"248\",\"link\":\"https://neobi.io/product?i=248-1030649\",\"location\":\"\",\"image\":\"https://neobi.io/images/coming-soon.jpg\",\"phone\":\"\",\"email\":\"\",\"productCount\":\"500\"}},{\"name\":\"Doobtool Case &amp\\'\\' Multi Tool\",\"ccc\":\"45346\",\"link\":\"https://neobi.io/products?p=45346\",\"qr\":\"https://api.qrserver.com/v1/create-qr-code/?size=150x150&data=https://neobi.io/products?p=45346\",\"url\":\"https://cannabis.mynslc.com/en/products/accessories/grinders/1032622.aspx\",\"image\":\"cannabis.mynslc.com/en/-/media/Images/Cannabis/Products/1032600/1032622/1032622_doobtool_cannabiscasmultitool.jpg\",\"type\":\"Accessories\",\"labTest\":false,\"thc\":\"\",\"cbd\":\"\",\"price\":\"$43.49\",\"instockstatus\":\"In Stock\",\"metaDescription\":\"\",\"metaTitle\":\"\",\"eqWeight\":\"\",\"brand\":\"Doobtool\",\"currency\":\"CAD\",\"updatedAt\":\"2020-04-27T06:54:33\",\"producer\":{\"name\":\"Cannabis.myNSLC\",\"ccc\":\"248\",\"link\":\"https://neobi.io/product?i=248-1032622\",\"location\":\"\",\"image\":\"https://neobi.io/images/coming-soon.jpg\",\"phone\":\"\",\"email\":\"\",\"productCount\":\"500\"}},{\"name\":\"Concentrate Taster Grav Clear\",\"ccc\":\"59661\",\"link\":\"https://neobi.io/products?p=59661\",\"qr\":\"https://api.qrserver.com/v1/create-qr-code/?size=150x150&data=https://neobi.io/products?p=59661\",\"url\":\"https://cannabis.mynslc.com/en/products/accessories/hand-pipes/1032934.aspx\",\"image\":\"cannabis.mynslc.com/en/skins/cannabis/images/Unavailable.jpg\",\"type\":\"Accessories\",\"labTest\":false,\"thc\":\"\",\"cbd\":\"\",\"price\":\"$14.98\",\"instockstatus\":\"In Stock\",\"metaDescription\":\"\",\"metaTitle\":\"\",\"eqWeight\":\"\",\"brand\":\"Grav\",\"currency\":\"CAD\",\"updatedAt\":\"2020-04-27T06:54:32\",\"producer\":{\"name\":\"Cannabis.myNSLC\",\"ccc\":\"248\",\"link\":\"https://neobi.io/product?i=248-1032934\",\"location\":\"\",\"image\":\"https://neobi.io/images/coming-soon.jpg\",\"phone\":\"\",\"email\":\"\",\"productCount\":\"500\"}},{\"name\":\"Ccell Palm Battery\",\"ccc\":\"47326\",\"link\":\"https://neobi.io/products?p=47326\",\"qr\":\"https://api.qrserver.com/v1/create-qr-code/?size=150x150&data=https://neobi.io/products?p=47326\",\"url\":\"https://cannabis.mynslc.com/en/products/accessories/batteries/1032647.aspx\",\"image\":\"cannabis.mynslc.com/en/skins/cannabis/images/Unavailable.jpg\",\"type\":\"Accessories\",\"labTest\":false,\"thc\":\"\",\"cbd\":\"\",\"price\":\"$34.50\",\"instockstatus\":\"In Stock\",\"metaDescription\":\"\",\"metaTitle\":\"\",\"eqWeight\":\"\",\"brand\":\"Ccell\",\"currency\":\"CAD\",\"updatedAt\":\"2020-04-27T06:54:31\",\"producer\":{\"name\":\"Cannabis.myNSLC\",\"ccc\":\"248\",\"link\":\"https://neobi.io/product?i=248-1032647\",\"location\":\"\",\"image\":\"https://neobi.io/images/coming-soon.jpg\",\"phone\":\"\",\"email\":\"\",\"productCount\":\"500\"}},{\"name\":\"Ccell M3 Battery\",\"ccc\":\"47325\",\"link\":\"https://neobi.io/products?p=47325\",\"qr\":\"https://api.qrserver.com/v1/create-qr-code/?size=150x150&data=https://neobi.io/products?p=47325\",\"url\":\"https://cannabis.mynslc.com/en/products/accessories/batteries/1032646.aspx\",\"image\":\"cannabis.mynslc.com/en/skins/cannabis/images/Unavailable.jpg\",\"type\":\"Accessories\",\"labTest\":false,\"thc\":\"\",\"cbd\":\"\",\"price\":\"$10.35\",\"instockstatus\":\"In Stock\",\"metaDescription\":\"\",\"metaTitle\":\"\",\"eqWeight\":\"\",\"brand\":\"Ccell\",\"currency\":\"CAD\",\"updatedAt\":\"2020-04-27T06:54:30\",\"producer\":{\"name\":\"Cannabis.myNSLC\",\"ccc\":\"248\",\"link\":\"https://neobi.io/product?i=248-1032646\",\"location\":\"\",\"image\":\"https://neobi.io/images/coming-soon.jpg\",\"phone\":\"\",\"email\":\"\",\"productCount\":\"500\"}},{\"name\":\"Canadian Lumber Woods 1.25 Papers\",\"ccc\":\"31340\",\"link\":\"https://neobi.io/products?p=31340\",\"qr\":\"https://api.qrserver.com/v1/create-qr-code/?size=150x150&data=https://neobi.io/products?p=31340\",\"url\":\"https://cannabis.mynslc.com/en/products/accessories/papers/1029635.aspx\",\"image\":\"cannabis.mynslc.com/en/-/media/Images/Cannabis/Products/1029600/1029635/1029635_A7C0.jpg\",\"type\":\"Accessories\",\"labTest\":false,\"thc\":\"\",\"cbd\":\"\",\"price\":\"$2.50\",\"instockstatus\":\"In Stock\",\"metaDescription\":\"\",\"metaTitle\":\"\",\"eqWeight\":\"\",\"brand\":\"Canadian Lumber\",\"currency\":\"CAD\",\"updatedAt\":\"2020-04-27T06:54:29\",\"producer\":{\"name\":\"Cannabis.myNSLC\",\"ccc\":\"248\",\"link\":\"https://neobi.io/product?i=248-1029635\",\"location\":\"\",\"image\":\"https://neobi.io/images/coming-soon.jpg\",\"phone\":\"\",\"email\":\"\",\"productCount\":\"500\"}},{\"name\":\"Canadian Lumber Hippy 1.25 Papers\",\"ccc\":\"31339\",\"link\":\"https://neobi.io/products?p=31339\",\"qr\":\"https://api.qrserver.com/v1/create-qr-code/?size=150x150&data=https://neobi.io/products?p=31339\",\"url\":\"https://cannabis.mynslc.com/en/products/accessories/papers/1029634.aspx\",\"image\":\"cannabis.mynslc.com/en/-/media/Images/Cannabis/Products/1029600/1029634/1029634_A7C0.jpg\",\"type\":\"Accessories\",\"labTest\":false,\"thc\":\"\",\"cbd\":\"\",\"price\":\"$2.50\",\"instockstatus\":\"In Stock\",\"metaDescription\":\"\",\"metaTitle\":\"\",\"eqWeight\":\"\",\"brand\":\"Canadian Lumber\",\"currency\":\"CAD\",\"updatedAt\":\"2020-04-27T06:54:28\",\"producer\":{\"name\":\"Cannabis.myNSLC\",\"ccc\":\"248\",\"link\":\"https://neobi.io/product?i=248-1029634\",\"location\":\"\",\"image\":\"https://neobi.io/images/coming-soon.jpg\",\"phone\":\"\",\"email\":\"\",\"productCount\":\"500\"}},{\"name\":\"Canadian Lumber Greens 1.25 Papers\",\"ccc\":\"31338\",\"link\":\"https://neobi.io/products?p=31338\",\"qr\":\"https://api.qrserver.com/v1/create-qr-code/?size=150x150&data=https://neobi.io/products?p=31338\",\"url\":\"https://cannabis.mynslc.com/en/products/accessories/papers/1029633.aspx\",\"image\":\"cannabis.mynslc.com/en/-/media/Images/Cannabis/Products/1029600/1029633/1029633_A7C0.jpg\",\"type\":\"Accessories\",\"labTest\":false,\"thc\":\"\",\"cbd\":\"\",\"price\":\"$2.50\",\"instockstatus\":\"In Stock\",\"metaDescription\":\"\",\"metaTitle\":\"\",\"eqWeight\":\"\",\"brand\":\"Canadian Lumber\",\"currency\":\"CAD\",\"updatedAt\":\"2020-04-27T06:54:27\",\"producer\":{\"name\":\"Cannabis.myNSLC\",\"ccc\":\"248\",\"link\":\"https://neobi.io/product?i=248-1029633\",\"location\":\"\",\"image\":\"https://neobi.io/images/coming-soon.jpg\",\"phone\":\"\",\"email\":\"\",\"productCount\":\"500\"}},{\"name\":\"Boundless Terp Pen Silver\",\"ccc\":\"59660\",\"link\":\"https://neobi.io/products?p=59660\",\"qr\":\"https://api.qrserver.com/v1/create-qr-code/?size=150x150&data=https://neobi.io/products?p=59660\",\"url\":\"https://cannabis.mynslc.com/en/products/accessories/vapourizers/1032935.aspx\",\"image\":\"cannabis.mynslc.com/en/skins/cannabis/images/Unavailable.jpg\",\"type\":\"Accessories\",\"labTest\":false,\"thc\":\"\",\"cbd\":\"\",\"price\":\"$39.99\",\"instockstatus\":\"In Stock\",\"metaDescription\":\"\",\"metaTitle\":\"\",\"eqWeight\":\"\",\"brand\":\"Boundless\",\"currency\":\"CAD\",\"updatedAt\":\"2020-04-27T06:54:26\",\"producer\":{\"name\":\"Cannabis.myNSLC\",\"ccc\":\"248\",\"link\":\"https://neobi.io/product?i=248-1032935\",\"location\":\"\",\"image\":\"https://neobi.io/images/coming-soon.jpg\",\"phone\":\"\",\"email\":\"\",\"productCount\":\"500\"}},{\"name\":\"Bamboo Poker Box w/ Matching Taster Bat\",\"ccc\":\"31337\",\"link\":\"https://neobi.io/products?p=31337\",\"qr\":\"https://api.qrserver.com/v1/create-qr-code/?size=150x150&data=https://neobi.io/products?p=31337\",\"url\":\"https://cannabis.mynslc.com/en/products/accessories/hand-pipes/1029631.aspx\",\"image\":\"cannabis.mynslc.com/en/-/media/Images/Cannabis/Products/1029600/1029631/1029631_A1C0.jpg\",\"type\":\"Accessories\",\"labTest\":false,\"thc\":\"\",\"cbd\":\"\",\"price\":\"$25.70\",\"instockstatus\":\"In Stock\",\"metaDescription\":\"\",\"metaTitle\":\"\",\"eqWeight\":\"\",\"brand\":\"Ryot\",\"currency\":\"CAD\",\"updatedAt\":\"2020-04-27T06:54:25\",\"producer\":{\"name\":\"Cannabis.myNSLC\",\"ccc\":\"248\",\"link\":\"https://neobi.io/product?i=248-1029631\",\"location\":\"\",\"image\":\"https://neobi.io/images/coming-soon.jpg\",\"phone\":\"\",\"email\":\"\",\"productCount\":\"500\"}},{\"name\":\"APX V2 Vapourizer\",\"ccc\":\"31336\",\"link\":\"https://neobi.io/products?p=31336\",\"qr\":\"https://api.qrserver.com/v1/create-qr-code/?size=150x150&data=https://neobi.io/products?p=31336\",\"url\":\"https://cannabis.mynslc.com/en/products/accessories/vapourizers/1029619.aspx\",\"image\":\"cannabis.mynslc.com/en/-/media/Images/Cannabis/Products/1029600/1029619/1029619_A1C1_1.jpg\",\"type\":\"Accessories\",\"labTest\":false,\"thc\":\"\",\"cbd\":\"\",\"price\":\"$98.00\",\"instockstatus\":\"In Stock\",\"metaDescription\":\"\",\"metaTitle\":\"\",\"eqWeight\":\"\",\"brand\":\"Pulsar\",\"currency\":\"CAD\",\"updatedAt\":\"2020-04-27T06:54:24\",\"producer\":{\"name\":\"Cannabis.myNSLC\",\"ccc\":\"248\",\"link\":\"https://neobi.io/product?i=248-1029619\",\"location\":\"\",\"image\":\"https://neobi.io/images/coming-soon.jpg\",\"phone\":\"\",\"email\":\"\",\"productCount\":\"500\"}},{\"name\":\"50Ml Luky8 Cannabis Odor Elim Spry\",\"ccc\":\"60008\",\"link\":\"https://neobi.io/products?p=60008\",\"qr\":\"https://api.qrserver.com/v1/create-qr-code/?size=150x150&data=https://neobi.io/products?p=60008\",\"url\":\"https://cannabis.mynslc.com/en/products/accessories/papers/1033587.aspx\",\"image\":\"cannabis.mynslc.com/en/skins/cannabis/images/Unavailable.jpg\",\"type\":\"Accessories\",\"labTest\":false,\"thc\":\"\",\"cbd\":\"\",\"price\":\"$10.99\",\"instockstatus\":\"In Stock\",\"metaDescription\":\"\",\"metaTitle\":\"\",\"eqWeight\":\"\",\"brand\":\"Luky8\",\"currency\":\"CAD\",\"updatedAt\":\"2020-04-27T06:54:23\",\"producer\":{\"name\":\"Cannabis.myNSLC\",\"ccc\":\"248\",\"link\":\"https://neobi.io/product?i=248-1033587\",\"location\":\"\",\"image\":\"https://neobi.io/images/coming-soon.jpg\",\"phone\":\"\",\"email\":\"\",\"productCount\":\"500\"}},{\"name\":\"4-Piece Grinder\",\"ccc\":\"31335\",\"link\":\"https://neobi.io/products?p=31335\",\"qr\":\"https://api.qrserver.com/v1/create-qr-code/?size=150x150&data=https://neobi.io/products?p=31335\",\"url\":\"https://cannabis.mynslc.com/en/products/accessories/grinders/1029624.aspx\",\"image\":\"cannabis.mynslc.com/en/-/media/Images/Cannabis/Products/1029600/1029624/1029624_A1C1_1.jpg\",\"type\":\"Accessories\",\"labTest\":false,\"thc\":\"\",\"cbd\":\"\",\"price\":\"$31.91\",\"instockstatus\":\"In Stock\",\"metaDescription\":\"\",\"metaTitle\":\"\",\"eqWeight\":\"\",\"brand\":\"Kannastor\",\"currency\":\"CAD\",\"updatedAt\":\"2020-04-27T06:54:22\",\"producer\":{\"name\":\"Cannabis.myNSLC\",\"ccc\":\"248\",\"link\":\"https://neobi.io/product?i=248-1029624\",\"location\":\"\",\"image\":\"https://neobi.io/images/coming-soon.jpg\",\"phone\":\"\",\"email\":\"\",\"productCount\":\"500\"}}]'\n"
    }
   ],
   "source": [
    "import base64\n",
    "from http import client\n",
    "from urllib import request, parse, error\n",
    "from os import getenv\n",
    "from os import path\n",
    "from dotenv import load_dotenv\n",
    "from bs4 import BeautifulSoup\n",
    "# custom error to define that we can't co0nnect to the api\n",
    "from app.utils.exceptions import APIError\n",
    "\n",
    "class thirdpart_requester():\n",
    "    def __init__(self):\n",
    "        \"\"\"sets the api key and fits it to the header\n",
    "        \"\"\"\n",
    "        load_dotenv()\n",
    "        # pass the api key to the api\n",
    "        self.headers = {\n",
    "            # Request headers\n",
    "            'Ocp-Apim-Subscription-Key': getenv(\"API_KEY\")}\n",
    "        return\n",
    "    def setEndPoint(self,APIEnpoint:str):\n",
    "        \"\"\"Set the endpoint for the api to use\n",
    "\n",
    "        \"\"\"\n",
    "        self.ENDPOINT = APIEnpoint\n",
    "    def setParams(self,params:dict)\n",
    "        self.PARAMS = params\n",
    "    def connect(self)\n",
    "        pass\n",
    "    def _encodeparams(self):\n",
    "        params = parse.urlencode({\n",
    "            # Request parameters\n",
    "            #'page': '{integer}',\n",
    "            #'count': '200',\n",
    "            #'sort': '{string}',\n",
    "            #'thc': '{string}',\n",
    "            #'location': '{string}',\n",
    "            #'htmlDescription': '{boolean}',\n",
    "            #'active': '{string}',\n",
    "        })\n",
    "try:\n",
    "    conn = client.HTTPSConnection('neobi.azure-api.net')\n",
    "    conn.request(\"GET\", \"/stage/api/products?%s\" % params, \"{body}\", headers)\n",
    "    response = conn.getresponse()\n",
    "    data = response.read()\n",
    "    \n",
    "    conn.close()\n",
    "except Exception as e:\n",
    "    print(\"[Errno {0}] {1}\".format(e.errno, e.strerror))\n"
   ]
  },
  {
   "cell_type": "markdown",
   "metadata": {},
   "source": [
    "# Looking at the leafly dataset"
   ]
  },
  {
   "cell_type": "code",
   "execution_count": 8,
   "metadata": {},
   "outputs": [
    {
     "output_type": "stream",
     "name": "stdout",
     "text": "/home/joe/Desktop/school/ds-project/app\n"
    }
   ],
   "source": [
    "!pwd"
   ]
  },
  {
   "cell_type": "code",
   "execution_count": 13,
   "metadata": {},
   "outputs": [
    {
     "output_type": "stream",
     "name": "stdout",
     "text": "\u001b[1;34m data\u001b[0m\n├── \u001b[1;34m kushy\u001b[0m\n│  ├── \u001b[1;34m Brands\u001b[0m\n│  │  ├── \u001b[1;32m brands-kushy_api.2017-11-14.csv\u001b[0m\n│  │  └── \u001b[1;32m brands-kushy_api.2017-11-14.sql.gz\u001b[0m\n│  ├── \u001b[1;34m Products\u001b[0m\n│  │  ├── \u001b[1;32m products-kushy_api.2017-11-14.csv\u001b[0m\n│  │  └── \u001b[1;32m products-kushy_api.2017-11-14.sql.gz\u001b[0m\n│  ├── \u001b[1;34m Shops\u001b[0m\n│  │  ├── \u001b[1;32m shops-kushy_api.2017-11-14.csv\u001b[0m\n│  │  └── \u001b[1;32m shops-kushy_api.2017-11-14.sql.gz\u001b[0m\n│  └── \u001b[1;34m Strains\u001b[0m\n│     ├── \u001b[1;32m strains-kushy_api.2017-11-14.csv\u001b[0m\n│     └── \u001b[1;32m strains-kushy_api.2017-11-14.sql.gz\u001b[0m\n├── \u001b[1;34m leafly\u001b[0m\n│  └── \u001b[1;32m cannabis.csv\u001b[0m\n├── \u001b[1;34m neobi\u001b[0m\n└── \u001b[1;32m pull_sets.sh\u001b[0m\n"
    }
   ],
   "source": [
    "!lsd --tree ../data/"
   ]
  },
  {
   "cell_type": "code",
   "execution_count": 14,
   "metadata": {},
   "outputs": [
    {
     "output_type": "stream",
     "name": "stdout",
     "text": "/home/joe/Desktop/school/ds-project/data\n"
    }
   ],
   "source": [
    "%cd ../data"
   ]
  },
  {
   "cell_type": "code",
   "execution_count": 15,
   "metadata": {},
   "outputs": [],
   "source": [
    "import pandas as pd"
   ]
  },
  {
   "cell_type": "code",
   "execution_count": 16,
   "metadata": {},
   "outputs": [],
   "source": [
    "df = pd.read_csv(\"./leafly/cannabis.csv\")"
   ]
  },
  {
   "cell_type": "code",
   "execution_count": 17,
   "metadata": {},
   "outputs": [
    {
     "output_type": "execute_result",
     "data": {
      "text/plain": "           Strain    Type  Rating                                     Effects  \\\n0          100-Og  hybrid     4.0  Creative,Energetic,Tingly,Euphoric,Relaxed   \n1  98-White-Widow  hybrid     4.7    Relaxed,Aroused,Creative,Happy,Energetic   \n2            1024  sativa     4.4   Uplifted,Happy,Relaxed,Energetic,Creative   \n3        13-Dawgs  hybrid     4.2     Tingly,Creative,Hungry,Relaxed,Uplifted   \n4        24K-Gold  hybrid     4.6   Happy,Relaxed,Euphoric,Uplifted,Talkative   \n\n                      Flavor  \\\n0        Earthy,Sweet,Citrus   \n1      Flowery,Violet,Diesel   \n2    Spicy/Herbal,Sage,Woody   \n3  Apricot,Citrus,Grapefruit   \n4       Citrus,Earthy,Orange   \n\n                                         Description  \n0  $100 OG is a 50/50 hybrid strain that packs a ...  \n1  The ‘98 Aloha White Widow is an especially pot...  \n2  1024 is a sativa-dominant hybrid bred in Spain...  \n3  13 Dawgs is a hybrid of G13 and Chemdawg genet...  \n4  Also known as Kosher Tangie, 24k Gold is a 60%...  ",
      "text/html": "<div>\n<style scoped>\n    .dataframe tbody tr th:only-of-type {\n        vertical-align: middle;\n    }\n\n    .dataframe tbody tr th {\n        vertical-align: top;\n    }\n\n    .dataframe thead th {\n        text-align: right;\n    }\n</style>\n<table border=\"1\" class=\"dataframe\">\n  <thead>\n    <tr style=\"text-align: right;\">\n      <th></th>\n      <th>Strain</th>\n      <th>Type</th>\n      <th>Rating</th>\n      <th>Effects</th>\n      <th>Flavor</th>\n      <th>Description</th>\n    </tr>\n  </thead>\n  <tbody>\n    <tr>\n      <th>0</th>\n      <td>100-Og</td>\n      <td>hybrid</td>\n      <td>4.0</td>\n      <td>Creative,Energetic,Tingly,Euphoric,Relaxed</td>\n      <td>Earthy,Sweet,Citrus</td>\n      <td>$100 OG is a 50/50 hybrid strain that packs a ...</td>\n    </tr>\n    <tr>\n      <th>1</th>\n      <td>98-White-Widow</td>\n      <td>hybrid</td>\n      <td>4.7</td>\n      <td>Relaxed,Aroused,Creative,Happy,Energetic</td>\n      <td>Flowery,Violet,Diesel</td>\n      <td>The ‘98 Aloha White Widow is an especially pot...</td>\n    </tr>\n    <tr>\n      <th>2</th>\n      <td>1024</td>\n      <td>sativa</td>\n      <td>4.4</td>\n      <td>Uplifted,Happy,Relaxed,Energetic,Creative</td>\n      <td>Spicy/Herbal,Sage,Woody</td>\n      <td>1024 is a sativa-dominant hybrid bred in Spain...</td>\n    </tr>\n    <tr>\n      <th>3</th>\n      <td>13-Dawgs</td>\n      <td>hybrid</td>\n      <td>4.2</td>\n      <td>Tingly,Creative,Hungry,Relaxed,Uplifted</td>\n      <td>Apricot,Citrus,Grapefruit</td>\n      <td>13 Dawgs is a hybrid of G13 and Chemdawg genet...</td>\n    </tr>\n    <tr>\n      <th>4</th>\n      <td>24K-Gold</td>\n      <td>hybrid</td>\n      <td>4.6</td>\n      <td>Happy,Relaxed,Euphoric,Uplifted,Talkative</td>\n      <td>Citrus,Earthy,Orange</td>\n      <td>Also known as Kosher Tangie, 24k Gold is a 60%...</td>\n    </tr>\n  </tbody>\n</table>\n</div>"
     },
     "metadata": {},
     "execution_count": 17
    }
   ],
   "source": [
    "df.head()"
   ]
  },
  {
   "cell_type": "code",
   "execution_count": 19,
   "metadata": {},
   "outputs": [
    {
     "output_type": "execute_result",
     "data": {
      "text/plain": "Strain          0\nType            0\nRating          0\nEffects         0\nFlavor         46\nDescription    33\ndtype: int64"
     },
     "metadata": {},
     "execution_count": 19
    }
   ],
   "source": [
    "df.isnull().sum()"
   ]
  },
  {
   "cell_type": "code",
   "execution_count": 24,
   "metadata": {},
   "outputs": [],
   "source": [
    "# drop na rows from dataset\n",
    "df.dropna(inplace=True)"
   ]
  },
  {
   "cell_type": "code",
   "execution_count": 34,
   "metadata": {},
   "outputs": [
    {
     "output_type": "execute_result",
     "data": {
      "text/plain": "           Strain    Type  Rating                                     Effects  \\\n0          100-Og  hybrid     4.0  Creative,Energetic,Tingly,Euphoric,Relaxed   \n1  98-White-Widow  hybrid     4.7    Relaxed,Aroused,Creative,Happy,Energetic   \n2            1024  sativa     4.4   Uplifted,Happy,Relaxed,Energetic,Creative   \n3        13-Dawgs  hybrid     4.2     Tingly,Creative,Hungry,Relaxed,Uplifted   \n4        24K-Gold  hybrid     4.6   Happy,Relaxed,Euphoric,Uplifted,Talkative   \n\n                      Flavor  \\\n0        Earthy,Sweet,Citrus   \n1      Flowery,Violet,Diesel   \n2    Spicy/Herbal,Sage,Woody   \n3  Apricot,Citrus,Grapefruit   \n4       Citrus,Earthy,Orange   \n\n                                         Description  \n0  $100 OG is a 50/50 hybrid strain that packs a ...  \n1  The ‘98 Aloha White Widow is an especially pot...  \n2  1024 is a sativa-dominant hybrid bred in Spain...  \n3  13 Dawgs is a hybrid of G13 and Chemdawg genet...  \n4  Also known as Kosher Tangie, 24k Gold is a 60%...  ",
      "text/html": "<div>\n<style scoped>\n    .dataframe tbody tr th:only-of-type {\n        vertical-align: middle;\n    }\n\n    .dataframe tbody tr th {\n        vertical-align: top;\n    }\n\n    .dataframe thead th {\n        text-align: right;\n    }\n</style>\n<table border=\"1\" class=\"dataframe\">\n  <thead>\n    <tr style=\"text-align: right;\">\n      <th></th>\n      <th>Strain</th>\n      <th>Type</th>\n      <th>Rating</th>\n      <th>Effects</th>\n      <th>Flavor</th>\n      <th>Description</th>\n    </tr>\n  </thead>\n  <tbody>\n    <tr>\n      <th>0</th>\n      <td>100-Og</td>\n      <td>hybrid</td>\n      <td>4.0</td>\n      <td>Creative,Energetic,Tingly,Euphoric,Relaxed</td>\n      <td>Earthy,Sweet,Citrus</td>\n      <td>$100 OG is a 50/50 hybrid strain that packs a ...</td>\n    </tr>\n    <tr>\n      <th>1</th>\n      <td>98-White-Widow</td>\n      <td>hybrid</td>\n      <td>4.7</td>\n      <td>Relaxed,Aroused,Creative,Happy,Energetic</td>\n      <td>Flowery,Violet,Diesel</td>\n      <td>The ‘98 Aloha White Widow is an especially pot...</td>\n    </tr>\n    <tr>\n      <th>2</th>\n      <td>1024</td>\n      <td>sativa</td>\n      <td>4.4</td>\n      <td>Uplifted,Happy,Relaxed,Energetic,Creative</td>\n      <td>Spicy/Herbal,Sage,Woody</td>\n      <td>1024 is a sativa-dominant hybrid bred in Spain...</td>\n    </tr>\n    <tr>\n      <th>3</th>\n      <td>13-Dawgs</td>\n      <td>hybrid</td>\n      <td>4.2</td>\n      <td>Tingly,Creative,Hungry,Relaxed,Uplifted</td>\n      <td>Apricot,Citrus,Grapefruit</td>\n      <td>13 Dawgs is a hybrid of G13 and Chemdawg genet...</td>\n    </tr>\n    <tr>\n      <th>4</th>\n      <td>24K-Gold</td>\n      <td>hybrid</td>\n      <td>4.6</td>\n      <td>Happy,Relaxed,Euphoric,Uplifted,Talkative</td>\n      <td>Citrus,Earthy,Orange</td>\n      <td>Also known as Kosher Tangie, 24k Gold is a 60%...</td>\n    </tr>\n  </tbody>\n</table>\n</div>"
     },
     "metadata": {},
     "execution_count": 34
    }
   ],
   "source": [
    "df.head()\n"
   ]
  },
  {
   "cell_type": "code",
   "execution_count": 35,
   "metadata": {},
   "outputs": [],
   "source": [
    "# make the flacors and effects into list's instead of strings\n",
    "def split_strings(x):\n",
    "    X = x.split(',')\n",
    "    return X\n",
    "\n",
    "df[\"Effects\"] = df.Effects.apply(split_strings)\n",
    "df [\"Flavor\"] = df.Flavor.apply(split_strings)"
   ]
  },
  {
   "cell_type": "code",
   "execution_count": 37,
   "metadata": {},
   "outputs": [],
   "source": [
    "# convert to lowercase columns because ocd\n",
    "df.columns = [x.lower() for x in df.columns]"
   ]
  },
  {
   "cell_type": "code",
   "execution_count": 39,
   "metadata": {},
   "outputs": [
    {
     "output_type": "execute_result",
     "data": {
      "text/plain": "                   strain    type  rating  \\\n1692          Purple-Haze  sativa     4.3   \n762            Emerald-Og  indica     4.7   \n2065         Supernatural  sativa     4.4   \n1980           Spoetnik-1  indica     5.0   \n291             Blue-Hash  hybrid     4.4   \n480           Cheesewreck  hybrid     4.3   \n1108          Jacks-Dream  hybrid     4.3   \n1405           Misty-Kush  indica     4.4   \n283              Blue-Dot  sativa     4.7   \n1401            Milky-Way  indica     4.7   \n328         Blue-Zkittlez  indica     4.9   \n1042       Hippie-Chicken  sativa     4.3   \n1794  Rocky-Mountain-High  hybrid     4.3   \n118            Appalachia  hybrid     4.8   \n1747            Raindance  hybrid     5.0   \n\n                                               effects  \\\n1692   [Uplifted, Happy, Euphoric, Relaxed, Energetic]   \n762       [Relaxed, Sleepy, Happy, Euphoric, Uplifted]   \n2065   [Euphoric, Relaxed, Happy, Creative, Energetic]   \n1980  [Focused, Sleepy, Creative, Energetic, Euphoric]   \n291       [Relaxed, Happy, Euphoric, Sleepy, Uplifted]   \n480     [Happy, Relaxed, Uplifted, Creative, Euphoric]   \n1108   [Uplifted, Creative, Energetic, Focused, Happy]   \n1405   [Happy, Euphoric, Relaxed, Uplifted, Talkative]   \n283     [Energetic, Happy, Relaxed, Focused, Uplifted]   \n1401    [Relaxed, Happy, Euphoric, Energetic, Focused]   \n328      [Aroused, Creative, Happy, Relaxed, Euphoric]   \n1042   [Euphoric, Happy, Uplifted, Relaxed, Talkative]   \n1794  [Euphoric, Creative, Focused, Uplifted, Relaxed]   \n118       [Relaxed, Euphoric, Happy, Creative, Giggly]   \n1747              [Happy, Uplifted, Energetic, Giggly]   \n\n                               flavor  \\\n1692         [Sweet, Flowery, Earthy]   \n762           [Earthy, Citrus, Woody]   \n2065        [Earthy, Citrus, Flowery]   \n1980        [Flowery, Lavender, Rose]   \n291        [Sweet, Blueberry, Earthy]   \n480          [Cheese, Woody, Pungent]   \n1108        [Berry, Blueberry, Grape]   \n1405            [Sweet, Mango, Lemon]   \n283          [Earthy, Pungent, Berry]   \n1401         [Sweet, Menthol, Pepper]   \n328           [Berry, Sweet, Flowery]   \n1042      [Sweet, Tree, Fruit, Berry]   \n1794          [Earthy, Skunk, Citrus]   \n118          [Pungent, Skunk, Earthy]   \n1747  [Grapefruit, Tropical, Flowery]   \n\n                                            description  \n1692  Popularized by Jimi Hendrix’s 1967 classic, Pu...  \n762   Emerald OG, a strain developed by the Californ...  \n2065  Supernatural is a prize-winning sativa-dominan...  \n1980  Spoetnik #1 by Paradise Seeds (not to be confu...  \n291   The colorful hues and sweet flavors of Blueber...  \n480   Cheesewreck is a sativa-dominant hybrid bred b...  \n1108  Jack’s Dream is a stimulating hybrid with fami...  \n1405  Misty Kush’s genetics include two of the most ...  \n283   Blue Dot, also known as MGB or Medical Grade B...  \n1401  Milky Way is an 80/20 indica-dominant blend br...  \n328   Blue Zkittlez by Dying Breed Seeds is an indic...  \n1042  Hippie Chicken is a mostly sativa strain with ...  \n1794  Rocky Mountain High is an indica-dominant hybr...  \n118   Appalachia is a hybrid cross between Green Cra...  \n1747  Raindance by Greenpoint Seeds is a vigorous ca...  ",
      "text/html": "<div>\n<style scoped>\n    .dataframe tbody tr th:only-of-type {\n        vertical-align: middle;\n    }\n\n    .dataframe tbody tr th {\n        vertical-align: top;\n    }\n\n    .dataframe thead th {\n        text-align: right;\n    }\n</style>\n<table border=\"1\" class=\"dataframe\">\n  <thead>\n    <tr style=\"text-align: right;\">\n      <th></th>\n      <th>strain</th>\n      <th>type</th>\n      <th>rating</th>\n      <th>effects</th>\n      <th>flavor</th>\n      <th>description</th>\n    </tr>\n  </thead>\n  <tbody>\n    <tr>\n      <th>1692</th>\n      <td>Purple-Haze</td>\n      <td>sativa</td>\n      <td>4.3</td>\n      <td>[Uplifted, Happy, Euphoric, Relaxed, Energetic]</td>\n      <td>[Sweet, Flowery, Earthy]</td>\n      <td>Popularized by Jimi Hendrix’s 1967 classic, Pu...</td>\n    </tr>\n    <tr>\n      <th>762</th>\n      <td>Emerald-Og</td>\n      <td>indica</td>\n      <td>4.7</td>\n      <td>[Relaxed, Sleepy, Happy, Euphoric, Uplifted]</td>\n      <td>[Earthy, Citrus, Woody]</td>\n      <td>Emerald OG, a strain developed by the Californ...</td>\n    </tr>\n    <tr>\n      <th>2065</th>\n      <td>Supernatural</td>\n      <td>sativa</td>\n      <td>4.4</td>\n      <td>[Euphoric, Relaxed, Happy, Creative, Energetic]</td>\n      <td>[Earthy, Citrus, Flowery]</td>\n      <td>Supernatural is a prize-winning sativa-dominan...</td>\n    </tr>\n    <tr>\n      <th>1980</th>\n      <td>Spoetnik-1</td>\n      <td>indica</td>\n      <td>5.0</td>\n      <td>[Focused, Sleepy, Creative, Energetic, Euphoric]</td>\n      <td>[Flowery, Lavender, Rose]</td>\n      <td>Spoetnik #1 by Paradise Seeds (not to be confu...</td>\n    </tr>\n    <tr>\n      <th>291</th>\n      <td>Blue-Hash</td>\n      <td>hybrid</td>\n      <td>4.4</td>\n      <td>[Relaxed, Happy, Euphoric, Sleepy, Uplifted]</td>\n      <td>[Sweet, Blueberry, Earthy]</td>\n      <td>The colorful hues and sweet flavors of Blueber...</td>\n    </tr>\n    <tr>\n      <th>480</th>\n      <td>Cheesewreck</td>\n      <td>hybrid</td>\n      <td>4.3</td>\n      <td>[Happy, Relaxed, Uplifted, Creative, Euphoric]</td>\n      <td>[Cheese, Woody, Pungent]</td>\n      <td>Cheesewreck is a sativa-dominant hybrid bred b...</td>\n    </tr>\n    <tr>\n      <th>1108</th>\n      <td>Jacks-Dream</td>\n      <td>hybrid</td>\n      <td>4.3</td>\n      <td>[Uplifted, Creative, Energetic, Focused, Happy]</td>\n      <td>[Berry, Blueberry, Grape]</td>\n      <td>Jack’s Dream is a stimulating hybrid with fami...</td>\n    </tr>\n    <tr>\n      <th>1405</th>\n      <td>Misty-Kush</td>\n      <td>indica</td>\n      <td>4.4</td>\n      <td>[Happy, Euphoric, Relaxed, Uplifted, Talkative]</td>\n      <td>[Sweet, Mango, Lemon]</td>\n      <td>Misty Kush’s genetics include two of the most ...</td>\n    </tr>\n    <tr>\n      <th>283</th>\n      <td>Blue-Dot</td>\n      <td>sativa</td>\n      <td>4.7</td>\n      <td>[Energetic, Happy, Relaxed, Focused, Uplifted]</td>\n      <td>[Earthy, Pungent, Berry]</td>\n      <td>Blue Dot, also known as MGB or Medical Grade B...</td>\n    </tr>\n    <tr>\n      <th>1401</th>\n      <td>Milky-Way</td>\n      <td>indica</td>\n      <td>4.7</td>\n      <td>[Relaxed, Happy, Euphoric, Energetic, Focused]</td>\n      <td>[Sweet, Menthol, Pepper]</td>\n      <td>Milky Way is an 80/20 indica-dominant blend br...</td>\n    </tr>\n    <tr>\n      <th>328</th>\n      <td>Blue-Zkittlez</td>\n      <td>indica</td>\n      <td>4.9</td>\n      <td>[Aroused, Creative, Happy, Relaxed, Euphoric]</td>\n      <td>[Berry, Sweet, Flowery]</td>\n      <td>Blue Zkittlez by Dying Breed Seeds is an indic...</td>\n    </tr>\n    <tr>\n      <th>1042</th>\n      <td>Hippie-Chicken</td>\n      <td>sativa</td>\n      <td>4.3</td>\n      <td>[Euphoric, Happy, Uplifted, Relaxed, Talkative]</td>\n      <td>[Sweet, Tree, Fruit, Berry]</td>\n      <td>Hippie Chicken is a mostly sativa strain with ...</td>\n    </tr>\n    <tr>\n      <th>1794</th>\n      <td>Rocky-Mountain-High</td>\n      <td>hybrid</td>\n      <td>4.3</td>\n      <td>[Euphoric, Creative, Focused, Uplifted, Relaxed]</td>\n      <td>[Earthy, Skunk, Citrus]</td>\n      <td>Rocky Mountain High is an indica-dominant hybr...</td>\n    </tr>\n    <tr>\n      <th>118</th>\n      <td>Appalachia</td>\n      <td>hybrid</td>\n      <td>4.8</td>\n      <td>[Relaxed, Euphoric, Happy, Creative, Giggly]</td>\n      <td>[Pungent, Skunk, Earthy]</td>\n      <td>Appalachia is a hybrid cross between Green Cra...</td>\n    </tr>\n    <tr>\n      <th>1747</th>\n      <td>Raindance</td>\n      <td>hybrid</td>\n      <td>5.0</td>\n      <td>[Happy, Uplifted, Energetic, Giggly]</td>\n      <td>[Grapefruit, Tropical, Flowery]</td>\n      <td>Raindance by Greenpoint Seeds is a vigorous ca...</td>\n    </tr>\n  </tbody>\n</table>\n</div>"
     },
     "metadata": {},
     "execution_count": 39
    }
   ],
   "source": [
    "df.sample(15)"
   ]
  },
  {
   "cell_type": "code",
   "execution_count": 40,
   "metadata": {},
   "outputs": [],
   "source": [
    "# seems good to save and make a base db with\n",
    "# going to seperate the strain names out so that i can query api's with them and get more info"
   ]
  },
  {
   "cell_type": "code",
   "execution_count": null,
   "metadata": {},
   "outputs": [],
   "source": [
    "\n",
    "df.to_sql()"
   ]
  }
 ],
 "metadata": {
  "language_info": {
   "codemirror_mode": {
    "name": "ipython",
    "version": 3
   },
   "file_extension": ".py",
   "mimetype": "text/x-python",
   "name": "python",
   "nbconvert_exporter": "python",
   "pygments_lexer": "ipython3",
   "version": "3.7.6-final"
  },
  "orig_nbformat": 2,
  "kernelspec": {
   "name": "python37664bitdsflaskconda5d6acf79da9542b3aeeb7103e7ad852b",
   "display_name": "Python 3.7.6 64-bit ('ds-Flask': conda)"
  }
 },
 "nbformat": 4,
 "nbformat_minor": 2
}