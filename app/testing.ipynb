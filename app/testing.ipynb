{
 "cells": [
  {
   "cell_type": "markdown",
   "metadata": {},
   "source": [
    "# looking at neobi for adding data to leafly"
   ]
  },
  {
   "cell_type": "code",
   "execution_count": 6,
   "metadata": {},
   "outputs": [],
   "source": [
    "from os import getenv"
   ]
  },
  {
   "cell_type": "code",
   "execution_count": 6,
   "metadata": {
    "tags": [
     "outputPrepend"
    ]
   },
   "outputs": [
    {
     "output_type": "stream",
     "name": "stdout",
     "text": "ova Vaporizer\",\"ccc\":\"60556\",\"link\":\"https://neobi.io/products?p=60556\",\"qr\":\"https://api.qrserver.com/v1/create-qr-code/?size=150x150&data=https://neobi.io/products?p=60556\",\"url\":\"https://cannabis.mynslc.com/en/products/accessories/vapourizers/1033372.aspx\",\"image\":\"cannabis.mynslc.com/en/skins/cannabis/images/Unavailable.jpg\",\"type\":\"Accessories\",\"labTest\":false,\"thc\":\"\",\"cbd\":\"\",\"price\":\"$56.29\",\"instockstatus\":\"In Stock\",\"metaDescription\":\"\",\"metaTitle\":\"\",\"eqWeight\":\"\",\"brand\":\"Premium 5\",\"currency\":\"CAD\",\"updatedAt\":\"2020-04-27T06:54:56\",\"producer\":{\"name\":\"Cannabis.myNSLC\",\"ccc\":\"248\",\"link\":\"https://neobi.io/product?i=248-1033372\",\"location\":\"\",\"image\":\"https://neobi.io/images/coming-soon.jpg\",\"phone\":\"\",\"email\":\"\",\"productCount\":\"500\"}},{\"name\":\"Pax3 Black Matte Complete\",\"ccc\":\"46634\",\"link\":\"https://neobi.io/products?p=46634\",\"qr\":\"https://api.qrserver.com/v1/create-qr-code/?size=150x150&data=https://neobi.io/products?p=46634\",\"url\":\"https://cannabis.mynslc.com/en/products/accessories/vapourizers/1032629.aspx\",\"image\":\"cannabis.mynslc.com/en/-/media/Images/Cannabis/Products/1032600/1032629/1032629_PAX3_Black_Matte_Complete.jpg\",\"type\":\"Accessories\",\"labTest\":false,\"thc\":\"\",\"cbd\":\"\",\"price\":\"$346.30\",\"instockstatus\":\"In Stock\",\"metaDescription\":\"\",\"metaTitle\":\"\",\"eqWeight\":\"\",\"brand\":\"Pax\",\"currency\":\"CAD\",\"updatedAt\":\"2020-04-27T06:54:55\",\"producer\":{\"name\":\"Cannabis.myNSLC\",\"ccc\":\"248\",\"link\":\"https://neobi.io/product?i=248-1032629\",\"location\":\"\",\"image\":\"https://neobi.io/images/coming-soon.jpg\",\"phone\":\"\",\"email\":\"\",\"productCount\":\"500\"}},{\"name\":\"Pax Era Battery\",\"ccc\":\"47330\",\"link\":\"https://neobi.io/products?p=47330\",\"qr\":\"https://api.qrserver.com/v1/create-qr-code/?size=150x150&data=https://neobi.io/products?p=47330\",\"url\":\"https://cannabis.mynslc.com/en/products/accessories/batteries/1032650.aspx\",\"image\":\"cannabis.mynslc.com/en/-/media/Images/Cannabis/Products/1032600/1032650/1032650_PAX_Era.jpg\",\"type\":\"Accessories\",\"labTest\":false,\"thc\":\"\",\"cbd\":\"\",\"price\":\"$48.30\",\"instockstatus\":\"In Stock\",\"metaDescription\":\"\",\"metaTitle\":\"\",\"eqWeight\":\"\",\"brand\":\"Pax\",\"currency\":\"CAD\",\"updatedAt\":\"2020-04-27T06:54:54\",\"producer\":{\"name\":\"Cannabis.myNSLC\",\"ccc\":\"248\",\"link\":\"https://neobi.io/product?i=248-1032650\",\"location\":\"\",\"image\":\"https://neobi.io/images/coming-soon.jpg\",\"phone\":\"\",\"email\":\"\",\"productCount\":\"500\"}},{\"name\":\"One-Hitter Slim Pipe\",\"ccc\":\"31349\",\"link\":\"https://neobi.io/products?p=31349\",\"qr\":\"https://api.qrserver.com/v1/create-qr-code/?size=150x150&data=https://neobi.io/products?p=31349\",\"url\":\"https://cannabis.mynslc.com/en/products/accessories/hand-pipes/1029632.aspx\",\"image\":\"cannabis.mynslc.com/en/-/media/Images/Cannabis/Products/1029600/1029632/1029632_A1C0_1.jpg\",\"type\":\"Accessories\",\"labTest\":false,\"thc\":\"\",\"cbd\":\"\",\"price\":\"$30.19\",\"instockstatus\":\"In Stock\",\"metaDescription\":\"\",\"metaTitle\":\"\",\"eqWeight\":\"\",\"brand\":\"Silverstick\",\"currency\":\"CAD\",\"updatedAt\":\"2020-04-27T06:54:42\",\"producer\":{\"name\":\"Cannabis.myNSLC\",\"ccc\":\"248\",\"link\":\"https://neobi.io/product?i=248-1029632\",\"location\":\"\",\"image\":\"https://neobi.io/images/coming-soon.jpg\",\"phone\":\"\",\"email\":\"\",\"productCount\":\"500\"}},{\"name\":\"Ocb Crystal Hand Roller 79Mm\",\"ccc\":\"31348\",\"link\":\"https://neobi.io/products?p=31348\",\"qr\":\"https://api.qrserver.com/v1/create-qr-code/?size=150x150&data=https://neobi.io/products?p=31348\",\"url\":\"https://cannabis.mynslc.com/en/products/accessories/papers/1030644.aspx\",\"image\":\"cannabis.mynslc.com/en/-/media/Images/Cannabis/Products/1030600/1030644/1030644_A7C0.jpg\",\"type\":\"Accessories\",\"labTest\":false,\"thc\":\"\",\"cbd\":\"\",\"price\":\"$3.96\",\"instockstatus\":\"In Stock\",\"metaDescription\":\"\",\"metaTitle\":\"\",\"eqWeight\":\"\",\"brand\":\"Ocb\",\"currency\":\"CAD\",\"updatedAt\":\"2020-04-27T06:54:41\",\"producer\":{\"name\":\"Cannabis.myNSLC\",\"ccc\":\"248\",\"link\":\"https://neobi.io/product?i=248-1030644\",\"location\":\"\",\"image\":\"https://neobi.io/images/coming-soon.jpg\",\"phone\":\"\",\"email\":\"\",\"productCount\":\"500\"}},{\"name\":\"Kolab Battery W Charger\",\"ccc\":\"47329\",\"link\":\"https://neobi.io/products?p=47329\",\"qr\":\"https://api.qrserver.com/v1/create-qr-code/?size=150x150&data=https://neobi.io/products?p=47329\",\"url\":\"https://cannabis.mynslc.com/en/products/accessories/batteries/1032891.aspx\",\"image\":\"cannabis.mynslc.com/en/-/media/Images/Cannabis/Products/1032800/1032891/1032891_Kolab_Project_Vaporizer_Battery_1.jpg\",\"type\":\"Accessories\",\"labTest\":false,\"thc\":\"\",\"cbd\":\"\",\"price\":\"$12.98\",\"instockstatus\":\"In Stock\",\"metaDescription\":\"\",\"metaTitle\":\"\",\"eqWeight\":\"\",\"brand\":\"Kolab\",\"currency\":\"CAD\",\"updatedAt\":\"2020-04-27T06:54:40\",\"producer\":{\"name\":\"Cannabis.myNSLC\",\"ccc\":\"248\",\"link\":\"https://neobi.io/product?i=248-1032891\",\"location\":\"\",\"image\":\"https://neobi.io/images/coming-soon.jpg\",\"phone\":\"\",\"email\":\"\",\"productCount\":\"500\"}},{\"name\":\"In Boost 4G 62P Humidiccant Pk\",\"ccc\":\"31346\",\"link\":\"https://neobi.io/products?p=31346\",\"qr\":\"https://api.qrserver.com/v1/create-qr-code/?size=150x150&data=https://neobi.io/products?p=31346\",\"url\":\"https://cannabis.mynslc.com/en/products/accessories/storage-containers/1029638.aspx\",\"image\":\"cannabis.mynslc.com/en/-/media/Images/Cannabis/Products/1029600/1029638/1029638_A1C1.jpg\",\"type\":\"Accessories\",\"labTest\":false,\"thc\":\"\",\"cbd\":\"\",\"price\":\"$0.99\",\"instockstatus\":\"In Stock\",\"metaDescription\":\"\",\"metaTitle\":\"\",\"eqWeight\":\"\",\"brand\":\"Integra Boost\",\"currency\":\"CAD\",\"updatedAt\":\"2020-04-27T06:54:39\",\"producer\":{\"name\":\"Cannabis.myNSLC\",\"ccc\":\"248\",\"link\":\"https://neobi.io/product?i=248-1029638\",\"location\":\"\",\"image\":\"https://neobi.io/images/coming-soon.jpg\",\"phone\":\"\",\"email\":\"\",\"productCount\":\"500\"}},{\"name\":\"Journey Pipe 3 Silver W Case\",\"ccc\":\"31347\",\"link\":\"https://neobi.io/products?p=31347\",\"qr\":\"https://api.qrserver.com/v1/create-qr-code/?size=150x150&data=https://neobi.io/products?p=31347\",\"url\":\"https://cannabis.mynslc.com/en/products/accessories/hand-pipes/1030147.aspx\",\"image\":\"cannabis.mynslc.com/en/-/media/Images/Cannabis/Products/1030100/1030147/1030147_A1C0.jpg\",\"type\":\"Accessories\",\"labTest\":false,\"thc\":\"\",\"cbd\":\"\",\"price\":\"$38.81\",\"instockstatus\":\"In Stock\",\"metaDescription\":\"\",\"metaTitle\":\"\",\"eqWeight\":\"\",\"brand\":\"Journey Pipe\",\"currency\":\"CAD\",\"updatedAt\":\"2020-04-27T06:54:39\",\"producer\":{\"name\":\"Cannabis.myNSLC\",\"ccc\":\"248\",\"link\":\"https://neobi.io/product?i=248-1030147\",\"location\":\"\",\"image\":\"https://neobi.io/images/coming-soon.jpg\",\"phone\":\"\",\"email\":\"\",\"productCount\":\"500\"}},{\"name\":\"Hera 2 Vapourizer\",\"ccc\":\"31345\",\"link\":\"https://neobi.io/products?p=31345\",\"qr\":\"https://api.qrserver.com/v1/create-qr-code/?size=150x150&data=https://neobi.io/products?p=31345\",\"url\":\"https://cannabis.mynslc.com/en/products/accessories/vapourizers/1029621.aspx\",\"image\":\"cannabis.mynslc.com/en/-/media/Images/Cannabis/Products/1029600/1029621/1029621_A1C1.jpg\",\"type\":\"Accessories\",\"labTest\":false,\"thc\":\"\",\"cbd\":\"\",\"price\":\"$257.02\",\"instockstatus\":\"In Stock\",\"metaDescription\":\"\",\"metaTitle\":\"\",\"eqWeight\":\"\",\"brand\":\"Hera\",\"currency\":\"CAD\",\"updatedAt\":\"2020-04-27T06:54:38\",\"producer\":{\"name\":\"Cannabis.myNSLC\",\"ccc\":\"248\",\"link\":\"https://neobi.io/product?i=248-1029621\",\"location\":\"\",\"image\":\"https://neobi.io/images/coming-soon.jpg\",\"phone\":\"\",\"email\":\"\",\"productCount\":\"500\"}},{\"name\":\"Grav Labs 4In Spoon Green\",\"ccc\":\"35178\",\"link\":\"https://neobi.io/products?p=35178\",\"qr\":\"https://api.qrserver.com/v1/create-qr-code/?size=150x150&data=https://neobi.io/products?p=35178\",\"url\":\"https://cannabis.mynslc.com/en/products/accessories/hand-pipes/1031633.aspx\",\"image\":\"cannabis.mynslc.com/en/-/media/Images/Cannabis/Products/1031600/1031633/1031633_A1C0.jpg\",\"type\":\"Accessories\",\"labTest\":false,\"thc\":\"\",\"cbd\":\"\",\"price\":\"$20.53\",\"instockstatus\":\"In Stock\",\"metaDescription\":\"\",\"metaTitle\":\"\",\"eqWeight\":\"\",\"brand\":\"Grav Labs\",\"currency\":\"CAD\",\"updatedAt\":\"2020-04-27T06:54:37\",\"producer\":{\"name\":\"Cannabis.myNSLC\",\"ccc\":\"248\",\"link\":\"https://neobi.io/product?i=248-1031633\",\"location\":\"\",\"image\":\"https://neobi.io/images/coming-soon.jpg\",\"phone\":\"\",\"email\":\"\",\"productCount\":\"500\"}},{\"name\":\"Grav Labs 3In 9Mm Taster Clear Inhaler\",\"ccc\":\"31344\",\"link\":\"https://neobi.io/products?p=31344\",\"qr\":\"https://api.qrserver.com/v1/create-qr-code/?size=150x150&data=https://neobi.io/products?p=31344\",\"url\":\"https://cannabis.mynslc.com/en/products/accessories/hand-pipes/1030268.aspx\",\"image\":\"cannabis.mynslc.com/en/-/media/Images/Cannabis/Products/1030200/1030268/1030268_A1C1.jpg\",\"type\":\"Accessories\",\"labTest\":false,\"thc\":\"\",\"cbd\":\"\",\"price\":\"$5.18\",\"instockstatus\":\"In Stock\",\"metaDescription\":\"\",\"metaTitle\":\"\",\"eqWeight\":\"\",\"brand\":\"Grav Labs\",\"currency\":\"CAD\",\"updatedAt\":\"2020-04-27T06:54:36\",\"producer\":{\"name\":\"Cannabis.myNSLC\",\"ccc\":\"248\",\"link\":\"https://neobi.io/product?i=248-1030268\",\"location\":\"\",\"image\":\"https://neobi.io/images/coming-soon.jpg\",\"phone\":\"\",\"email\":\"\",\"productCount\":\"500\"}},{\"name\":\"GR8TR V2 Series Grinder\",\"ccc\":\"31342\",\"link\":\"https://neobi.io/products?p=31342\",\"qr\":\"https://api.qrserver.com/v1/create-qr-code/?size=150x150&data=https://neobi.io/products?p=31342\",\"url\":\"https://cannabis.mynslc.com/en/products/accessories/grinders/1029625.aspx\",\"image\":\"cannabis.mynslc.com/en/-/media/Images/Cannabis/Products/1029600/1029625/1029625_A1C0.jpg\",\"type\":\"Accessories\",\"labTest\":false,\"thc\":\"\",\"cbd\":\"\",\"price\":\"$75.13\",\"instockstatus\":\"In Stock\",\"metaDescription\":\"\",\"metaTitle\":\"\",\"eqWeight\":\"\",\"brand\":\"Kannastor\",\"currency\":\"CAD\",\"updatedAt\":\"2020-04-27T06:54:35\",\"producer\":{\"name\":\"Cannabis.myNSLC\",\"ccc\":\"248\",\"link\":\"https://neobi.io/product?i=248-1029625\",\"location\":\"\",\"image\":\"https://neobi.io/images/coming-soon.jpg\",\"phone\":\"\",\"email\":\"\",\"productCount\":\"500\"}},{\"name\":\"Futurola Pre-Roll Slim Sz 3 Cones\",\"ccc\":\"31341\",\"link\":\"https://neobi.io/products?p=31341\",\"qr\":\"https://api.qrserver.com/v1/create-qr-code/?size=150x150&data=https://neobi.io/products?p=31341\",\"url\":\"https://cannabis.mynslc.com/en/products/accessories/papers/1030649.aspx\",\"image\":\"cannabis.mynslc.com/en/-/media/Images/Cannabis/Products/1030600/1030649/1030649_A1C1.jpg\",\"type\":\"Accessories\",\"labTest\":false,\"thc\":\"\",\"cbd\":\"\",\"price\":\"$2.50\",\"instockstatus\":\"In Stock\",\"metaDescription\":\"\",\"metaTitle\":\"\",\"eqWeight\":\"\",\"brand\":\"Futurola\",\"currency\":\"CAD\",\"updatedAt\":\"2020-04-27T06:54:34\",\"producer\":{\"name\":\"Cannabis.myNSLC\",\"ccc\":\"248\",\"link\":\"https://neobi.io/product?i=248-1030649\",\"location\":\"\",\"image\":\"https://neobi.io/images/coming-soon.jpg\",\"phone\":\"\",\"email\":\"\",\"productCount\":\"500\"}},{\"name\":\"Doobtool Case &amp\\'\\' Multi Tool\",\"ccc\":\"45346\",\"link\":\"https://neobi.io/products?p=45346\",\"qr\":\"https://api.qrserver.com/v1/create-qr-code/?size=150x150&data=https://neobi.io/products?p=45346\",\"url\":\"https://cannabis.mynslc.com/en/products/accessories/grinders/1032622.aspx\",\"image\":\"cannabis.mynslc.com/en/-/media/Images/Cannabis/Products/1032600/1032622/1032622_doobtool_cannabiscasmultitool.jpg\",\"type\":\"Accessories\",\"labTest\":false,\"thc\":\"\",\"cbd\":\"\",\"price\":\"$43.49\",\"instockstatus\":\"In Stock\",\"metaDescription\":\"\",\"metaTitle\":\"\",\"eqWeight\":\"\",\"brand\":\"Doobtool\",\"currency\":\"CAD\",\"updatedAt\":\"2020-04-27T06:54:33\",\"producer\":{\"name\":\"Cannabis.myNSLC\",\"ccc\":\"248\",\"link\":\"https://neobi.io/product?i=248-1032622\",\"location\":\"\",\"image\":\"https://neobi.io/images/coming-soon.jpg\",\"phone\":\"\",\"email\":\"\",\"productCount\":\"500\"}},{\"name\":\"Concentrate Taster Grav Clear\",\"ccc\":\"59661\",\"link\":\"https://neobi.io/products?p=59661\",\"qr\":\"https://api.qrserver.com/v1/create-qr-code/?size=150x150&data=https://neobi.io/products?p=59661\",\"url\":\"https://cannabis.mynslc.com/en/products/accessories/hand-pipes/1032934.aspx\",\"image\":\"cannabis.mynslc.com/en/skins/cannabis/images/Unavailable.jpg\",\"type\":\"Accessories\",\"labTest\":false,\"thc\":\"\",\"cbd\":\"\",\"price\":\"$14.98\",\"instockstatus\":\"In Stock\",\"metaDescription\":\"\",\"metaTitle\":\"\",\"eqWeight\":\"\",\"brand\":\"Grav\",\"currency\":\"CAD\",\"updatedAt\":\"2020-04-27T06:54:32\",\"producer\":{\"name\":\"Cannabis.myNSLC\",\"ccc\":\"248\",\"link\":\"https://neobi.io/product?i=248-1032934\",\"location\":\"\",\"image\":\"https://neobi.io/images/coming-soon.jpg\",\"phone\":\"\",\"email\":\"\",\"productCount\":\"500\"}},{\"name\":\"Ccell Palm Battery\",\"ccc\":\"47326\",\"link\":\"https://neobi.io/products?p=47326\",\"qr\":\"https://api.qrserver.com/v1/create-qr-code/?size=150x150&data=https://neobi.io/products?p=47326\",\"url\":\"https://cannabis.mynslc.com/en/products/accessories/batteries/1032647.aspx\",\"image\":\"cannabis.mynslc.com/en/skins/cannabis/images/Unavailable.jpg\",\"type\":\"Accessories\",\"labTest\":false,\"thc\":\"\",\"cbd\":\"\",\"price\":\"$34.50\",\"instockstatus\":\"In Stock\",\"metaDescription\":\"\",\"metaTitle\":\"\",\"eqWeight\":\"\",\"brand\":\"Ccell\",\"currency\":\"CAD\",\"updatedAt\":\"2020-04-27T06:54:31\",\"producer\":{\"name\":\"Cannabis.myNSLC\",\"ccc\":\"248\",\"link\":\"https://neobi.io/product?i=248-1032647\",\"location\":\"\",\"image\":\"https://neobi.io/images/coming-soon.jpg\",\"phone\":\"\",\"email\":\"\",\"productCount\":\"500\"}},{\"name\":\"Ccell M3 Battery\",\"ccc\":\"47325\",\"link\":\"https://neobi.io/products?p=47325\",\"qr\":\"https://api.qrserver.com/v1/create-qr-code/?size=150x150&data=https://neobi.io/products?p=47325\",\"url\":\"https://cannabis.mynslc.com/en/products/accessories/batteries/1032646.aspx\",\"image\":\"cannabis.mynslc.com/en/skins/cannabis/images/Unavailable.jpg\",\"type\":\"Accessories\",\"labTest\":false,\"thc\":\"\",\"cbd\":\"\",\"price\":\"$10.35\",\"instockstatus\":\"In Stock\",\"metaDescription\":\"\",\"metaTitle\":\"\",\"eqWeight\":\"\",\"brand\":\"Ccell\",\"currency\":\"CAD\",\"updatedAt\":\"2020-04-27T06:54:30\",\"producer\":{\"name\":\"Cannabis.myNSLC\",\"ccc\":\"248\",\"link\":\"https://neobi.io/product?i=248-1032646\",\"location\":\"\",\"image\":\"https://neobi.io/images/coming-soon.jpg\",\"phone\":\"\",\"email\":\"\",\"productCount\":\"500\"}},{\"name\":\"Canadian Lumber Woods 1.25 Papers\",\"ccc\":\"31340\",\"link\":\"https://neobi.io/products?p=31340\",\"qr\":\"https://api.qrserver.com/v1/create-qr-code/?size=150x150&data=https://neobi.io/products?p=31340\",\"url\":\"https://cannabis.mynslc.com/en/products/accessories/papers/1029635.aspx\",\"image\":\"cannabis.mynslc.com/en/-/media/Images/Cannabis/Products/1029600/1029635/1029635_A7C0.jpg\",\"type\":\"Accessories\",\"labTest\":false,\"thc\":\"\",\"cbd\":\"\",\"price\":\"$2.50\",\"instockstatus\":\"In Stock\",\"metaDescription\":\"\",\"metaTitle\":\"\",\"eqWeight\":\"\",\"brand\":\"Canadian Lumber\",\"currency\":\"CAD\",\"updatedAt\":\"2020-04-27T06:54:29\",\"producer\":{\"name\":\"Cannabis.myNSLC\",\"ccc\":\"248\",\"link\":\"https://neobi.io/product?i=248-1029635\",\"location\":\"\",\"image\":\"https://neobi.io/images/coming-soon.jpg\",\"phone\":\"\",\"email\":\"\",\"productCount\":\"500\"}},{\"name\":\"Canadian Lumber Hippy 1.25 Papers\",\"ccc\":\"31339\",\"link\":\"https://neobi.io/products?p=31339\",\"qr\":\"https://api.qrserver.com/v1/create-qr-code/?size=150x150&data=https://neobi.io/products?p=31339\",\"url\":\"https://cannabis.mynslc.com/en/products/accessories/papers/1029634.aspx\",\"image\":\"cannabis.mynslc.com/en/-/media/Images/Cannabis/Products/1029600/1029634/1029634_A7C0.jpg\",\"type\":\"Accessories\",\"labTest\":false,\"thc\":\"\",\"cbd\":\"\",\"price\":\"$2.50\",\"instockstatus\":\"In Stock\",\"metaDescription\":\"\",\"metaTitle\":\"\",\"eqWeight\":\"\",\"brand\":\"Canadian Lumber\",\"currency\":\"CAD\",\"updatedAt\":\"2020-04-27T06:54:28\",\"producer\":{\"name\":\"Cannabis.myNSLC\",\"ccc\":\"248\",\"link\":\"https://neobi.io/product?i=248-1029634\",\"location\":\"\",\"image\":\"https://neobi.io/images/coming-soon.jpg\",\"phone\":\"\",\"email\":\"\",\"productCount\":\"500\"}},{\"name\":\"Canadian Lumber Greens 1.25 Papers\",\"ccc\":\"31338\",\"link\":\"https://neobi.io/products?p=31338\",\"qr\":\"https://api.qrserver.com/v1/create-qr-code/?size=150x150&data=https://neobi.io/products?p=31338\",\"url\":\"https://cannabis.mynslc.com/en/products/accessories/papers/1029633.aspx\",\"image\":\"cannabis.mynslc.com/en/-/media/Images/Cannabis/Products/1029600/1029633/1029633_A7C0.jpg\",\"type\":\"Accessories\",\"labTest\":false,\"thc\":\"\",\"cbd\":\"\",\"price\":\"$2.50\",\"instockstatus\":\"In Stock\",\"metaDescription\":\"\",\"metaTitle\":\"\",\"eqWeight\":\"\",\"brand\":\"Canadian Lumber\",\"currency\":\"CAD\",\"updatedAt\":\"2020-04-27T06:54:27\",\"producer\":{\"name\":\"Cannabis.myNSLC\",\"ccc\":\"248\",\"link\":\"https://neobi.io/product?i=248-1029633\",\"location\":\"\",\"image\":\"https://neobi.io/images/coming-soon.jpg\",\"phone\":\"\",\"email\":\"\",\"productCount\":\"500\"}},{\"name\":\"Boundless Terp Pen Silver\",\"ccc\":\"59660\",\"link\":\"https://neobi.io/products?p=59660\",\"qr\":\"https://api.qrserver.com/v1/create-qr-code/?size=150x150&data=https://neobi.io/products?p=59660\",\"url\":\"https://cannabis.mynslc.com/en/products/accessories/vapourizers/1032935.aspx\",\"image\":\"cannabis.mynslc.com/en/skins/cannabis/images/Unavailable.jpg\",\"type\":\"Accessories\",\"labTest\":false,\"thc\":\"\",\"cbd\":\"\",\"price\":\"$39.99\",\"instockstatus\":\"In Stock\",\"metaDescription\":\"\",\"metaTitle\":\"\",\"eqWeight\":\"\",\"brand\":\"Boundless\",\"currency\":\"CAD\",\"updatedAt\":\"2020-04-27T06:54:26\",\"producer\":{\"name\":\"Cannabis.myNSLC\",\"ccc\":\"248\",\"link\":\"https://neobi.io/product?i=248-1032935\",\"location\":\"\",\"image\":\"https://neobi.io/images/coming-soon.jpg\",\"phone\":\"\",\"email\":\"\",\"productCount\":\"500\"}},{\"name\":\"Bamboo Poker Box w/ Matching Taster Bat\",\"ccc\":\"31337\",\"link\":\"https://neobi.io/products?p=31337\",\"qr\":\"https://api.qrserver.com/v1/create-qr-code/?size=150x150&data=https://neobi.io/products?p=31337\",\"url\":\"https://cannabis.mynslc.com/en/products/accessories/hand-pipes/1029631.aspx\",\"image\":\"cannabis.mynslc.com/en/-/media/Images/Cannabis/Products/1029600/1029631/1029631_A1C0.jpg\",\"type\":\"Accessories\",\"labTest\":false,\"thc\":\"\",\"cbd\":\"\",\"price\":\"$25.70\",\"instockstatus\":\"In Stock\",\"metaDescription\":\"\",\"metaTitle\":\"\",\"eqWeight\":\"\",\"brand\":\"Ryot\",\"currency\":\"CAD\",\"updatedAt\":\"2020-04-27T06:54:25\",\"producer\":{\"name\":\"Cannabis.myNSLC\",\"ccc\":\"248\",\"link\":\"https://neobi.io/product?i=248-1029631\",\"location\":\"\",\"image\":\"https://neobi.io/images/coming-soon.jpg\",\"phone\":\"\",\"email\":\"\",\"productCount\":\"500\"}},{\"name\":\"APX V2 Vapourizer\",\"ccc\":\"31336\",\"link\":\"https://neobi.io/products?p=31336\",\"qr\":\"https://api.qrserver.com/v1/create-qr-code/?size=150x150&data=https://neobi.io/products?p=31336\",\"url\":\"https://cannabis.mynslc.com/en/products/accessories/vapourizers/1029619.aspx\",\"image\":\"cannabis.mynslc.com/en/-/media/Images/Cannabis/Products/1029600/1029619/1029619_A1C1_1.jpg\",\"type\":\"Accessories\",\"labTest\":false,\"thc\":\"\",\"cbd\":\"\",\"price\":\"$98.00\",\"instockstatus\":\"In Stock\",\"metaDescription\":\"\",\"metaTitle\":\"\",\"eqWeight\":\"\",\"brand\":\"Pulsar\",\"currency\":\"CAD\",\"updatedAt\":\"2020-04-27T06:54:24\",\"producer\":{\"name\":\"Cannabis.myNSLC\",\"ccc\":\"248\",\"link\":\"https://neobi.io/product?i=248-1029619\",\"location\":\"\",\"image\":\"https://neobi.io/images/coming-soon.jpg\",\"phone\":\"\",\"email\":\"\",\"productCount\":\"500\"}},{\"name\":\"50Ml Luky8 Cannabis Odor Elim Spry\",\"ccc\":\"60008\",\"link\":\"https://neobi.io/products?p=60008\",\"qr\":\"https://api.qrserver.com/v1/create-qr-code/?size=150x150&data=https://neobi.io/products?p=60008\",\"url\":\"https://cannabis.mynslc.com/en/products/accessories/papers/1033587.aspx\",\"image\":\"cannabis.mynslc.com/en/skins/cannabis/images/Unavailable.jpg\",\"type\":\"Accessories\",\"labTest\":false,\"thc\":\"\",\"cbd\":\"\",\"price\":\"$10.99\",\"instockstatus\":\"In Stock\",\"metaDescription\":\"\",\"metaTitle\":\"\",\"eqWeight\":\"\",\"brand\":\"Luky8\",\"currency\":\"CAD\",\"updatedAt\":\"2020-04-27T06:54:23\",\"producer\":{\"name\":\"Cannabis.myNSLC\",\"ccc\":\"248\",\"link\":\"https://neobi.io/product?i=248-1033587\",\"location\":\"\",\"image\":\"https://neobi.io/images/coming-soon.jpg\",\"phone\":\"\",\"email\":\"\",\"productCount\":\"500\"}},{\"name\":\"4-Piece Grinder\",\"ccc\":\"31335\",\"link\":\"https://neobi.io/products?p=31335\",\"qr\":\"https://api.qrserver.com/v1/create-qr-code/?size=150x150&data=https://neobi.io/products?p=31335\",\"url\":\"https://cannabis.mynslc.com/en/products/accessories/grinders/1029624.aspx\",\"image\":\"cannabis.mynslc.com/en/-/media/Images/Cannabis/Products/1029600/1029624/1029624_A1C1_1.jpg\",\"type\":\"Accessories\",\"labTest\":false,\"thc\":\"\",\"cbd\":\"\",\"price\":\"$31.91\",\"instockstatus\":\"In Stock\",\"metaDescription\":\"\",\"metaTitle\":\"\",\"eqWeight\":\"\",\"brand\":\"Kannastor\",\"currency\":\"CAD\",\"updatedAt\":\"2020-04-27T06:54:22\",\"producer\":{\"name\":\"Cannabis.myNSLC\",\"ccc\":\"248\",\"link\":\"https://neobi.io/product?i=248-1029624\",\"location\":\"\",\"image\":\"https://neobi.io/images/coming-soon.jpg\",\"phone\":\"\",\"email\":\"\",\"productCount\":\"500\"}}]'\n"
    }
   ],
   "source": [
    "import base64\n",
    "from http import client\n",
    "from urllib import request, parse, error\n",
    "\n",
    "from os import path\n",
    "from dotenv import load_dotenv\n",
    "from bs4 import BeautifulSoup\n",
    "# custom error to define that we can't co0nnect to the api\n",
    "from app.utils.exceptions import APIError\n",
    "\n",
    "class thirdpart_requester():\n",
    "    def __init__(self):\n",
    "        \"\"\"sets the api key and fits it to the header\n",
    "        \"\"\"\n",
    "        load_dotenv()\n",
    "        # pass the api key to the api\n",
    "        self.headers = {\n",
    "            # Request headers\n",
    "            'Ocp-Apim-Subscription-Key': getenv(\"API_KEY\")}\n",
    "        return\n",
    "    def setEndPoint(self,APIEnpoint:str):\n",
    "        \"\"\"Set the endpoint for the api to use\n",
    "\n",
    "        \"\"\"\n",
    "        self.ENDPOINT = APIEnpoint\n",
    "    def setParams(self,params:dict)\n",
    "        self.PARAMS = params\n",
    "    def connect(self)\n",
    "        pass\n",
    "    def _encodeparams(self):\n",
    "        params = parse.urlencode({\n",
    "            # Request parameters\n",
    "            #'page': '{integer}',\n",
    "            #'count': '200',\n",
    "            #'sort': '{string}',\n",
    "            #'thc': '{string}',\n",
    "            #'location': '{string}',\n",
    "            #'htmlDescription': '{boolean}',\n",
    "            #'active': '{string}',\n",
    "        })\n",
    "try:\n",
    "    conn = client.HTTPSConnection('neobi.azure-api.net')\n",
    "    conn.request(\"GET\", \"/stage/api/products?%s\" % params, \"{body}\", headers)\n",
    "    response = conn.getresponse()\n",
    "    data = response.read()\n",
    "    \n",
    "    conn.close()\n",
    "except Exception as e:\n",
    "    print(\"[Errno {0}] {1}\".format(e.errno, e.strerror))\n"
   ]
  },
  {
   "cell_type": "markdown",
   "metadata": {},
   "source": [
    "# Looking at the leafly dataset"
   ]
  },
  {
   "cell_type": "code",
   "execution_count": 8,
   "metadata": {},
   "outputs": [
    {
     "output_type": "stream",
     "name": "stdout",
     "text": "/home/joe/Desktop/school/ds-project/app\n"
    }
   ],
   "source": [
    "!pwd"
   ]
  },
  {
   "cell_type": "code",
   "execution_count": 13,
   "metadata": {},
   "outputs": [
    {
     "output_type": "stream",
     "name": "stdout",
     "text": "\u001b[1;34m data\u001b[0m\n├── \u001b[1;34m kushy\u001b[0m\n│  ├── \u001b[1;34m Brands\u001b[0m\n│  │  ├── \u001b[1;32m brands-kushy_api.2017-11-14.csv\u001b[0m\n│  │  └── \u001b[1;32m brands-kushy_api.2017-11-14.sql.gz\u001b[0m\n│  ├── \u001b[1;34m Products\u001b[0m\n│  │  ├── \u001b[1;32m products-kushy_api.2017-11-14.csv\u001b[0m\n│  │  └── \u001b[1;32m products-kushy_api.2017-11-14.sql.gz\u001b[0m\n│  ├── \u001b[1;34m Shops\u001b[0m\n│  │  ├── \u001b[1;32m shops-kushy_api.2017-11-14.csv\u001b[0m\n│  │  └── \u001b[1;32m shops-kushy_api.2017-11-14.sql.gz\u001b[0m\n│  └── \u001b[1;34m Strains\u001b[0m\n│     ├── \u001b[1;32m strains-kushy_api.2017-11-14.csv\u001b[0m\n│     └── \u001b[1;32m strains-kushy_api.2017-11-14.sql.gz\u001b[0m\n├── \u001b[1;34m leafly\u001b[0m\n│  └── \u001b[1;32m cannabis.csv\u001b[0m\n├── \u001b[1;34m neobi\u001b[0m\n└── \u001b[1;32m pull_sets.sh\u001b[0m\n"
    }
   ],
   "source": [
    "!lsd --tree ../data/"
   ]
  },
  {
   "cell_type": "code",
   "execution_count": 13,
   "metadata": {},
   "outputs": [
    {
     "output_type": "stream",
     "name": "stdout",
     "text": "/home/joe/Desktop/school/ds-project/data\n"
    }
   ],
   "source": [
    "%cd ../data"
   ]
  },
  {
   "cell_type": "code",
   "execution_count": 11,
   "metadata": {},
   "outputs": [],
   "source": [
    "import pandas as pd"
   ]
  },
  {
   "cell_type": "code",
   "execution_count": 14,
   "metadata": {},
   "outputs": [],
   "source": [
    "df = pd.read_csv(\"./leafly/cannabis.csv\")"
   ]
  },
  {
   "cell_type": "code",
   "execution_count": 15,
   "metadata": {},
   "outputs": [
    {
     "output_type": "execute_result",
     "data": {
      "text/plain": "           Strain    Type  Rating                                     Effects  \\\n0          100-Og  hybrid     4.0  Creative,Energetic,Tingly,Euphoric,Relaxed   \n1  98-White-Widow  hybrid     4.7    Relaxed,Aroused,Creative,Happy,Energetic   \n2            1024  sativa     4.4   Uplifted,Happy,Relaxed,Energetic,Creative   \n3        13-Dawgs  hybrid     4.2     Tingly,Creative,Hungry,Relaxed,Uplifted   \n4        24K-Gold  hybrid     4.6   Happy,Relaxed,Euphoric,Uplifted,Talkative   \n\n                      Flavor  \\\n0        Earthy,Sweet,Citrus   \n1      Flowery,Violet,Diesel   \n2    Spicy/Herbal,Sage,Woody   \n3  Apricot,Citrus,Grapefruit   \n4       Citrus,Earthy,Orange   \n\n                                         Description  \n0  $100 OG is a 50/50 hybrid strain that packs a ...  \n1  The ‘98 Aloha White Widow is an especially pot...  \n2  1024 is a sativa-dominant hybrid bred in Spain...  \n3  13 Dawgs is a hybrid of G13 and Chemdawg genet...  \n4  Also known as Kosher Tangie, 24k Gold is a 60%...  ",
      "text/html": "<div>\n<style scoped>\n    .dataframe tbody tr th:only-of-type {\n        vertical-align: middle;\n    }\n\n    .dataframe tbody tr th {\n        vertical-align: top;\n    }\n\n    .dataframe thead th {\n        text-align: right;\n    }\n</style>\n<table border=\"1\" class=\"dataframe\">\n  <thead>\n    <tr style=\"text-align: right;\">\n      <th></th>\n      <th>Strain</th>\n      <th>Type</th>\n      <th>Rating</th>\n      <th>Effects</th>\n      <th>Flavor</th>\n      <th>Description</th>\n    </tr>\n  </thead>\n  <tbody>\n    <tr>\n      <th>0</th>\n      <td>100-Og</td>\n      <td>hybrid</td>\n      <td>4.0</td>\n      <td>Creative,Energetic,Tingly,Euphoric,Relaxed</td>\n      <td>Earthy,Sweet,Citrus</td>\n      <td>$100 OG is a 50/50 hybrid strain that packs a ...</td>\n    </tr>\n    <tr>\n      <th>1</th>\n      <td>98-White-Widow</td>\n      <td>hybrid</td>\n      <td>4.7</td>\n      <td>Relaxed,Aroused,Creative,Happy,Energetic</td>\n      <td>Flowery,Violet,Diesel</td>\n      <td>The ‘98 Aloha White Widow is an especially pot...</td>\n    </tr>\n    <tr>\n      <th>2</th>\n      <td>1024</td>\n      <td>sativa</td>\n      <td>4.4</td>\n      <td>Uplifted,Happy,Relaxed,Energetic,Creative</td>\n      <td>Spicy/Herbal,Sage,Woody</td>\n      <td>1024 is a sativa-dominant hybrid bred in Spain...</td>\n    </tr>\n    <tr>\n      <th>3</th>\n      <td>13-Dawgs</td>\n      <td>hybrid</td>\n      <td>4.2</td>\n      <td>Tingly,Creative,Hungry,Relaxed,Uplifted</td>\n      <td>Apricot,Citrus,Grapefruit</td>\n      <td>13 Dawgs is a hybrid of G13 and Chemdawg genet...</td>\n    </tr>\n    <tr>\n      <th>4</th>\n      <td>24K-Gold</td>\n      <td>hybrid</td>\n      <td>4.6</td>\n      <td>Happy,Relaxed,Euphoric,Uplifted,Talkative</td>\n      <td>Citrus,Earthy,Orange</td>\n      <td>Also known as Kosher Tangie, 24k Gold is a 60%...</td>\n    </tr>\n  </tbody>\n</table>\n</div>"
     },
     "metadata": {},
     "execution_count": 15
    }
   ],
   "source": [
    "df.head()"
   ]
  },
  {
   "cell_type": "code",
   "execution_count": 16,
   "metadata": {},
   "outputs": [
    {
     "output_type": "execute_result",
     "data": {
      "text/plain": "Strain          0\nType            0\nRating          0\nEffects         0\nFlavor         46\nDescription    33\ndtype: int64"
     },
     "metadata": {},
     "execution_count": 16
    }
   ],
   "source": [
    "df.isnull().sum()"
   ]
  },
  {
   "cell_type": "code",
   "execution_count": 17,
   "metadata": {},
   "outputs": [],
   "source": [
    "# drop na rows from dataset\n",
    "df.dropna(inplace=True)"
   ]
  },
  {
   "cell_type": "code",
   "execution_count": 18,
   "metadata": {},
   "outputs": [
    {
     "output_type": "execute_result",
     "data": {
      "text/plain": "           Strain    Type  Rating                                     Effects  \\\n0          100-Og  hybrid     4.0  Creative,Energetic,Tingly,Euphoric,Relaxed   \n1  98-White-Widow  hybrid     4.7    Relaxed,Aroused,Creative,Happy,Energetic   \n2            1024  sativa     4.4   Uplifted,Happy,Relaxed,Energetic,Creative   \n3        13-Dawgs  hybrid     4.2     Tingly,Creative,Hungry,Relaxed,Uplifted   \n4        24K-Gold  hybrid     4.6   Happy,Relaxed,Euphoric,Uplifted,Talkative   \n\n                      Flavor  \\\n0        Earthy,Sweet,Citrus   \n1      Flowery,Violet,Diesel   \n2    Spicy/Herbal,Sage,Woody   \n3  Apricot,Citrus,Grapefruit   \n4       Citrus,Earthy,Orange   \n\n                                         Description  \n0  $100 OG is a 50/50 hybrid strain that packs a ...  \n1  The ‘98 Aloha White Widow is an especially pot...  \n2  1024 is a sativa-dominant hybrid bred in Spain...  \n3  13 Dawgs is a hybrid of G13 and Chemdawg genet...  \n4  Also known as Kosher Tangie, 24k Gold is a 60%...  ",
      "text/html": "<div>\n<style scoped>\n    .dataframe tbody tr th:only-of-type {\n        vertical-align: middle;\n    }\n\n    .dataframe tbody tr th {\n        vertical-align: top;\n    }\n\n    .dataframe thead th {\n        text-align: right;\n    }\n</style>\n<table border=\"1\" class=\"dataframe\">\n  <thead>\n    <tr style=\"text-align: right;\">\n      <th></th>\n      <th>Strain</th>\n      <th>Type</th>\n      <th>Rating</th>\n      <th>Effects</th>\n      <th>Flavor</th>\n      <th>Description</th>\n    </tr>\n  </thead>\n  <tbody>\n    <tr>\n      <th>0</th>\n      <td>100-Og</td>\n      <td>hybrid</td>\n      <td>4.0</td>\n      <td>Creative,Energetic,Tingly,Euphoric,Relaxed</td>\n      <td>Earthy,Sweet,Citrus</td>\n      <td>$100 OG is a 50/50 hybrid strain that packs a ...</td>\n    </tr>\n    <tr>\n      <th>1</th>\n      <td>98-White-Widow</td>\n      <td>hybrid</td>\n      <td>4.7</td>\n      <td>Relaxed,Aroused,Creative,Happy,Energetic</td>\n      <td>Flowery,Violet,Diesel</td>\n      <td>The ‘98 Aloha White Widow is an especially pot...</td>\n    </tr>\n    <tr>\n      <th>2</th>\n      <td>1024</td>\n      <td>sativa</td>\n      <td>4.4</td>\n      <td>Uplifted,Happy,Relaxed,Energetic,Creative</td>\n      <td>Spicy/Herbal,Sage,Woody</td>\n      <td>1024 is a sativa-dominant hybrid bred in Spain...</td>\n    </tr>\n    <tr>\n      <th>3</th>\n      <td>13-Dawgs</td>\n      <td>hybrid</td>\n      <td>4.2</td>\n      <td>Tingly,Creative,Hungry,Relaxed,Uplifted</td>\n      <td>Apricot,Citrus,Grapefruit</td>\n      <td>13 Dawgs is a hybrid of G13 and Chemdawg genet...</td>\n    </tr>\n    <tr>\n      <th>4</th>\n      <td>24K-Gold</td>\n      <td>hybrid</td>\n      <td>4.6</td>\n      <td>Happy,Relaxed,Euphoric,Uplifted,Talkative</td>\n      <td>Citrus,Earthy,Orange</td>\n      <td>Also known as Kosher Tangie, 24k Gold is a 60%...</td>\n    </tr>\n  </tbody>\n</table>\n</div>"
     },
     "metadata": {},
     "execution_count": 18
    }
   ],
   "source": [
    "df.head()\n"
   ]
  },
  {
   "cell_type": "code",
   "execution_count": 19,
   "metadata": {},
   "outputs": [],
   "source": [
    "# make the flacors and effects into list's instead of strings\n",
    "def split_strings(x):\n",
    "    X = x.split(',')\n",
    "    return X\n",
    "\n",
    "df[\"Effects\"] = df.Effects.apply(split_strings)\n",
    "df [\"Flavor\"] = df.Flavor.apply(split_strings)"
   ]
  },
  {
   "cell_type": "code",
   "execution_count": 20,
   "metadata": {},
   "outputs": [],
   "source": [
    "# convert to lowercase columns because ocd\n",
    "df.columns = [x.lower() for x in df.columns]"
   ]
  },
  {
   "cell_type": "code",
   "execution_count": 21,
   "metadata": {},
   "outputs": [
    {
     "output_type": "execute_result",
     "data": {
      "text/plain": "                   strain    type  rating  \\\n521          China-Yunnan  indica     4.3   \n1909              Snowcap  hybrid     4.1   \n1114            Jahwaiian  sativa     4.7   \n2307          White-Urkle  hybrid     4.6   \n41       Afghan-Sour-Kush  indica     4.5   \n55      Afternoon-Delight  hybrid     4.8   \n733           Early-Pearl  sativa     3.9   \n258            Blackwater  indica     4.6   \n439             Cambodian  sativa     4.2   \n1933          Sour-Diesel  sativa     4.4   \n1498             Og-Ringo  hybrid     4.5   \n1767  Red-Headed-Stranger  sativa     4.5   \n531    Chocolate-Meringue  indica     0.0   \n850            Garlic-Bud  indica     4.1   \n1792         Rocky-Dennis  hybrid     5.0   \n\n                                               effects  \\\n521       [Uplifted, Happy, Relaxed, Euphoric, Sleepy]   \n1909    [Happy, Euphoric, Uplifted, Focused, Creative]   \n1114   [Aroused, Creative, Energetic, Euphoric, Happy]   \n2307      [Relaxed, Happy, Tingly, Euphoric, Uplifted]   \n41        [Hungry, Relaxed, Aroused, Sleepy, Euphoric]   \n55    [Talkative, Relaxed, Uplifted, Tingly, Creative]   \n733    [Relaxed, Hungry, Euphoric, Focused, Talkative]   \n258         [Relaxed, Sleepy, Euphoric, Happy, Hungry]   \n439   [Energetic, Talkative, Happy, Relaxed, Uplifted]   \n1933   [Happy, Uplifted, Euphoric, Energetic, Relaxed]   \n1498      [Happy, Relaxed, Uplifted, Hungry, Euphoric]   \n1767    [Happy, Energetic, Uplifted, Focused, Relaxed]   \n531                                             [None]   \n850       [Relaxed, Happy, Creative, Uplifted, Tingly]   \n1792      [Euphoric, Happy, Uplifted, Relaxed, Sleepy]   \n\n                             flavor  \\\n521         [Sweet, Earthy, Cheese]   \n1909       [Lemon, Citrus, Pungent]   \n1114      [Sweet, Tropical, Earthy]   \n2307       [Sweet, Flowery, Earthy]   \n41        [Earthy, Diesel, Pungent]   \n55      [Pungent, Citrus, Tropical]   \n733            [Sweet, Earthy, Tea]   \n258          [Earthy, Berry, Grape]   \n439     [Earthy, Tropical, Flowery]   \n1933      [Diesel, Pungent, Earthy]   \n1498           [Lemon, Sweet, Pine]   \n1767  [Spicy/Herbal, Citrus, Sweet]   \n531                          [None]   \n850         [Earthy, Woody, Pepper]   \n1792       [Diesel, Earthy, Citrus]   \n\n                                            description  \n521   China Yunnan is where deep indica relaxation m...  \n1909  Another West Coast strain that has developed q...  \n1114  Jahwaiian by Pua Mana 1st Hawaiian Pakalōlō Se...  \n2307  White Urkle is a hybrid of Purple Urkle and Th...  \n41    Afghan Sour Kush by MTG Seeds is an indica-dom...  \n55    Afternoon Delight, created by Colorado Seed In...  \n733   Early Pearl is a sativa bred by Sensi Seeds. T...  \n258   Blackwater is an indica strain typically bred ...  \n439   Cambodian refers to any strain that grows nati...  \n1933  Sour Diesel, sometimes called Sour D, is an in...  \n1498  OG Ringo is an indica-dominant variety of OG K...  \n1767  Red Headed Stranger is an energizing sativa st...  \n531   Chocolate Meringue is another sweet offering b...  \n850   Garlic Bud is a classic indica strain from the...  \n1792  Rocky Dennis by Cannarado Genetics is terpene-...  ",
      "text/html": "<div>\n<style scoped>\n    .dataframe tbody tr th:only-of-type {\n        vertical-align: middle;\n    }\n\n    .dataframe tbody tr th {\n        vertical-align: top;\n    }\n\n    .dataframe thead th {\n        text-align: right;\n    }\n</style>\n<table border=\"1\" class=\"dataframe\">\n  <thead>\n    <tr style=\"text-align: right;\">\n      <th></th>\n      <th>strain</th>\n      <th>type</th>\n      <th>rating</th>\n      <th>effects</th>\n      <th>flavor</th>\n      <th>description</th>\n    </tr>\n  </thead>\n  <tbody>\n    <tr>\n      <th>521</th>\n      <td>China-Yunnan</td>\n      <td>indica</td>\n      <td>4.3</td>\n      <td>[Uplifted, Happy, Relaxed, Euphoric, Sleepy]</td>\n      <td>[Sweet, Earthy, Cheese]</td>\n      <td>China Yunnan is where deep indica relaxation m...</td>\n    </tr>\n    <tr>\n      <th>1909</th>\n      <td>Snowcap</td>\n      <td>hybrid</td>\n      <td>4.1</td>\n      <td>[Happy, Euphoric, Uplifted, Focused, Creative]</td>\n      <td>[Lemon, Citrus, Pungent]</td>\n      <td>Another West Coast strain that has developed q...</td>\n    </tr>\n    <tr>\n      <th>1114</th>\n      <td>Jahwaiian</td>\n      <td>sativa</td>\n      <td>4.7</td>\n      <td>[Aroused, Creative, Energetic, Euphoric, Happy]</td>\n      <td>[Sweet, Tropical, Earthy]</td>\n      <td>Jahwaiian by Pua Mana 1st Hawaiian Pakalōlō Se...</td>\n    </tr>\n    <tr>\n      <th>2307</th>\n      <td>White-Urkle</td>\n      <td>hybrid</td>\n      <td>4.6</td>\n      <td>[Relaxed, Happy, Tingly, Euphoric, Uplifted]</td>\n      <td>[Sweet, Flowery, Earthy]</td>\n      <td>White Urkle is a hybrid of Purple Urkle and Th...</td>\n    </tr>\n    <tr>\n      <th>41</th>\n      <td>Afghan-Sour-Kush</td>\n      <td>indica</td>\n      <td>4.5</td>\n      <td>[Hungry, Relaxed, Aroused, Sleepy, Euphoric]</td>\n      <td>[Earthy, Diesel, Pungent]</td>\n      <td>Afghan Sour Kush by MTG Seeds is an indica-dom...</td>\n    </tr>\n    <tr>\n      <th>55</th>\n      <td>Afternoon-Delight</td>\n      <td>hybrid</td>\n      <td>4.8</td>\n      <td>[Talkative, Relaxed, Uplifted, Tingly, Creative]</td>\n      <td>[Pungent, Citrus, Tropical]</td>\n      <td>Afternoon Delight, created by Colorado Seed In...</td>\n    </tr>\n    <tr>\n      <th>733</th>\n      <td>Early-Pearl</td>\n      <td>sativa</td>\n      <td>3.9</td>\n      <td>[Relaxed, Hungry, Euphoric, Focused, Talkative]</td>\n      <td>[Sweet, Earthy, Tea]</td>\n      <td>Early Pearl is a sativa bred by Sensi Seeds. T...</td>\n    </tr>\n    <tr>\n      <th>258</th>\n      <td>Blackwater</td>\n      <td>indica</td>\n      <td>4.6</td>\n      <td>[Relaxed, Sleepy, Euphoric, Happy, Hungry]</td>\n      <td>[Earthy, Berry, Grape]</td>\n      <td>Blackwater is an indica strain typically bred ...</td>\n    </tr>\n    <tr>\n      <th>439</th>\n      <td>Cambodian</td>\n      <td>sativa</td>\n      <td>4.2</td>\n      <td>[Energetic, Talkative, Happy, Relaxed, Uplifted]</td>\n      <td>[Earthy, Tropical, Flowery]</td>\n      <td>Cambodian refers to any strain that grows nati...</td>\n    </tr>\n    <tr>\n      <th>1933</th>\n      <td>Sour-Diesel</td>\n      <td>sativa</td>\n      <td>4.4</td>\n      <td>[Happy, Uplifted, Euphoric, Energetic, Relaxed]</td>\n      <td>[Diesel, Pungent, Earthy]</td>\n      <td>Sour Diesel, sometimes called Sour D, is an in...</td>\n    </tr>\n    <tr>\n      <th>1498</th>\n      <td>Og-Ringo</td>\n      <td>hybrid</td>\n      <td>4.5</td>\n      <td>[Happy, Relaxed, Uplifted, Hungry, Euphoric]</td>\n      <td>[Lemon, Sweet, Pine]</td>\n      <td>OG Ringo is an indica-dominant variety of OG K...</td>\n    </tr>\n    <tr>\n      <th>1767</th>\n      <td>Red-Headed-Stranger</td>\n      <td>sativa</td>\n      <td>4.5</td>\n      <td>[Happy, Energetic, Uplifted, Focused, Relaxed]</td>\n      <td>[Spicy/Herbal, Citrus, Sweet]</td>\n      <td>Red Headed Stranger is an energizing sativa st...</td>\n    </tr>\n    <tr>\n      <th>531</th>\n      <td>Chocolate-Meringue</td>\n      <td>indica</td>\n      <td>0.0</td>\n      <td>[None]</td>\n      <td>[None]</td>\n      <td>Chocolate Meringue is another sweet offering b...</td>\n    </tr>\n    <tr>\n      <th>850</th>\n      <td>Garlic-Bud</td>\n      <td>indica</td>\n      <td>4.1</td>\n      <td>[Relaxed, Happy, Creative, Uplifted, Tingly]</td>\n      <td>[Earthy, Woody, Pepper]</td>\n      <td>Garlic Bud is a classic indica strain from the...</td>\n    </tr>\n    <tr>\n      <th>1792</th>\n      <td>Rocky-Dennis</td>\n      <td>hybrid</td>\n      <td>5.0</td>\n      <td>[Euphoric, Happy, Uplifted, Relaxed, Sleepy]</td>\n      <td>[Diesel, Earthy, Citrus]</td>\n      <td>Rocky Dennis by Cannarado Genetics is terpene-...</td>\n    </tr>\n  </tbody>\n</table>\n</div>"
     },
     "metadata": {},
     "execution_count": 21
    }
   ],
   "source": [
    "df.sample(15)"
   ]
  },
  {
   "cell_type": "code",
   "execution_count": 22,
   "metadata": {},
   "outputs": [],
   "source": [
    "# seems good to save and make a base db with\n",
    "# going to seperate the strain names out so that i can query api's with them and get more info"
   ]
  },
  {
   "cell_type": "code",
   "execution_count": 2,
   "metadata": {},
   "outputs": [],
   "source": [
    "from models import db"
   ]
  },
  {
   "cell_type": "code",
   "execution_count": 7,
   "metadata": {},
   "outputs": [],
   "source": [
    "from sqlalchemy import create_engine\n",
    "engine = create_engine(getenv(\"DATABASE_URL\"))"
   ]
  },
  {
   "cell_type": "code",
   "execution_count": 23,
   "metadata": {},
   "outputs": [],
   "source": [
    "df.to_sql(\"strains\",engine)"
   ]
  },
  {
   "cell_type": "code",
   "execution_count": null,
   "metadata": {},
   "outputs": [],
   "source": []
  }
 ],
 "metadata": {
  "language_info": {
   "codemirror_mode": {
    "name": "ipython",
    "version": 3
   },
   "file_extension": ".py",
   "mimetype": "text/x-python",
   "name": "python",
   "nbconvert_exporter": "python",
   "pygments_lexer": "ipython3",
   "version": "3.7.6-final"
  },
  "orig_nbformat": 2,
  "kernelspec": {
   "name": "python37664bitdsflaskconda5d6acf79da9542b3aeeb7103e7ad852b",
   "display_name": "Python 3.7.6 64-bit ('ds-Flask': conda)"
  }
 },
 "nbformat": 4,
 "nbformat_minor": 2
}