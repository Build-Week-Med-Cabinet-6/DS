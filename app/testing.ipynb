{
 "cells": [
  {
   "cell_type": "markdown",
   "metadata": {},
   "source": [
    "# looking at neobi for adding data to leafly"
   ]
  },
  {
   "cell_type": "code",
   "execution_count": 1,
   "metadata": {},
   "outputs": [],
   "source": [
    "from os import getenv"
   ]
  },
  {
   "cell_type": "code",
   "execution_count": 6,
   "metadata": {
    "tags": [
     "outputPrepend"
    ]
   },
   "outputs": [
    {
     "output_type": "stream",
     "name": "stdout",
     "text": "ova Vaporizer\",\"ccc\":\"60556\",\"link\":\"https://neobi.io/products?p=60556\",\"qr\":\"https://api.qrserver.com/v1/create-qr-code/?size=150x150&data=https://neobi.io/products?p=60556\",\"url\":\"https://cannabis.mynslc.com/en/products/accessories/vapourizers/1033372.aspx\",\"image\":\"cannabis.mynslc.com/en/skins/cannabis/images/Unavailable.jpg\",\"type\":\"Accessories\",\"labTest\":false,\"thc\":\"\",\"cbd\":\"\",\"price\":\"$56.29\",\"instockstatus\":\"In Stock\",\"metaDescription\":\"\",\"metaTitle\":\"\",\"eqWeight\":\"\",\"brand\":\"Premium 5\",\"currency\":\"CAD\",\"updatedAt\":\"2020-04-27T06:54:56\",\"producer\":{\"name\":\"Cannabis.myNSLC\",\"ccc\":\"248\",\"link\":\"https://neobi.io/product?i=248-1033372\",\"location\":\"\",\"image\":\"https://neobi.io/images/coming-soon.jpg\",\"phone\":\"\",\"email\":\"\",\"productCount\":\"500\"}},{\"name\":\"Pax3 Black Matte Complete\",\"ccc\":\"46634\",\"link\":\"https://neobi.io/products?p=46634\",\"qr\":\"https://api.qrserver.com/v1/create-qr-code/?size=150x150&data=https://neobi.io/products?p=46634\",\"url\":\"https://cannabis.mynslc.com/en/products/accessories/vapourizers/1032629.aspx\",\"image\":\"cannabis.mynslc.com/en/-/media/Images/Cannabis/Products/1032600/1032629/1032629_PAX3_Black_Matte_Complete.jpg\",\"type\":\"Accessories\",\"labTest\":false,\"thc\":\"\",\"cbd\":\"\",\"price\":\"$346.30\",\"instockstatus\":\"In Stock\",\"metaDescription\":\"\",\"metaTitle\":\"\",\"eqWeight\":\"\",\"brand\":\"Pax\",\"currency\":\"CAD\",\"updatedAt\":\"2020-04-27T06:54:55\",\"producer\":{\"name\":\"Cannabis.myNSLC\",\"ccc\":\"248\",\"link\":\"https://neobi.io/product?i=248-1032629\",\"location\":\"\",\"image\":\"https://neobi.io/images/coming-soon.jpg\",\"phone\":\"\",\"email\":\"\",\"productCount\":\"500\"}},{\"name\":\"Pax Era Battery\",\"ccc\":\"47330\",\"link\":\"https://neobi.io/products?p=47330\",\"qr\":\"https://api.qrserver.com/v1/create-qr-code/?size=150x150&data=https://neobi.io/products?p=47330\",\"url\":\"https://cannabis.mynslc.com/en/products/accessories/batteries/1032650.aspx\",\"image\":\"cannabis.mynslc.com/en/-/media/Images/Cannabis/Products/1032600/1032650/1032650_PAX_Era.jpg\",\"type\":\"Accessories\",\"labTest\":false,\"thc\":\"\",\"cbd\":\"\",\"price\":\"$48.30\",\"instockstatus\":\"In Stock\",\"metaDescription\":\"\",\"metaTitle\":\"\",\"eqWeight\":\"\",\"brand\":\"Pax\",\"currency\":\"CAD\",\"updatedAt\":\"2020-04-27T06:54:54\",\"producer\":{\"name\":\"Cannabis.myNSLC\",\"ccc\":\"248\",\"link\":\"https://neobi.io/product?i=248-1032650\",\"location\":\"\",\"image\":\"https://neobi.io/images/coming-soon.jpg\",\"phone\":\"\",\"email\":\"\",\"productCount\":\"500\"}},{\"name\":\"One-Hitter Slim Pipe\",\"ccc\":\"31349\",\"link\":\"https://neobi.io/products?p=31349\",\"qr\":\"https://api.qrserver.com/v1/create-qr-code/?size=150x150&data=https://neobi.io/products?p=31349\",\"url\":\"https://cannabis.mynslc.com/en/products/accessories/hand-pipes/1029632.aspx\",\"image\":\"cannabis.mynslc.com/en/-/media/Images/Cannabis/Products/1029600/1029632/1029632_A1C0_1.jpg\",\"type\":\"Accessories\",\"labTest\":false,\"thc\":\"\",\"cbd\":\"\",\"price\":\"$30.19\",\"instockstatus\":\"In Stock\",\"metaDescription\":\"\",\"metaTitle\":\"\",\"eqWeight\":\"\",\"brand\":\"Silverstick\",\"currency\":\"CAD\",\"updatedAt\":\"2020-04-27T06:54:42\",\"producer\":{\"name\":\"Cannabis.myNSLC\",\"ccc\":\"248\",\"link\":\"https://neobi.io/product?i=248-1029632\",\"location\":\"\",\"image\":\"https://neobi.io/images/coming-soon.jpg\",\"phone\":\"\",\"email\":\"\",\"productCount\":\"500\"}},{\"name\":\"Ocb Crystal Hand Roller 79Mm\",\"ccc\":\"31348\",\"link\":\"https://neobi.io/products?p=31348\",\"qr\":\"https://api.qrserver.com/v1/create-qr-code/?size=150x150&data=https://neobi.io/products?p=31348\",\"url\":\"https://cannabis.mynslc.com/en/products/accessories/papers/1030644.aspx\",\"image\":\"cannabis.mynslc.com/en/-/media/Images/Cannabis/Products/1030600/1030644/1030644_A7C0.jpg\",\"type\":\"Accessories\",\"labTest\":false,\"thc\":\"\",\"cbd\":\"\",\"price\":\"$3.96\",\"instockstatus\":\"In Stock\",\"metaDescription\":\"\",\"metaTitle\":\"\",\"eqWeight\":\"\",\"brand\":\"Ocb\",\"currency\":\"CAD\",\"updatedAt\":\"2020-04-27T06:54:41\",\"producer\":{\"name\":\"Cannabis.myNSLC\",\"ccc\":\"248\",\"link\":\"https://neobi.io/product?i=248-1030644\",\"location\":\"\",\"image\":\"https://neobi.io/images/coming-soon.jpg\",\"phone\":\"\",\"email\":\"\",\"productCount\":\"500\"}},{\"name\":\"Kolab Battery W Charger\",\"ccc\":\"47329\",\"link\":\"https://neobi.io/products?p=47329\",\"qr\":\"https://api.qrserver.com/v1/create-qr-code/?size=150x150&data=https://neobi.io/products?p=47329\",\"url\":\"https://cannabis.mynslc.com/en/products/accessories/batteries/1032891.aspx\",\"image\":\"cannabis.mynslc.com/en/-/media/Images/Cannabis/Products/1032800/1032891/1032891_Kolab_Project_Vaporizer_Battery_1.jpg\",\"type\":\"Accessories\",\"labTest\":false,\"thc\":\"\",\"cbd\":\"\",\"price\":\"$12.98\",\"instockstatus\":\"In Stock\",\"metaDescription\":\"\",\"metaTitle\":\"\",\"eqWeight\":\"\",\"brand\":\"Kolab\",\"currency\":\"CAD\",\"updatedAt\":\"2020-04-27T06:54:40\",\"producer\":{\"name\":\"Cannabis.myNSLC\",\"ccc\":\"248\",\"link\":\"https://neobi.io/product?i=248-1032891\",\"location\":\"\",\"image\":\"https://neobi.io/images/coming-soon.jpg\",\"phone\":\"\",\"email\":\"\",\"productCount\":\"500\"}},{\"name\":\"In Boost 4G 62P Humidiccant Pk\",\"ccc\":\"31346\",\"link\":\"https://neobi.io/products?p=31346\",\"qr\":\"https://api.qrserver.com/v1/create-qr-code/?size=150x150&data=https://neobi.io/products?p=31346\",\"url\":\"https://cannabis.mynslc.com/en/products/accessories/storage-containers/1029638.aspx\",\"image\":\"cannabis.mynslc.com/en/-/media/Images/Cannabis/Products/1029600/1029638/1029638_A1C1.jpg\",\"type\":\"Accessories\",\"labTest\":false,\"thc\":\"\",\"cbd\":\"\",\"price\":\"$0.99\",\"instockstatus\":\"In Stock\",\"metaDescription\":\"\",\"metaTitle\":\"\",\"eqWeight\":\"\",\"brand\":\"Integra Boost\",\"currency\":\"CAD\",\"updatedAt\":\"2020-04-27T06:54:39\",\"producer\":{\"name\":\"Cannabis.myNSLC\",\"ccc\":\"248\",\"link\":\"https://neobi.io/product?i=248-1029638\",\"location\":\"\",\"image\":\"https://neobi.io/images/coming-soon.jpg\",\"phone\":\"\",\"email\":\"\",\"productCount\":\"500\"}},{\"name\":\"Journey Pipe 3 Silver W Case\",\"ccc\":\"31347\",\"link\":\"https://neobi.io/products?p=31347\",\"qr\":\"https://api.qrserver.com/v1/create-qr-code/?size=150x150&data=https://neobi.io/products?p=31347\",\"url\":\"https://cannabis.mynslc.com/en/products/accessories/hand-pipes/1030147.aspx\",\"image\":\"cannabis.mynslc.com/en/-/media/Images/Cannabis/Products/1030100/1030147/1030147_A1C0.jpg\",\"type\":\"Accessories\",\"labTest\":false,\"thc\":\"\",\"cbd\":\"\",\"price\":\"$38.81\",\"instockstatus\":\"In Stock\",\"metaDescription\":\"\",\"metaTitle\":\"\",\"eqWeight\":\"\",\"brand\":\"Journey Pipe\",\"currency\":\"CAD\",\"updatedAt\":\"2020-04-27T06:54:39\",\"producer\":{\"name\":\"Cannabis.myNSLC\",\"ccc\":\"248\",\"link\":\"https://neobi.io/product?i=248-1030147\",\"location\":\"\",\"image\":\"https://neobi.io/images/coming-soon.jpg\",\"phone\":\"\",\"email\":\"\",\"productCount\":\"500\"}},{\"name\":\"Hera 2 Vapourizer\",\"ccc\":\"31345\",\"link\":\"https://neobi.io/products?p=31345\",\"qr\":\"https://api.qrserver.com/v1/create-qr-code/?size=150x150&data=https://neobi.io/products?p=31345\",\"url\":\"https://cannabis.mynslc.com/en/products/accessories/vapourizers/1029621.aspx\",\"image\":\"cannabis.mynslc.com/en/-/media/Images/Cannabis/Products/1029600/1029621/1029621_A1C1.jpg\",\"type\":\"Accessories\",\"labTest\":false,\"thc\":\"\",\"cbd\":\"\",\"price\":\"$257.02\",\"instockstatus\":\"In Stock\",\"metaDescription\":\"\",\"metaTitle\":\"\",\"eqWeight\":\"\",\"brand\":\"Hera\",\"currency\":\"CAD\",\"updatedAt\":\"2020-04-27T06:54:38\",\"producer\":{\"name\":\"Cannabis.myNSLC\",\"ccc\":\"248\",\"link\":\"https://neobi.io/product?i=248-1029621\",\"location\":\"\",\"image\":\"https://neobi.io/images/coming-soon.jpg\",\"phone\":\"\",\"email\":\"\",\"productCount\":\"500\"}},{\"name\":\"Grav Labs 4In Spoon Green\",\"ccc\":\"35178\",\"link\":\"https://neobi.io/products?p=35178\",\"qr\":\"https://api.qrserver.com/v1/create-qr-code/?size=150x150&data=https://neobi.io/products?p=35178\",\"url\":\"https://cannabis.mynslc.com/en/products/accessories/hand-pipes/1031633.aspx\",\"image\":\"cannabis.mynslc.com/en/-/media/Images/Cannabis/Products/1031600/1031633/1031633_A1C0.jpg\",\"type\":\"Accessories\",\"labTest\":false,\"thc\":\"\",\"cbd\":\"\",\"price\":\"$20.53\",\"instockstatus\":\"In Stock\",\"metaDescription\":\"\",\"metaTitle\":\"\",\"eqWeight\":\"\",\"brand\":\"Grav Labs\",\"currency\":\"CAD\",\"updatedAt\":\"2020-04-27T06:54:37\",\"producer\":{\"name\":\"Cannabis.myNSLC\",\"ccc\":\"248\",\"link\":\"https://neobi.io/product?i=248-1031633\",\"location\":\"\",\"image\":\"https://neobi.io/images/coming-soon.jpg\",\"phone\":\"\",\"email\":\"\",\"productCount\":\"500\"}},{\"name\":\"Grav Labs 3In 9Mm Taster Clear Inhaler\",\"ccc\":\"31344\",\"link\":\"https://neobi.io/products?p=31344\",\"qr\":\"https://api.qrserver.com/v1/create-qr-code/?size=150x150&data=https://neobi.io/products?p=31344\",\"url\":\"https://cannabis.mynslc.com/en/products/accessories/hand-pipes/1030268.aspx\",\"image\":\"cannabis.mynslc.com/en/-/media/Images/Cannabis/Products/1030200/1030268/1030268_A1C1.jpg\",\"type\":\"Accessories\",\"labTest\":false,\"thc\":\"\",\"cbd\":\"\",\"price\":\"$5.18\",\"instockstatus\":\"In Stock\",\"metaDescription\":\"\",\"metaTitle\":\"\",\"eqWeight\":\"\",\"brand\":\"Grav Labs\",\"currency\":\"CAD\",\"updatedAt\":\"2020-04-27T06:54:36\",\"producer\":{\"name\":\"Cannabis.myNSLC\",\"ccc\":\"248\",\"link\":\"https://neobi.io/product?i=248-1030268\",\"location\":\"\",\"image\":\"https://neobi.io/images/coming-soon.jpg\",\"phone\":\"\",\"email\":\"\",\"productCount\":\"500\"}},{\"name\":\"GR8TR V2 Series Grinder\",\"ccc\":\"31342\",\"link\":\"https://neobi.io/products?p=31342\",\"qr\":\"https://api.qrserver.com/v1/create-qr-code/?size=150x150&data=https://neobi.io/products?p=31342\",\"url\":\"https://cannabis.mynslc.com/en/products/accessories/grinders/1029625.aspx\",\"image\":\"cannabis.mynslc.com/en/-/media/Images/Cannabis/Products/1029600/1029625/1029625_A1C0.jpg\",\"type\":\"Accessories\",\"labTest\":false,\"thc\":\"\",\"cbd\":\"\",\"price\":\"$75.13\",\"instockstatus\":\"In Stock\",\"metaDescription\":\"\",\"metaTitle\":\"\",\"eqWeight\":\"\",\"brand\":\"Kannastor\",\"currency\":\"CAD\",\"updatedAt\":\"2020-04-27T06:54:35\",\"producer\":{\"name\":\"Cannabis.myNSLC\",\"ccc\":\"248\",\"link\":\"https://neobi.io/product?i=248-1029625\",\"location\":\"\",\"image\":\"https://neobi.io/images/coming-soon.jpg\",\"phone\":\"\",\"email\":\"\",\"productCount\":\"500\"}},{\"name\":\"Futurola Pre-Roll Slim Sz 3 Cones\",\"ccc\":\"31341\",\"link\":\"https://neobi.io/products?p=31341\",\"qr\":\"https://api.qrserver.com/v1/create-qr-code/?size=150x150&data=https://neobi.io/products?p=31341\",\"url\":\"https://cannabis.mynslc.com/en/products/accessories/papers/1030649.aspx\",\"image\":\"cannabis.mynslc.com/en/-/media/Images/Cannabis/Products/1030600/1030649/1030649_A1C1.jpg\",\"type\":\"Accessories\",\"labTest\":false,\"thc\":\"\",\"cbd\":\"\",\"price\":\"$2.50\",\"instockstatus\":\"In Stock\",\"metaDescription\":\"\",\"metaTitle\":\"\",\"eqWeight\":\"\",\"brand\":\"Futurola\",\"currency\":\"CAD\",\"updatedAt\":\"2020-04-27T06:54:34\",\"producer\":{\"name\":\"Cannabis.myNSLC\",\"ccc\":\"248\",\"link\":\"https://neobi.io/product?i=248-1030649\",\"location\":\"\",\"image\":\"https://neobi.io/images/coming-soon.jpg\",\"phone\":\"\",\"email\":\"\",\"productCount\":\"500\"}},{\"name\":\"Doobtool Case &amp\\'\\' Multi Tool\",\"ccc\":\"45346\",\"link\":\"https://neobi.io/products?p=45346\",\"qr\":\"https://api.qrserver.com/v1/create-qr-code/?size=150x150&data=https://neobi.io/products?p=45346\",\"url\":\"https://cannabis.mynslc.com/en/products/accessories/grinders/1032622.aspx\",\"image\":\"cannabis.mynslc.com/en/-/media/Images/Cannabis/Products/1032600/1032622/1032622_doobtool_cannabiscasmultitool.jpg\",\"type\":\"Accessories\",\"labTest\":false,\"thc\":\"\",\"cbd\":\"\",\"price\":\"$43.49\",\"instockstatus\":\"In Stock\",\"metaDescription\":\"\",\"metaTitle\":\"\",\"eqWeight\":\"\",\"brand\":\"Doobtool\",\"currency\":\"CAD\",\"updatedAt\":\"2020-04-27T06:54:33\",\"producer\":{\"name\":\"Cannabis.myNSLC\",\"ccc\":\"248\",\"link\":\"https://neobi.io/product?i=248-1032622\",\"location\":\"\",\"image\":\"https://neobi.io/images/coming-soon.jpg\",\"phone\":\"\",\"email\":\"\",\"productCount\":\"500\"}},{\"name\":\"Concentrate Taster Grav Clear\",\"ccc\":\"59661\",\"link\":\"https://neobi.io/products?p=59661\",\"qr\":\"https://api.qrserver.com/v1/create-qr-code/?size=150x150&data=https://neobi.io/products?p=59661\",\"url\":\"https://cannabis.mynslc.com/en/products/accessories/hand-pipes/1032934.aspx\",\"image\":\"cannabis.mynslc.com/en/skins/cannabis/images/Unavailable.jpg\",\"type\":\"Accessories\",\"labTest\":false,\"thc\":\"\",\"cbd\":\"\",\"price\":\"$14.98\",\"instockstatus\":\"In Stock\",\"metaDescription\":\"\",\"metaTitle\":\"\",\"eqWeight\":\"\",\"brand\":\"Grav\",\"currency\":\"CAD\",\"updatedAt\":\"2020-04-27T06:54:32\",\"producer\":{\"name\":\"Cannabis.myNSLC\",\"ccc\":\"248\",\"link\":\"https://neobi.io/product?i=248-1032934\",\"location\":\"\",\"image\":\"https://neobi.io/images/coming-soon.jpg\",\"phone\":\"\",\"email\":\"\",\"productCount\":\"500\"}},{\"name\":\"Ccell Palm Battery\",\"ccc\":\"47326\",\"link\":\"https://neobi.io/products?p=47326\",\"qr\":\"https://api.qrserver.com/v1/create-qr-code/?size=150x150&data=https://neobi.io/products?p=47326\",\"url\":\"https://cannabis.mynslc.com/en/products/accessories/batteries/1032647.aspx\",\"image\":\"cannabis.mynslc.com/en/skins/cannabis/images/Unavailable.jpg\",\"type\":\"Accessories\",\"labTest\":false,\"thc\":\"\",\"cbd\":\"\",\"price\":\"$34.50\",\"instockstatus\":\"In Stock\",\"metaDescription\":\"\",\"metaTitle\":\"\",\"eqWeight\":\"\",\"brand\":\"Ccell\",\"currency\":\"CAD\",\"updatedAt\":\"2020-04-27T06:54:31\",\"producer\":{\"name\":\"Cannabis.myNSLC\",\"ccc\":\"248\",\"link\":\"https://neobi.io/product?i=248-1032647\",\"location\":\"\",\"image\":\"https://neobi.io/images/coming-soon.jpg\",\"phone\":\"\",\"email\":\"\",\"productCount\":\"500\"}},{\"name\":\"Ccell M3 Battery\",\"ccc\":\"47325\",\"link\":\"https://neobi.io/products?p=47325\",\"qr\":\"https://api.qrserver.com/v1/create-qr-code/?size=150x150&data=https://neobi.io/products?p=47325\",\"url\":\"https://cannabis.mynslc.com/en/products/accessories/batteries/1032646.aspx\",\"image\":\"cannabis.mynslc.com/en/skins/cannabis/images/Unavailable.jpg\",\"type\":\"Accessories\",\"labTest\":false,\"thc\":\"\",\"cbd\":\"\",\"price\":\"$10.35\",\"instockstatus\":\"In Stock\",\"metaDescription\":\"\",\"metaTitle\":\"\",\"eqWeight\":\"\",\"brand\":\"Ccell\",\"currency\":\"CAD\",\"updatedAt\":\"2020-04-27T06:54:30\",\"producer\":{\"name\":\"Cannabis.myNSLC\",\"ccc\":\"248\",\"link\":\"https://neobi.io/product?i=248-1032646\",\"location\":\"\",\"image\":\"https://neobi.io/images/coming-soon.jpg\",\"phone\":\"\",\"email\":\"\",\"productCount\":\"500\"}},{\"name\":\"Canadian Lumber Woods 1.25 Papers\",\"ccc\":\"31340\",\"link\":\"https://neobi.io/products?p=31340\",\"qr\":\"https://api.qrserver.com/v1/create-qr-code/?size=150x150&data=https://neobi.io/products?p=31340\",\"url\":\"https://cannabis.mynslc.com/en/products/accessories/papers/1029635.aspx\",\"image\":\"cannabis.mynslc.com/en/-/media/Images/Cannabis/Products/1029600/1029635/1029635_A7C0.jpg\",\"type\":\"Accessories\",\"labTest\":false,\"thc\":\"\",\"cbd\":\"\",\"price\":\"$2.50\",\"instockstatus\":\"In Stock\",\"metaDescription\":\"\",\"metaTitle\":\"\",\"eqWeight\":\"\",\"brand\":\"Canadian Lumber\",\"currency\":\"CAD\",\"updatedAt\":\"2020-04-27T06:54:29\",\"producer\":{\"name\":\"Cannabis.myNSLC\",\"ccc\":\"248\",\"link\":\"https://neobi.io/product?i=248-1029635\",\"location\":\"\",\"image\":\"https://neobi.io/images/coming-soon.jpg\",\"phone\":\"\",\"email\":\"\",\"productCount\":\"500\"}},{\"name\":\"Canadian Lumber Hippy 1.25 Papers\",\"ccc\":\"31339\",\"link\":\"https://neobi.io/products?p=31339\",\"qr\":\"https://api.qrserver.com/v1/create-qr-code/?size=150x150&data=https://neobi.io/products?p=31339\",\"url\":\"https://cannabis.mynslc.com/en/products/accessories/papers/1029634.aspx\",\"image\":\"cannabis.mynslc.com/en/-/media/Images/Cannabis/Products/1029600/1029634/1029634_A7C0.jpg\",\"type\":\"Accessories\",\"labTest\":false,\"thc\":\"\",\"cbd\":\"\",\"price\":\"$2.50\",\"instockstatus\":\"In Stock\",\"metaDescription\":\"\",\"metaTitle\":\"\",\"eqWeight\":\"\",\"brand\":\"Canadian Lumber\",\"currency\":\"CAD\",\"updatedAt\":\"2020-04-27T06:54:28\",\"producer\":{\"name\":\"Cannabis.myNSLC\",\"ccc\":\"248\",\"link\":\"https://neobi.io/product?i=248-1029634\",\"location\":\"\",\"image\":\"https://neobi.io/images/coming-soon.jpg\",\"phone\":\"\",\"email\":\"\",\"productCount\":\"500\"}},{\"name\":\"Canadian Lumber Greens 1.25 Papers\",\"ccc\":\"31338\",\"link\":\"https://neobi.io/products?p=31338\",\"qr\":\"https://api.qrserver.com/v1/create-qr-code/?size=150x150&data=https://neobi.io/products?p=31338\",\"url\":\"https://cannabis.mynslc.com/en/products/accessories/papers/1029633.aspx\",\"image\":\"cannabis.mynslc.com/en/-/media/Images/Cannabis/Products/1029600/1029633/1029633_A7C0.jpg\",\"type\":\"Accessories\",\"labTest\":false,\"thc\":\"\",\"cbd\":\"\",\"price\":\"$2.50\",\"instockstatus\":\"In Stock\",\"metaDescription\":\"\",\"metaTitle\":\"\",\"eqWeight\":\"\",\"brand\":\"Canadian Lumber\",\"currency\":\"CAD\",\"updatedAt\":\"2020-04-27T06:54:27\",\"producer\":{\"name\":\"Cannabis.myNSLC\",\"ccc\":\"248\",\"link\":\"https://neobi.io/product?i=248-1029633\",\"location\":\"\",\"image\":\"https://neobi.io/images/coming-soon.jpg\",\"phone\":\"\",\"email\":\"\",\"productCount\":\"500\"}},{\"name\":\"Boundless Terp Pen Silver\",\"ccc\":\"59660\",\"link\":\"https://neobi.io/products?p=59660\",\"qr\":\"https://api.qrserver.com/v1/create-qr-code/?size=150x150&data=https://neobi.io/products?p=59660\",\"url\":\"https://cannabis.mynslc.com/en/products/accessories/vapourizers/1032935.aspx\",\"image\":\"cannabis.mynslc.com/en/skins/cannabis/images/Unavailable.jpg\",\"type\":\"Accessories\",\"labTest\":false,\"thc\":\"\",\"cbd\":\"\",\"price\":\"$39.99\",\"instockstatus\":\"In Stock\",\"metaDescription\":\"\",\"metaTitle\":\"\",\"eqWeight\":\"\",\"brand\":\"Boundless\",\"currency\":\"CAD\",\"updatedAt\":\"2020-04-27T06:54:26\",\"producer\":{\"name\":\"Cannabis.myNSLC\",\"ccc\":\"248\",\"link\":\"https://neobi.io/product?i=248-1032935\",\"location\":\"\",\"image\":\"https://neobi.io/images/coming-soon.jpg\",\"phone\":\"\",\"email\":\"\",\"productCount\":\"500\"}},{\"name\":\"Bamboo Poker Box w/ Matching Taster Bat\",\"ccc\":\"31337\",\"link\":\"https://neobi.io/products?p=31337\",\"qr\":\"https://api.qrserver.com/v1/create-qr-code/?size=150x150&data=https://neobi.io/products?p=31337\",\"url\":\"https://cannabis.mynslc.com/en/products/accessories/hand-pipes/1029631.aspx\",\"image\":\"cannabis.mynslc.com/en/-/media/Images/Cannabis/Products/1029600/1029631/1029631_A1C0.jpg\",\"type\":\"Accessories\",\"labTest\":false,\"thc\":\"\",\"cbd\":\"\",\"price\":\"$25.70\",\"instockstatus\":\"In Stock\",\"metaDescription\":\"\",\"metaTitle\":\"\",\"eqWeight\":\"\",\"brand\":\"Ryot\",\"currency\":\"CAD\",\"updatedAt\":\"2020-04-27T06:54:25\",\"producer\":{\"name\":\"Cannabis.myNSLC\",\"ccc\":\"248\",\"link\":\"https://neobi.io/product?i=248-1029631\",\"location\":\"\",\"image\":\"https://neobi.io/images/coming-soon.jpg\",\"phone\":\"\",\"email\":\"\",\"productCount\":\"500\"}},{\"name\":\"APX V2 Vapourizer\",\"ccc\":\"31336\",\"link\":\"https://neobi.io/products?p=31336\",\"qr\":\"https://api.qrserver.com/v1/create-qr-code/?size=150x150&data=https://neobi.io/products?p=31336\",\"url\":\"https://cannabis.mynslc.com/en/products/accessories/vapourizers/1029619.aspx\",\"image\":\"cannabis.mynslc.com/en/-/media/Images/Cannabis/Products/1029600/1029619/1029619_A1C1_1.jpg\",\"type\":\"Accessories\",\"labTest\":false,\"thc\":\"\",\"cbd\":\"\",\"price\":\"$98.00\",\"instockstatus\":\"In Stock\",\"metaDescription\":\"\",\"metaTitle\":\"\",\"eqWeight\":\"\",\"brand\":\"Pulsar\",\"currency\":\"CAD\",\"updatedAt\":\"2020-04-27T06:54:24\",\"producer\":{\"name\":\"Cannabis.myNSLC\",\"ccc\":\"248\",\"link\":\"https://neobi.io/product?i=248-1029619\",\"location\":\"\",\"image\":\"https://neobi.io/images/coming-soon.jpg\",\"phone\":\"\",\"email\":\"\",\"productCount\":\"500\"}},{\"name\":\"50Ml Luky8 Cannabis Odor Elim Spry\",\"ccc\":\"60008\",\"link\":\"https://neobi.io/products?p=60008\",\"qr\":\"https://api.qrserver.com/v1/create-qr-code/?size=150x150&data=https://neobi.io/products?p=60008\",\"url\":\"https://cannabis.mynslc.com/en/products/accessories/papers/1033587.aspx\",\"image\":\"cannabis.mynslc.com/en/skins/cannabis/images/Unavailable.jpg\",\"type\":\"Accessories\",\"labTest\":false,\"thc\":\"\",\"cbd\":\"\",\"price\":\"$10.99\",\"instockstatus\":\"In Stock\",\"metaDescription\":\"\",\"metaTitle\":\"\",\"eqWeight\":\"\",\"brand\":\"Luky8\",\"currency\":\"CAD\",\"updatedAt\":\"2020-04-27T06:54:23\",\"producer\":{\"name\":\"Cannabis.myNSLC\",\"ccc\":\"248\",\"link\":\"https://neobi.io/product?i=248-1033587\",\"location\":\"\",\"image\":\"https://neobi.io/images/coming-soon.jpg\",\"phone\":\"\",\"email\":\"\",\"productCount\":\"500\"}},{\"name\":\"4-Piece Grinder\",\"ccc\":\"31335\",\"link\":\"https://neobi.io/products?p=31335\",\"qr\":\"https://api.qrserver.com/v1/create-qr-code/?size=150x150&data=https://neobi.io/products?p=31335\",\"url\":\"https://cannabis.mynslc.com/en/products/accessories/grinders/1029624.aspx\",\"image\":\"cannabis.mynslc.com/en/-/media/Images/Cannabis/Products/1029600/1029624/1029624_A1C1_1.jpg\",\"type\":\"Accessories\",\"labTest\":false,\"thc\":\"\",\"cbd\":\"\",\"price\":\"$31.91\",\"instockstatus\":\"In Stock\",\"metaDescription\":\"\",\"metaTitle\":\"\",\"eqWeight\":\"\",\"brand\":\"Kannastor\",\"currency\":\"CAD\",\"updatedAt\":\"2020-04-27T06:54:22\",\"producer\":{\"name\":\"Cannabis.myNSLC\",\"ccc\":\"248\",\"link\":\"https://neobi.io/product?i=248-1029624\",\"location\":\"\",\"image\":\"https://neobi.io/images/coming-soon.jpg\",\"phone\":\"\",\"email\":\"\",\"productCount\":\"500\"}}]'\n"
    }
   ],
   "source": [
    "import base64\n",
    "from http import client\n",
    "from urllib import request, parse, error\n",
    "\n",
    "from os import path\n",
    "from dotenv import load_dotenv\n",
    "from bs4 import BeautifulSoup\n",
    "# custom error to define that we can't co0nnect to the api\n",
    "from app.utils.exceptions import APIError\n",
    "\n",
    "class thirdpart_requester():\n",
    "    def __init__(self):\n",
    "        \"\"\"sets the api key and fits it to the header\n",
    "        \"\"\"\n",
    "        load_dotenv()\n",
    "        # pass the api key to the api\n",
    "        self.headers = {\n",
    "            # Request headers\n",
    "            'Ocp-Apim-Subscription-Key': getenv(\"API_KEY\")}\n",
    "        return\n",
    "    def setEndPoint(self,APIEnpoint:str):\n",
    "        \"\"\"Set the endpoint for the api to use\n",
    "\n",
    "        \"\"\"\n",
    "        self.ENDPOINT = APIEnpoint\n",
    "    def setParams(self,params:dict)\n",
    "        self.PARAMS = params\n",
    "    def connect(self)\n",
    "        pass\n",
    "    def _encodeparams(self):\n",
    "        params = parse.urlencode({\n",
    "            # Request parameters\n",
    "            #'page': '{integer}',\n",
    "            #'count': '200',\n",
    "            #'sort': '{string}',\n",
    "            #'thc': '{string}',\n",
    "            #'location': '{string}',\n",
    "            #'htmlDescription': '{boolean}',\n",
    "            #'active': '{string}',\n",
    "        })\n",
    "try:\n",
    "    conn = client.HTTPSConnection('neobi.azure-api.net')\n",
    "    conn.request(\"GET\", \"/stage/api/products?%s\" % params, \"{body}\", headers)\n",
    "    response = conn.getresponse()\n",
    "    data = response.read()\n",
    "    \n",
    "    conn.close()\n",
    "except Exception as e:\n",
    "    print(\"[Errno {0}] {1}\".format(e.errno, e.strerror))\n"
   ]
  },
  {
   "cell_type": "markdown",
   "metadata": {},
   "source": [
    "# Looking at the leafly dataset"
   ]
  },
  {
   "cell_type": "code",
   "execution_count": 2,
   "metadata": {},
   "outputs": [
    {
     "output_type": "stream",
     "name": "stdout",
     "text": "/home/joe/Desktop/school/ds-project/app\n"
    }
   ],
   "source": [
    "!pwd"
   ]
  },
  {
   "cell_type": "code",
   "execution_count": 33,
   "metadata": {},
   "outputs": [
    {
     "output_type": "stream",
     "name": "stdout",
     "text": "\u001b[1;34m data\u001b[0m\n├── \u001b[1;34m kushy\u001b[0m\n│  ├── \u001b[1;34m Brands\u001b[0m\n│  │  ├── \u001b[1;32m brands-kushy_api.2017-11-14.csv\u001b[0m\n│  │  └── \u001b[1;32m brands-kushy_api.2017-11-14.sql.gz\u001b[0m\n│  ├── \u001b[1;34m Products\u001b[0m\n│  │  ├── \u001b[1;32m products-kushy_api.2017-11-14.csv\u001b[0m\n│  │  └── \u001b[1;32m products-kushy_api.2017-11-14.sql.gz\u001b[0m\n│  ├── \u001b[1;34m Shops\u001b[0m\n│  │  ├── \u001b[1;32m shops-kushy_api.2017-11-14.csv\u001b[0m\n│  │  └── \u001b[1;32m shops-kushy_api.2017-11-14.sql.gz\u001b[0m\n│  └── \u001b[1;34m Strains\u001b[0m\n│     ├── \u001b[1;32m strains-kushy_api.2017-11-14.csv\u001b[0m\n│     └── \u001b[1;32m strains-kushy_api.2017-11-14.sql.gz\u001b[0m\n├── \u001b[1;34m leafly\u001b[0m\n│  └── \u001b[1;32m cannabis.csv\u001b[0m\n├── \u001b[1;34m neobi\u001b[0m\n└── \u001b[1;32m pull_sets.sh\u001b[0m\n"
    }
   ],
   "source": [
    "!lsd --tree ../data/"
   ]
  },
  {
   "cell_type": "code",
   "execution_count": 34,
   "metadata": {},
   "outputs": [
    {
     "output_type": "stream",
     "name": "stdout",
     "text": "/home/joe/Desktop/school/ds-project/data\n"
    }
   ],
   "source": [
    "%cd ../data"
   ]
  },
  {
   "cell_type": "code",
   "execution_count": 35,
   "metadata": {},
   "outputs": [],
   "source": [
    "import pandas as pd"
   ]
  },
  {
   "cell_type": "code",
   "execution_count": 36,
   "metadata": {},
   "outputs": [],
   "source": [
    "df = pd.read_csv(\"./leafly/cannabis.csv\")"
   ]
  },
  {
   "cell_type": "code",
   "execution_count": 37,
   "metadata": {},
   "outputs": [
    {
     "output_type": "execute_result",
     "data": {
      "text/plain": "           Strain    Type  Rating                                     Effects  \\\n0          100-Og  hybrid     4.0  Creative,Energetic,Tingly,Euphoric,Relaxed   \n1  98-White-Widow  hybrid     4.7    Relaxed,Aroused,Creative,Happy,Energetic   \n2            1024  sativa     4.4   Uplifted,Happy,Relaxed,Energetic,Creative   \n3        13-Dawgs  hybrid     4.2     Tingly,Creative,Hungry,Relaxed,Uplifted   \n4        24K-Gold  hybrid     4.6   Happy,Relaxed,Euphoric,Uplifted,Talkative   \n\n                      Flavor  \\\n0        Earthy,Sweet,Citrus   \n1      Flowery,Violet,Diesel   \n2    Spicy/Herbal,Sage,Woody   \n3  Apricot,Citrus,Grapefruit   \n4       Citrus,Earthy,Orange   \n\n                                         Description  \n0  $100 OG is a 50/50 hybrid strain that packs a ...  \n1  The ‘98 Aloha White Widow is an especially pot...  \n2  1024 is a sativa-dominant hybrid bred in Spain...  \n3  13 Dawgs is a hybrid of G13 and Chemdawg genet...  \n4  Also known as Kosher Tangie, 24k Gold is a 60%...  ",
      "text/html": "<div>\n<style scoped>\n    .dataframe tbody tr th:only-of-type {\n        vertical-align: middle;\n    }\n\n    .dataframe tbody tr th {\n        vertical-align: top;\n    }\n\n    .dataframe thead th {\n        text-align: right;\n    }\n</style>\n<table border=\"1\" class=\"dataframe\">\n  <thead>\n    <tr style=\"text-align: right;\">\n      <th></th>\n      <th>Strain</th>\n      <th>Type</th>\n      <th>Rating</th>\n      <th>Effects</th>\n      <th>Flavor</th>\n      <th>Description</th>\n    </tr>\n  </thead>\n  <tbody>\n    <tr>\n      <th>0</th>\n      <td>100-Og</td>\n      <td>hybrid</td>\n      <td>4.0</td>\n      <td>Creative,Energetic,Tingly,Euphoric,Relaxed</td>\n      <td>Earthy,Sweet,Citrus</td>\n      <td>$100 OG is a 50/50 hybrid strain that packs a ...</td>\n    </tr>\n    <tr>\n      <th>1</th>\n      <td>98-White-Widow</td>\n      <td>hybrid</td>\n      <td>4.7</td>\n      <td>Relaxed,Aroused,Creative,Happy,Energetic</td>\n      <td>Flowery,Violet,Diesel</td>\n      <td>The ‘98 Aloha White Widow is an especially pot...</td>\n    </tr>\n    <tr>\n      <th>2</th>\n      <td>1024</td>\n      <td>sativa</td>\n      <td>4.4</td>\n      <td>Uplifted,Happy,Relaxed,Energetic,Creative</td>\n      <td>Spicy/Herbal,Sage,Woody</td>\n      <td>1024 is a sativa-dominant hybrid bred in Spain...</td>\n    </tr>\n    <tr>\n      <th>3</th>\n      <td>13-Dawgs</td>\n      <td>hybrid</td>\n      <td>4.2</td>\n      <td>Tingly,Creative,Hungry,Relaxed,Uplifted</td>\n      <td>Apricot,Citrus,Grapefruit</td>\n      <td>13 Dawgs is a hybrid of G13 and Chemdawg genet...</td>\n    </tr>\n    <tr>\n      <th>4</th>\n      <td>24K-Gold</td>\n      <td>hybrid</td>\n      <td>4.6</td>\n      <td>Happy,Relaxed,Euphoric,Uplifted,Talkative</td>\n      <td>Citrus,Earthy,Orange</td>\n      <td>Also known as Kosher Tangie, 24k Gold is a 60%...</td>\n    </tr>\n  </tbody>\n</table>\n</div>"
     },
     "metadata": {},
     "execution_count": 37
    }
   ],
   "source": [
    "df.head()"
   ]
  },
  {
   "cell_type": "code",
   "execution_count": 40,
   "metadata": {},
   "outputs": [
    {
     "output_type": "execute_result",
     "data": {
      "text/plain": "Strain           0\nType             0\nRating           0\nEffects         87\nFlavor         156\nDescription     37\ndtype: int64"
     },
     "metadata": {},
     "execution_count": 40
    }
   ],
   "source": [
    "df.isnull().sum()"
   ]
  },
  {
   "cell_type": "code",
   "execution_count": 41,
   "metadata": {},
   "outputs": [],
   "source": [
    "# drop na rows from dataset\n",
    "df.dropna(inplace=True)"
   ]
  },
  {
   "cell_type": "code",
   "execution_count": 39,
   "metadata": {},
   "outputs": [],
   "source": [
    "import numpy as np\n",
    "df.replace('None',np.NaN,inplace=True)"
   ]
  },
  {
   "cell_type": "code",
   "execution_count": 42,
   "metadata": {},
   "outputs": [
    {
     "output_type": "execute_result",
     "data": {
      "text/plain": "           Strain    Type  Rating                                     Effects  \\\n0          100-Og  hybrid     4.0  Creative,Energetic,Tingly,Euphoric,Relaxed   \n1  98-White-Widow  hybrid     4.7    Relaxed,Aroused,Creative,Happy,Energetic   \n2            1024  sativa     4.4   Uplifted,Happy,Relaxed,Energetic,Creative   \n3        13-Dawgs  hybrid     4.2     Tingly,Creative,Hungry,Relaxed,Uplifted   \n4        24K-Gold  hybrid     4.6   Happy,Relaxed,Euphoric,Uplifted,Talkative   \n\n                      Flavor  \\\n0        Earthy,Sweet,Citrus   \n1      Flowery,Violet,Diesel   \n2    Spicy/Herbal,Sage,Woody   \n3  Apricot,Citrus,Grapefruit   \n4       Citrus,Earthy,Orange   \n\n                                         Description  \n0  $100 OG is a 50/50 hybrid strain that packs a ...  \n1  The ‘98 Aloha White Widow is an especially pot...  \n2  1024 is a sativa-dominant hybrid bred in Spain...  \n3  13 Dawgs is a hybrid of G13 and Chemdawg genet...  \n4  Also known as Kosher Tangie, 24k Gold is a 60%...  ",
      "text/html": "<div>\n<style scoped>\n    .dataframe tbody tr th:only-of-type {\n        vertical-align: middle;\n    }\n\n    .dataframe tbody tr th {\n        vertical-align: top;\n    }\n\n    .dataframe thead th {\n        text-align: right;\n    }\n</style>\n<table border=\"1\" class=\"dataframe\">\n  <thead>\n    <tr style=\"text-align: right;\">\n      <th></th>\n      <th>Strain</th>\n      <th>Type</th>\n      <th>Rating</th>\n      <th>Effects</th>\n      <th>Flavor</th>\n      <th>Description</th>\n    </tr>\n  </thead>\n  <tbody>\n    <tr>\n      <th>0</th>\n      <td>100-Og</td>\n      <td>hybrid</td>\n      <td>4.0</td>\n      <td>Creative,Energetic,Tingly,Euphoric,Relaxed</td>\n      <td>Earthy,Sweet,Citrus</td>\n      <td>$100 OG is a 50/50 hybrid strain that packs a ...</td>\n    </tr>\n    <tr>\n      <th>1</th>\n      <td>98-White-Widow</td>\n      <td>hybrid</td>\n      <td>4.7</td>\n      <td>Relaxed,Aroused,Creative,Happy,Energetic</td>\n      <td>Flowery,Violet,Diesel</td>\n      <td>The ‘98 Aloha White Widow is an especially pot...</td>\n    </tr>\n    <tr>\n      <th>2</th>\n      <td>1024</td>\n      <td>sativa</td>\n      <td>4.4</td>\n      <td>Uplifted,Happy,Relaxed,Energetic,Creative</td>\n      <td>Spicy/Herbal,Sage,Woody</td>\n      <td>1024 is a sativa-dominant hybrid bred in Spain...</td>\n    </tr>\n    <tr>\n      <th>3</th>\n      <td>13-Dawgs</td>\n      <td>hybrid</td>\n      <td>4.2</td>\n      <td>Tingly,Creative,Hungry,Relaxed,Uplifted</td>\n      <td>Apricot,Citrus,Grapefruit</td>\n      <td>13 Dawgs is a hybrid of G13 and Chemdawg genet...</td>\n    </tr>\n    <tr>\n      <th>4</th>\n      <td>24K-Gold</td>\n      <td>hybrid</td>\n      <td>4.6</td>\n      <td>Happy,Relaxed,Euphoric,Uplifted,Talkative</td>\n      <td>Citrus,Earthy,Orange</td>\n      <td>Also known as Kosher Tangie, 24k Gold is a 60%...</td>\n    </tr>\n  </tbody>\n</table>\n</div>"
     },
     "metadata": {},
     "execution_count": 42
    }
   ],
   "source": [
    "df.head()"
   ]
  },
  {
   "cell_type": "code",
   "execution_count": 11,
   "metadata": {},
   "outputs": [],
   "source": [
    "# make the flacors and effects into list's instead of strings\n",
    "def split_strings(x):\n",
    "    X = x.split(',')\n",
    "    return X\n",
    "\n",
    "df[\"Effects\"] = df.Effects.apply(split_strings)\n",
    "df [\"Flavor\"] = df.Flavor.apply(split_strings)"
   ]
  },
  {
   "cell_type": "code",
   "execution_count": 44,
   "metadata": {},
   "outputs": [],
   "source": [
    "# convert to lowercase columns because ocd\n",
    "df.columns = [x.lower() for x in df.columns]\n",
    "df.columns = ['strain', 'species', 'rating', 'effects', 'flavor', 'description']"
   ]
  },
  {
   "cell_type": "code",
   "execution_count": 45,
   "metadata": {},
   "outputs": [
    {
     "output_type": "execute_result",
     "data": {
      "text/plain": "                 strain species  rating  \\\n631         Dance-World  sativa     4.6   \n1271      Lemon-Og-Haze  hybrid     4.5   \n2016      Strawberry-Og  hybrid     4.2   \n843                 Gto  hybrid     4.0   \n279        Blue-Cookies  hybrid     4.7   \n592         Cowboy-Kush  hybrid     4.8   \n1779         Riddler-Og  hybrid     4.7   \n269        Blue-Afghani  indica     4.4   \n796     Flaming-Cookies  indica     4.2   \n1390  Mendocino-Madness  hybrid     4.0   \n1203              Kuato  hybrid     5.0   \n986           Harle-Tsu  hybrid     4.4   \n918       Grape-Cookies  indica     4.6   \n1635         Pluto-Kush  indica     3.9   \n719          Durga-Mata  indica     4.9   \n\n                                           effects  \\\n631      Happy,Relaxed,Uplifted,Euphoric,Talkative   \n1271     Energetic,Happy,Focused,Euphoric,Creative   \n2016        Happy,Relaxed,Euphoric,Hungry,Creative   \n843   Energetic,Focused,Uplifted,Creative,Euphoric   \n279       Relaxed,Euphoric,Happy,Uplifted,Creative   \n592       Happy,Uplifted,Euphoric,Relaxed,Creative   \n1779    Aroused,Talkative,Tingly,Uplifted,Creative   \n269         Relaxed,Happy,Euphoric,Uplifted,Sleepy   \n796           Happy,Relaxed,Euphoric,Tingly,Sleepy   \n1390                                     Dry,Mouth   \n1203    Talkative,Euphoric,Aroused,Tingly,Uplifted   \n986        Relaxed,Happy,Uplifted,Focused,Euphoric   \n918      Relaxed,Creative,Uplifted,Sleepy,Euphoric   \n1635       Euphoric,Sleepy,Relaxed,Creative,Hungry   \n719         Relaxed,Happy,Giggly,Uplifted,Creative   \n\n                              flavor  \\\n631       Earthy,Citrus,Spicy/Herbal   \n1271               Lemon,Citrus,Lime   \n2016  Strawberry,Diesel,Spicy/Herbal   \n843                        Blueberry   \n279            Berry,Blueberry,Sweet   \n592               Earthy,Pine,Diesel   \n1779          Flowery,Earthy,Pungent   \n269          Blueberry,Woody,Pungent   \n796        Spicy/Herbal,Sweet,Diesel   \n1390                 Earthy,Chestnut   \n1203            Sweet,Orange,Pungent   \n986        Earthy,Woody,Spicy/Herbal   \n918               Grape,Berry,Diesel   \n1635           Blueberry,Sweet,Skunk   \n719              Minty,Earthy,Citrus   \n\n                                            description  \n631   Dance World is a high-CBD sativa strain bred b...  \n1271  Lemon OG Haze by Nirvana is the sensible combi...  \n2016  Strawberry OG (not to be confused with OG Stra...  \n843   GTO is a well-balanced hybrid that crosses par...  \n279   Blue Cookies is an indica-dominant hybrid cros...  \n592   Cowboy Kush by Greenpoint Seeds is a hybrid cr...  \n1779  Riddle me this! Riddler OG, also known as “Pow...  \n269   Bred by Jordan of the Islands in Canada, Blue ...  \n796   Girl Scout Cookies and Fire OG combine to crea...  \n1390  Mendocino Madness is the fastest growing hybri...  \n1203  “Open your mind” with this hybrid strain named...  \n986   Harle-Tsu, bred by the Southern Humboldt Seed ...  \n918   Grape Cookies by Pisces Genetics is the rich i...  \n1635  Pluto may no longer be a planet, but that does...  \n719   Durga Mata, bred by Paradise Seeds, is an indi...  ",
      "text/html": "<div>\n<style scoped>\n    .dataframe tbody tr th:only-of-type {\n        vertical-align: middle;\n    }\n\n    .dataframe tbody tr th {\n        vertical-align: top;\n    }\n\n    .dataframe thead th {\n        text-align: right;\n    }\n</style>\n<table border=\"1\" class=\"dataframe\">\n  <thead>\n    <tr style=\"text-align: right;\">\n      <th></th>\n      <th>strain</th>\n      <th>species</th>\n      <th>rating</th>\n      <th>effects</th>\n      <th>flavor</th>\n      <th>description</th>\n    </tr>\n  </thead>\n  <tbody>\n    <tr>\n      <th>631</th>\n      <td>Dance-World</td>\n      <td>sativa</td>\n      <td>4.6</td>\n      <td>Happy,Relaxed,Uplifted,Euphoric,Talkative</td>\n      <td>Earthy,Citrus,Spicy/Herbal</td>\n      <td>Dance World is a high-CBD sativa strain bred b...</td>\n    </tr>\n    <tr>\n      <th>1271</th>\n      <td>Lemon-Og-Haze</td>\n      <td>hybrid</td>\n      <td>4.5</td>\n      <td>Energetic,Happy,Focused,Euphoric,Creative</td>\n      <td>Lemon,Citrus,Lime</td>\n      <td>Lemon OG Haze by Nirvana is the sensible combi...</td>\n    </tr>\n    <tr>\n      <th>2016</th>\n      <td>Strawberry-Og</td>\n      <td>hybrid</td>\n      <td>4.2</td>\n      <td>Happy,Relaxed,Euphoric,Hungry,Creative</td>\n      <td>Strawberry,Diesel,Spicy/Herbal</td>\n      <td>Strawberry OG (not to be confused with OG Stra...</td>\n    </tr>\n    <tr>\n      <th>843</th>\n      <td>Gto</td>\n      <td>hybrid</td>\n      <td>4.0</td>\n      <td>Energetic,Focused,Uplifted,Creative,Euphoric</td>\n      <td>Blueberry</td>\n      <td>GTO is a well-balanced hybrid that crosses par...</td>\n    </tr>\n    <tr>\n      <th>279</th>\n      <td>Blue-Cookies</td>\n      <td>hybrid</td>\n      <td>4.7</td>\n      <td>Relaxed,Euphoric,Happy,Uplifted,Creative</td>\n      <td>Berry,Blueberry,Sweet</td>\n      <td>Blue Cookies is an indica-dominant hybrid cros...</td>\n    </tr>\n    <tr>\n      <th>592</th>\n      <td>Cowboy-Kush</td>\n      <td>hybrid</td>\n      <td>4.8</td>\n      <td>Happy,Uplifted,Euphoric,Relaxed,Creative</td>\n      <td>Earthy,Pine,Diesel</td>\n      <td>Cowboy Kush by Greenpoint Seeds is a hybrid cr...</td>\n    </tr>\n    <tr>\n      <th>1779</th>\n      <td>Riddler-Og</td>\n      <td>hybrid</td>\n      <td>4.7</td>\n      <td>Aroused,Talkative,Tingly,Uplifted,Creative</td>\n      <td>Flowery,Earthy,Pungent</td>\n      <td>Riddle me this! Riddler OG, also known as “Pow...</td>\n    </tr>\n    <tr>\n      <th>269</th>\n      <td>Blue-Afghani</td>\n      <td>indica</td>\n      <td>4.4</td>\n      <td>Relaxed,Happy,Euphoric,Uplifted,Sleepy</td>\n      <td>Blueberry,Woody,Pungent</td>\n      <td>Bred by Jordan of the Islands in Canada, Blue ...</td>\n    </tr>\n    <tr>\n      <th>796</th>\n      <td>Flaming-Cookies</td>\n      <td>indica</td>\n      <td>4.2</td>\n      <td>Happy,Relaxed,Euphoric,Tingly,Sleepy</td>\n      <td>Spicy/Herbal,Sweet,Diesel</td>\n      <td>Girl Scout Cookies and Fire OG combine to crea...</td>\n    </tr>\n    <tr>\n      <th>1390</th>\n      <td>Mendocino-Madness</td>\n      <td>hybrid</td>\n      <td>4.0</td>\n      <td>Dry,Mouth</td>\n      <td>Earthy,Chestnut</td>\n      <td>Mendocino Madness is the fastest growing hybri...</td>\n    </tr>\n    <tr>\n      <th>1203</th>\n      <td>Kuato</td>\n      <td>hybrid</td>\n      <td>5.0</td>\n      <td>Talkative,Euphoric,Aroused,Tingly,Uplifted</td>\n      <td>Sweet,Orange,Pungent</td>\n      <td>“Open your mind” with this hybrid strain named...</td>\n    </tr>\n    <tr>\n      <th>986</th>\n      <td>Harle-Tsu</td>\n      <td>hybrid</td>\n      <td>4.4</td>\n      <td>Relaxed,Happy,Uplifted,Focused,Euphoric</td>\n      <td>Earthy,Woody,Spicy/Herbal</td>\n      <td>Harle-Tsu, bred by the Southern Humboldt Seed ...</td>\n    </tr>\n    <tr>\n      <th>918</th>\n      <td>Grape-Cookies</td>\n      <td>indica</td>\n      <td>4.6</td>\n      <td>Relaxed,Creative,Uplifted,Sleepy,Euphoric</td>\n      <td>Grape,Berry,Diesel</td>\n      <td>Grape Cookies by Pisces Genetics is the rich i...</td>\n    </tr>\n    <tr>\n      <th>1635</th>\n      <td>Pluto-Kush</td>\n      <td>indica</td>\n      <td>3.9</td>\n      <td>Euphoric,Sleepy,Relaxed,Creative,Hungry</td>\n      <td>Blueberry,Sweet,Skunk</td>\n      <td>Pluto may no longer be a planet, but that does...</td>\n    </tr>\n    <tr>\n      <th>719</th>\n      <td>Durga-Mata</td>\n      <td>indica</td>\n      <td>4.9</td>\n      <td>Relaxed,Happy,Giggly,Uplifted,Creative</td>\n      <td>Minty,Earthy,Citrus</td>\n      <td>Durga Mata, bred by Paradise Seeds, is an indi...</td>\n    </tr>\n  </tbody>\n</table>\n</div>"
     },
     "metadata": {},
     "execution_count": 45
    }
   ],
   "source": [
    "df.sample(15)"
   ]
  },
  {
   "cell_type": "code",
   "execution_count": 14,
   "metadata": {},
   "outputs": [],
   "source": [
    "# seems good to save and make a base db with\n",
    "# going to seperate the strain names out so that i can query api's with them and get more info"
   ]
  },
  {
   "cell_type": "code",
   "execution_count": 2,
   "metadata": {},
   "outputs": [],
   "source": [
    "from models import db"
   ]
  },
  {
   "cell_type": "code",
   "execution_count": 46,
   "metadata": {},
   "outputs": [],
   "source": [
    "from sqlalchemy import create_engine\n",
    "engine = create_engine(getenv(\"DATABASE_URL\"))"
   ]
  },
  {
   "cell_type": "code",
   "execution_count": 47,
   "metadata": {},
   "outputs": [],
   "source": [
    "df.to_sql(\"strains\",engine)"
   ]
  },
  {
   "cell_type": "code",
   "execution_count": 22,
   "metadata": {},
   "outputs": [],
   "source": []
  },
  {
   "cell_type": "code",
   "execution_count": 24,
   "metadata": {},
   "outputs": [
    {
     "output_type": "execute_result",
     "data": {
      "text/plain": "strain         0\ntype           0\nrating         0\neffects        0\nflavor         0\ndescription    4\ndtype: int64"
     },
     "metadata": {},
     "execution_count": 24
    }
   ],
   "source": [
    "df.isnull().sum()"
   ]
  },
  {
   "cell_type": "code",
   "execution_count": 27,
   "metadata": {},
   "outputs": [],
   "source": [
    "for i in df.flavor:\n",
    "    for k in i:\n",
    "        if k=='None':\n",
    "            k=np.NaN\n"
   ]
  },
  {
   "cell_type": "code",
   "execution_count": 32,
   "metadata": {},
   "outputs": [
    {
     "output_type": "error",
     "ename": "KeyError",
     "evalue": "False",
     "traceback": [
      "\u001b[0;31m---------------------------------------------------------------------------\u001b[0m",
      "\u001b[0;31mKeyError\u001b[0m                                  Traceback (most recent call last)",
      "\u001b[0;32m~/opt/conda/envs/ds-Flask/lib/python3.7/site-packages/pandas/core/indexes/base.py\u001b[0m in \u001b[0;36mget_loc\u001b[0;34m(self, key, method, tolerance)\u001b[0m\n\u001b[1;32m   2645\u001b[0m             \u001b[0;32mtry\u001b[0m\u001b[0;34m:\u001b[0m\u001b[0;34m\u001b[0m\u001b[0;34m\u001b[0m\u001b[0m\n\u001b[0;32m-> 2646\u001b[0;31m                 \u001b[0;32mreturn\u001b[0m \u001b[0mself\u001b[0m\u001b[0;34m.\u001b[0m\u001b[0m_engine\u001b[0m\u001b[0;34m.\u001b[0m\u001b[0mget_loc\u001b[0m\u001b[0;34m(\u001b[0m\u001b[0mkey\u001b[0m\u001b[0;34m)\u001b[0m\u001b[0;34m\u001b[0m\u001b[0;34m\u001b[0m\u001b[0m\n\u001b[0m\u001b[1;32m   2647\u001b[0m             \u001b[0;32mexcept\u001b[0m \u001b[0mKeyError\u001b[0m\u001b[0;34m:\u001b[0m\u001b[0;34m\u001b[0m\u001b[0;34m\u001b[0m\u001b[0m\n",
      "\u001b[0;32mpandas/_libs/index.pyx\u001b[0m in \u001b[0;36mpandas._libs.index.IndexEngine.get_loc\u001b[0;34m()\u001b[0m\n",
      "\u001b[0;32mpandas/_libs/index.pyx\u001b[0m in \u001b[0;36mpandas._libs.index.IndexEngine.get_loc\u001b[0;34m()\u001b[0m\n",
      "\u001b[0;32mpandas/_libs/hashtable_class_helper.pxi\u001b[0m in \u001b[0;36mpandas._libs.hashtable.PyObjectHashTable.get_item\u001b[0;34m()\u001b[0m\n",
      "\u001b[0;32mpandas/_libs/hashtable_class_helper.pxi\u001b[0m in \u001b[0;36mpandas._libs.hashtable.PyObjectHashTable.get_item\u001b[0;34m()\u001b[0m\n",
      "\u001b[0;31mKeyError\u001b[0m: False",
      "\nDuring handling of the above exception, another exception occurred:\n",
      "\u001b[0;31mKeyError\u001b[0m                                  Traceback (most recent call last)",
      "\u001b[0;32m<ipython-input-32-7bd2030269c6>\u001b[0m in \u001b[0;36m<module>\u001b[0;34m\u001b[0m\n\u001b[0;32m----> 1\u001b[0;31m \u001b[0mdf\u001b[0m\u001b[0;34m[\u001b[0m\u001b[0;34m'None'\u001b[0m \u001b[0;32min\u001b[0m \u001b[0mdf\u001b[0m\u001b[0;34m.\u001b[0m\u001b[0mflavor\u001b[0m\u001b[0;34m]\u001b[0m\u001b[0;34m\u001b[0m\u001b[0;34m\u001b[0m\u001b[0m\n\u001b[0m",
      "\u001b[0;32m~/opt/conda/envs/ds-Flask/lib/python3.7/site-packages/pandas/core/frame.py\u001b[0m in \u001b[0;36m__getitem__\u001b[0;34m(self, key)\u001b[0m\n\u001b[1;32m   2798\u001b[0m             \u001b[0;32mif\u001b[0m \u001b[0mself\u001b[0m\u001b[0;34m.\u001b[0m\u001b[0mcolumns\u001b[0m\u001b[0;34m.\u001b[0m\u001b[0mnlevels\u001b[0m \u001b[0;34m>\u001b[0m \u001b[0;36m1\u001b[0m\u001b[0;34m:\u001b[0m\u001b[0;34m\u001b[0m\u001b[0;34m\u001b[0m\u001b[0m\n\u001b[1;32m   2799\u001b[0m                 \u001b[0;32mreturn\u001b[0m \u001b[0mself\u001b[0m\u001b[0;34m.\u001b[0m\u001b[0m_getitem_multilevel\u001b[0m\u001b[0;34m(\u001b[0m\u001b[0mkey\u001b[0m\u001b[0;34m)\u001b[0m\u001b[0;34m\u001b[0m\u001b[0;34m\u001b[0m\u001b[0m\n\u001b[0;32m-> 2800\u001b[0;31m             \u001b[0mindexer\u001b[0m \u001b[0;34m=\u001b[0m \u001b[0mself\u001b[0m\u001b[0;34m.\u001b[0m\u001b[0mcolumns\u001b[0m\u001b[0;34m.\u001b[0m\u001b[0mget_loc\u001b[0m\u001b[0;34m(\u001b[0m\u001b[0mkey\u001b[0m\u001b[0;34m)\u001b[0m\u001b[0;34m\u001b[0m\u001b[0;34m\u001b[0m\u001b[0m\n\u001b[0m\u001b[1;32m   2801\u001b[0m             \u001b[0;32mif\u001b[0m \u001b[0mis_integer\u001b[0m\u001b[0;34m(\u001b[0m\u001b[0mindexer\u001b[0m\u001b[0;34m)\u001b[0m\u001b[0;34m:\u001b[0m\u001b[0;34m\u001b[0m\u001b[0;34m\u001b[0m\u001b[0m\n\u001b[1;32m   2802\u001b[0m                 \u001b[0mindexer\u001b[0m \u001b[0;34m=\u001b[0m \u001b[0;34m[\u001b[0m\u001b[0mindexer\u001b[0m\u001b[0;34m]\u001b[0m\u001b[0;34m\u001b[0m\u001b[0;34m\u001b[0m\u001b[0m\n",
      "\u001b[0;32m~/opt/conda/envs/ds-Flask/lib/python3.7/site-packages/pandas/core/indexes/base.py\u001b[0m in \u001b[0;36mget_loc\u001b[0;34m(self, key, method, tolerance)\u001b[0m\n\u001b[1;32m   2646\u001b[0m                 \u001b[0;32mreturn\u001b[0m \u001b[0mself\u001b[0m\u001b[0;34m.\u001b[0m\u001b[0m_engine\u001b[0m\u001b[0;34m.\u001b[0m\u001b[0mget_loc\u001b[0m\u001b[0;34m(\u001b[0m\u001b[0mkey\u001b[0m\u001b[0;34m)\u001b[0m\u001b[0;34m\u001b[0m\u001b[0;34m\u001b[0m\u001b[0m\n\u001b[1;32m   2647\u001b[0m             \u001b[0;32mexcept\u001b[0m \u001b[0mKeyError\u001b[0m\u001b[0;34m:\u001b[0m\u001b[0;34m\u001b[0m\u001b[0;34m\u001b[0m\u001b[0m\n\u001b[0;32m-> 2648\u001b[0;31m                 \u001b[0;32mreturn\u001b[0m \u001b[0mself\u001b[0m\u001b[0;34m.\u001b[0m\u001b[0m_engine\u001b[0m\u001b[0;34m.\u001b[0m\u001b[0mget_loc\u001b[0m\u001b[0;34m(\u001b[0m\u001b[0mself\u001b[0m\u001b[0;34m.\u001b[0m\u001b[0m_maybe_cast_indexer\u001b[0m\u001b[0;34m(\u001b[0m\u001b[0mkey\u001b[0m\u001b[0;34m)\u001b[0m\u001b[0;34m)\u001b[0m\u001b[0;34m\u001b[0m\u001b[0;34m\u001b[0m\u001b[0m\n\u001b[0m\u001b[1;32m   2649\u001b[0m         \u001b[0mindexer\u001b[0m \u001b[0;34m=\u001b[0m \u001b[0mself\u001b[0m\u001b[0;34m.\u001b[0m\u001b[0mget_indexer\u001b[0m\u001b[0;34m(\u001b[0m\u001b[0;34m[\u001b[0m\u001b[0mkey\u001b[0m\u001b[0;34m]\u001b[0m\u001b[0;34m,\u001b[0m \u001b[0mmethod\u001b[0m\u001b[0;34m=\u001b[0m\u001b[0mmethod\u001b[0m\u001b[0;34m,\u001b[0m \u001b[0mtolerance\u001b[0m\u001b[0;34m=\u001b[0m\u001b[0mtolerance\u001b[0m\u001b[0;34m)\u001b[0m\u001b[0;34m\u001b[0m\u001b[0;34m\u001b[0m\u001b[0m\n\u001b[1;32m   2650\u001b[0m         \u001b[0;32mif\u001b[0m \u001b[0mindexer\u001b[0m\u001b[0;34m.\u001b[0m\u001b[0mndim\u001b[0m \u001b[0;34m>\u001b[0m \u001b[0;36m1\u001b[0m \u001b[0;32mor\u001b[0m \u001b[0mindexer\u001b[0m\u001b[0;34m.\u001b[0m\u001b[0msize\u001b[0m \u001b[0;34m>\u001b[0m \u001b[0;36m1\u001b[0m\u001b[0;34m:\u001b[0m\u001b[0;34m\u001b[0m\u001b[0;34m\u001b[0m\u001b[0m\n",
      "\u001b[0;32mpandas/_libs/index.pyx\u001b[0m in \u001b[0;36mpandas._libs.index.IndexEngine.get_loc\u001b[0;34m()\u001b[0m\n",
      "\u001b[0;32mpandas/_libs/index.pyx\u001b[0m in \u001b[0;36mpandas._libs.index.IndexEngine.get_loc\u001b[0;34m()\u001b[0m\n",
      "\u001b[0;32mpandas/_libs/hashtable_class_helper.pxi\u001b[0m in \u001b[0;36mpandas._libs.hashtable.PyObjectHashTable.get_item\u001b[0;34m()\u001b[0m\n",
      "\u001b[0;32mpandas/_libs/hashtable_class_helper.pxi\u001b[0m in \u001b[0;36mpandas._libs.hashtable.PyObjectHashTable.get_item\u001b[0;34m()\u001b[0m\n",
      "\u001b[0;31mKeyError\u001b[0m: False"
     ]
    }
   ],
   "source": []
  },
  {
   "cell_type": "code",
   "execution_count": null,
   "metadata": {},
   "outputs": [],
   "source": []
  }
 ],
 "metadata": {
  "language_info": {
   "codemirror_mode": {
    "name": "ipython",
    "version": 3
   },
   "file_extension": ".py",
   "mimetype": "text/x-python",
   "name": "python",
   "nbconvert_exporter": "python",
   "pygments_lexer": "ipython3",
   "version": "3.7.6-final"
  },
  "orig_nbformat": 2,
  "kernelspec": {
   "name": "python37664bitdsflaskconda5d6acf79da9542b3aeeb7103e7ad852b",
   "display_name": "Python 3.7.6 64-bit ('ds-Flask': conda)"
  }
 },
 "nbformat": 4,
 "nbformat_minor": 2
}