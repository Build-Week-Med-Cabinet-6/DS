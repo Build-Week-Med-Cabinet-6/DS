{
  "cells": [
    {
      "cell_type": "markdown",
      "metadata": {
        "id": "RfqZ-DJyMV6w",
        "colab_type": "text"
      },
      "source": [
        "# TFIDF KNN Approach "
      ]
    },
    {
      "cell_type": "code",
      "metadata": {
        "id": "2F9FXBToMbtd",
        "colab_type": "code",
        "colab": {}
      },
      "source": [
        "import pandas as pd\n",
        "\n",
        "import spacy\n",
        "from spacy.tokenizer import Tokenizer\n",
        "from spacy.lang.en import English\n",
        "\n",
        "from sklearn.feature_extraction.text import TfidfVectorizer\n",
        "from sklearn.neighbors import NearestNeighbors\n",
        "\n",
        "import pickle"
      ],
      "execution_count": 1,
      "outputs": []
    },
    {
      "cell_type": "code",
      "metadata": {
        "id": "3lmqxnzPMbos",
        "colab_type": "code",
        "colab": {}
      },
      "source": [
        "# Instantiate the tokenizer \n",
        "nlp=English()\n",
        "tokenizer = Tokenizer(nlp.vocab)"
      ],
      "execution_count": 2,
      "outputs": []
    },
    {
      "cell_type": "code",
      "metadata": {
        "id": "zcHGr5LwMbmE",
        "colab_type": "code",
        "colab": {}
      },
      "source": [
        "df = pd.read_csv(\"https://raw.githubusercontent.com/Build-Week-Med-Cabinet-6/DS/mark-dev/data/cannabis.csv\")\n",
        "df.head()"
      ],
      "execution_count": 3,
      "outputs": [
        {
          "output_type": "execute_result",
          "data": {
            "text/plain": "           Strain    Type  Rating                                     Effects  \\\n0          100-Og  hybrid     4.0  Creative,Energetic,Tingly,Euphoric,Relaxed   \n1  98-White-Widow  hybrid     4.7    Relaxed,Aroused,Creative,Happy,Energetic   \n2            1024  sativa     4.4   Uplifted,Happy,Relaxed,Energetic,Creative   \n3        13-Dawgs  hybrid     4.2     Tingly,Creative,Hungry,Relaxed,Uplifted   \n4        24K-Gold  hybrid     4.6   Happy,Relaxed,Euphoric,Uplifted,Talkative   \n\n                      Flavor  \\\n0        Earthy,Sweet,Citrus   \n1      Flowery,Violet,Diesel   \n2    Spicy/Herbal,Sage,Woody   \n3  Apricot,Citrus,Grapefruit   \n4       Citrus,Earthy,Orange   \n\n                                         Description  \n0  $100 OG is a 50/50 hybrid strain that packs a ...  \n1  The ‘98 Aloha White Widow is an especially pot...  \n2  1024 is a sativa-dominant hybrid bred in Spain...  \n3  13 Dawgs is a hybrid of G13 and Chemdawg genet...  \n4  Also known as Kosher Tangie, 24k Gold is a 60%...  ",
            "text/html": "<div>\n<style scoped>\n    .dataframe tbody tr th:only-of-type {\n        vertical-align: middle;\n    }\n\n    .dataframe tbody tr th {\n        vertical-align: top;\n    }\n\n    .dataframe thead th {\n        text-align: right;\n    }\n</style>\n<table border=\"1\" class=\"dataframe\">\n  <thead>\n    <tr style=\"text-align: right;\">\n      <th></th>\n      <th>Strain</th>\n      <th>Type</th>\n      <th>Rating</th>\n      <th>Effects</th>\n      <th>Flavor</th>\n      <th>Description</th>\n    </tr>\n  </thead>\n  <tbody>\n    <tr>\n      <th>0</th>\n      <td>100-Og</td>\n      <td>hybrid</td>\n      <td>4.0</td>\n      <td>Creative,Energetic,Tingly,Euphoric,Relaxed</td>\n      <td>Earthy,Sweet,Citrus</td>\n      <td>$100 OG is a 50/50 hybrid strain that packs a ...</td>\n    </tr>\n    <tr>\n      <th>1</th>\n      <td>98-White-Widow</td>\n      <td>hybrid</td>\n      <td>4.7</td>\n      <td>Relaxed,Aroused,Creative,Happy,Energetic</td>\n      <td>Flowery,Violet,Diesel</td>\n      <td>The ‘98 Aloha White Widow is an especially pot...</td>\n    </tr>\n    <tr>\n      <th>2</th>\n      <td>1024</td>\n      <td>sativa</td>\n      <td>4.4</td>\n      <td>Uplifted,Happy,Relaxed,Energetic,Creative</td>\n      <td>Spicy/Herbal,Sage,Woody</td>\n      <td>1024 is a sativa-dominant hybrid bred in Spain...</td>\n    </tr>\n    <tr>\n      <th>3</th>\n      <td>13-Dawgs</td>\n      <td>hybrid</td>\n      <td>4.2</td>\n      <td>Tingly,Creative,Hungry,Relaxed,Uplifted</td>\n      <td>Apricot,Citrus,Grapefruit</td>\n      <td>13 Dawgs is a hybrid of G13 and Chemdawg genet...</td>\n    </tr>\n    <tr>\n      <th>4</th>\n      <td>24K-Gold</td>\n      <td>hybrid</td>\n      <td>4.6</td>\n      <td>Happy,Relaxed,Euphoric,Uplifted,Talkative</td>\n      <td>Citrus,Earthy,Orange</td>\n      <td>Also known as Kosher Tangie, 24k Gold is a 60%...</td>\n    </tr>\n  </tbody>\n</table>\n</div>"
          },
          "metadata": {},
          "execution_count": 3
        }
      ]
    },
    {
      "cell_type": "code",
      "metadata": {
        "id": "Ai8m8CZAMbjy",
        "colab_type": "code",
        "colab": {}
      },
      "source": [
        "# drop nan or missing values\n",
        "df = df.dropna()\n",
        "df = df.drop(df.index[149])\n",
        "df = df.reset_index(drop=True)\n",
        "\n",
        "\n"
      ],
      "execution_count": 4,
      "outputs": []
    },
    {
      "cell_type": "code",
      "metadata": {
        "id": "O5NOVr4KQ1wz",
        "colab_type": "code",
        "colab": {}
      },
      "source": [
        ""
      ],
      "execution_count": 0,
      "outputs": []
    },
    {
      "cell_type": "code",
      "metadata": {
        "id": "A_tnPRrH22pO",
        "colab_type": "code",
        "colab": {}
      },
      "source": [
        ""
      ],
      "execution_count": 0,
      "outputs": []
    },
    {
      "cell_type": "code",
      "metadata": {
        "id": "DmG3Uj7DMbhJ",
        "colab_type": "code",
        "colab": {}
      },
      "source": [
        "# Combine the Effects and Flavors in one column\n",
        "df['Combined'] = df['Effects'] + ',' + df['Flavor']\n"
      ],
      "execution_count": 5,
      "outputs": []
    },
    {
      "cell_type": "code",
      "metadata": {
        "id": "Wb1hUFEiQXrD",
        "colab_type": "code",
        "colab": {}
      },
      "source": [
        "# Instantiate vecorizer object - call tokenize\n",
        "dtm_combined_tf = TfidfVectorizer(stop_words='english')\n",
        "\n",
        "\n",
        "# dtm_combined  (vocabulary) and get word counts \n",
        "# effects and flavors combined \n",
        "dtm_combined = dtm_combined_tf.fit_transform(df['Combined'].values.astype('U'))\n",
        "dtm_combined = pd.DataFrame(dtm_combined.todense(), columns=dtm_combined_tf.get_feature_names())\n",
        "dtm_combined.head()"
      ],
      "execution_count": 26,
      "outputs": [
        {
          "output_type": "execute_result",
          "data": {
            "text/plain": "   ammonia  apple   apricot   aroused  berry  blue  blueberry  butter  cheese  \\\n0      0.0    0.0  0.000000  0.000000    0.0   0.0        0.0     0.0     0.0   \n1      0.0    0.0  0.000000  0.363903    0.0   0.0        0.0     0.0     0.0   \n2      0.0    0.0  0.000000  0.000000    0.0   0.0        0.0     0.0     0.0   \n3      0.0    0.0  0.659428  0.000000    0.0   0.0        0.0     0.0     0.0   \n4      0.0    0.0  0.000000  0.000000    0.0   0.0        0.0     0.0     0.0   \n\n   chemical  ...  tar  tea    tingly  tobacco  tree  tropical  uplifted  \\\n0       0.0  ...  0.0  0.0  0.497994      0.0   0.0       0.0  0.000000   \n1       0.0  ...  0.0  0.0  0.000000      0.0   0.0       0.0  0.000000   \n2       0.0  ...  0.0  0.0  0.000000      0.0   0.0       0.0  0.168966   \n3       0.0  ...  0.0  0.0  0.294366      0.0   0.0       0.0  0.145443   \n4       0.0  ...  0.0  0.0  0.000000      0.0   0.0       0.0  0.217903   \n\n   vanilla    violet     woody  \n0      0.0  0.000000  0.000000  \n1      0.0  0.702087  0.000000  \n2      0.0  0.000000  0.374893  \n3      0.0  0.000000  0.000000  \n4      0.0  0.000000  0.000000  \n\n[5 rows x 65 columns]",
            "text/html": "<div>\n<style scoped>\n    .dataframe tbody tr th:only-of-type {\n        vertical-align: middle;\n    }\n\n    .dataframe tbody tr th {\n        vertical-align: top;\n    }\n\n    .dataframe thead th {\n        text-align: right;\n    }\n</style>\n<table border=\"1\" class=\"dataframe\">\n  <thead>\n    <tr style=\"text-align: right;\">\n      <th></th>\n      <th>ammonia</th>\n      <th>apple</th>\n      <th>apricot</th>\n      <th>aroused</th>\n      <th>berry</th>\n      <th>blue</th>\n      <th>blueberry</th>\n      <th>butter</th>\n      <th>cheese</th>\n      <th>chemical</th>\n      <th>...</th>\n      <th>tar</th>\n      <th>tea</th>\n      <th>tingly</th>\n      <th>tobacco</th>\n      <th>tree</th>\n      <th>tropical</th>\n      <th>uplifted</th>\n      <th>vanilla</th>\n      <th>violet</th>\n      <th>woody</th>\n    </tr>\n  </thead>\n  <tbody>\n    <tr>\n      <th>0</th>\n      <td>0.0</td>\n      <td>0.0</td>\n      <td>0.000000</td>\n      <td>0.000000</td>\n      <td>0.0</td>\n      <td>0.0</td>\n      <td>0.0</td>\n      <td>0.0</td>\n      <td>0.0</td>\n      <td>0.0</td>\n      <td>...</td>\n      <td>0.0</td>\n      <td>0.0</td>\n      <td>0.497994</td>\n      <td>0.0</td>\n      <td>0.0</td>\n      <td>0.0</td>\n      <td>0.000000</td>\n      <td>0.0</td>\n      <td>0.000000</td>\n      <td>0.000000</td>\n    </tr>\n    <tr>\n      <th>1</th>\n      <td>0.0</td>\n      <td>0.0</td>\n      <td>0.000000</td>\n      <td>0.363903</td>\n      <td>0.0</td>\n      <td>0.0</td>\n      <td>0.0</td>\n      <td>0.0</td>\n      <td>0.0</td>\n      <td>0.0</td>\n      <td>...</td>\n      <td>0.0</td>\n      <td>0.0</td>\n      <td>0.000000</td>\n      <td>0.0</td>\n      <td>0.0</td>\n      <td>0.0</td>\n      <td>0.000000</td>\n      <td>0.0</td>\n      <td>0.702087</td>\n      <td>0.000000</td>\n    </tr>\n    <tr>\n      <th>2</th>\n      <td>0.0</td>\n      <td>0.0</td>\n      <td>0.000000</td>\n      <td>0.000000</td>\n      <td>0.0</td>\n      <td>0.0</td>\n      <td>0.0</td>\n      <td>0.0</td>\n      <td>0.0</td>\n      <td>0.0</td>\n      <td>...</td>\n      <td>0.0</td>\n      <td>0.0</td>\n      <td>0.000000</td>\n      <td>0.0</td>\n      <td>0.0</td>\n      <td>0.0</td>\n      <td>0.168966</td>\n      <td>0.0</td>\n      <td>0.000000</td>\n      <td>0.374893</td>\n    </tr>\n    <tr>\n      <th>3</th>\n      <td>0.0</td>\n      <td>0.0</td>\n      <td>0.659428</td>\n      <td>0.000000</td>\n      <td>0.0</td>\n      <td>0.0</td>\n      <td>0.0</td>\n      <td>0.0</td>\n      <td>0.0</td>\n      <td>0.0</td>\n      <td>...</td>\n      <td>0.0</td>\n      <td>0.0</td>\n      <td>0.294366</td>\n      <td>0.0</td>\n      <td>0.0</td>\n      <td>0.0</td>\n      <td>0.145443</td>\n      <td>0.0</td>\n      <td>0.000000</td>\n      <td>0.000000</td>\n    </tr>\n    <tr>\n      <th>4</th>\n      <td>0.0</td>\n      <td>0.0</td>\n      <td>0.000000</td>\n      <td>0.000000</td>\n      <td>0.0</td>\n      <td>0.0</td>\n      <td>0.0</td>\n      <td>0.0</td>\n      <td>0.0</td>\n      <td>0.0</td>\n      <td>...</td>\n      <td>0.0</td>\n      <td>0.0</td>\n      <td>0.000000</td>\n      <td>0.0</td>\n      <td>0.0</td>\n      <td>0.0</td>\n      <td>0.217903</td>\n      <td>0.0</td>\n      <td>0.000000</td>\n      <td>0.000000</td>\n    </tr>\n  </tbody>\n</table>\n<p>5 rows × 65 columns</p>\n</div>"
          },
          "metadata": {},
          "execution_count": 26
        }
      ]
    },
    {
      "cell_type": "code",
      "metadata": {
        "id": "smEmTZ5ORe52",
        "colab_type": "code",
        "colab": {}
      },
      "source": [
        "# Fit on TF-IDF Vectors\n",
        "nn = NearestNeighbors(n_neighbors=5, algorithm='ball_tree')\n",
        "nn.fit(dtm_combined)"
      ],
      "execution_count": 27,
      "outputs": [
        {
          "output_type": "execute_result",
          "data": {
            "text/plain": "NearestNeighbors(algorithm='ball_tree', leaf_size=30, metric='minkowski',\n                 metric_params=None, n_jobs=None, n_neighbors=5, p=2,\n                 radius=1.0)"
          },
          "metadata": {},
          "execution_count": 27
        }
      ]
    },
    {
      "cell_type": "code",
      "metadata": {
        "id": "BIMinWmrRp4H",
        "colab_type": "code",
        "colab": {}
      },
      "source": [
        "# Practice passing a strain to the model with this string\n",
        "ideal_strain = ['Creative,Energetic,Tingly,Euphoric,Relaxed,Earthy,Sweet,Citrus']\n"
      ],
      "execution_count": 8,
      "outputs": []
    },
    {
      "cell_type": "code",
      "metadata": {
        "id": "EyPWaR-wYMoO",
        "colab_type": "code",
        "colab": {}
      },
      "source": [
        "# Query for similar strains using the test case\n",
        "new = dtm_combined_tf.transform(ideal_strain)\n",
        "results = nn.kneighbors(new.todense())"
      ],
      "execution_count": 9,
      "outputs": []
    },
    {
      "cell_type": "code",
      "metadata": {
        "id": "L7do34AQYMm3",
        "colab_type": "code",
        "colab": {}
      },
      "source": [
        "# Results are returned in a tuple of arrays\n",
        "results[1][0]"
      ],
      "execution_count": 29,
      "outputs": [
        {
          "output_type": "execute_result",
          "data": {
            "text/plain": "array([   0, 1971,  171,   81, 1255])"
          },
          "metadata": {},
          "execution_count": 29
        }
      ]
    },
    {
      "cell_type": "code",
      "metadata": {
        "id": "I2rPgrI3lA9M",
        "colab_type": "code",
        "colab": {}
      },
      "source": [
        "type(results)"
      ],
      "execution_count": 11,
      "outputs": [
        {
          "output_type": "execute_result",
          "data": {
            "text/plain": "tuple"
          },
          "metadata": {},
          "execution_count": 11
        }
      ]
    },
    {
      "cell_type": "code",
      "metadata": {
        "id": "aR9PpMF7YMlS",
        "colab_type": "code",
        "colab": {}
      },
      "source": [
        "# Pull the strain name from 1st value (0) of the 1st array (0) of the 2nd tuple (1) - the 0 index\n",
        "df['Strain'][results[1][0][0]]\n"
      ],
      "execution_count": 12,
      "outputs": [
        {
          "output_type": "execute_result",
          "data": {
            "text/plain": "'100-Og'"
          },
          "metadata": {},
          "execution_count": 12
        }
      ]
    },
    {
      "cell_type": "code",
      "metadata": {
        "id": "C4lPTojobvOa",
        "colab_type": "code",
        "colab": {}
      },
      "source": [
        "df['Combined'][results[1][0][0]]"
      ],
      "execution_count": 13,
      "outputs": [
        {
          "output_type": "execute_result",
          "data": {
            "text/plain": "'Creative,Energetic,Tingly,Euphoric,Relaxed,Earthy,Sweet,Citrus'"
          },
          "metadata": {},
          "execution_count": 13
        }
      ]
    },
    {
      "cell_type": "code",
      "metadata": {
        "id": "DrtjNSNubvMF",
        "colab_type": "code",
        "colab": {}
      },
      "source": [
        "df['Description'][results[1][0][0]]"
      ],
      "execution_count": 14,
      "outputs": [
        {
          "output_type": "execute_result",
          "data": {
            "text/plain": "'$100 OG is a 50/50 hybrid strain that packs a strong punch. The name supposedly refers to both its strength and high price when it first started showing up in Hollywood. As a plant, $100 OG tends to produce large dark green buds with few stems. Users report a strong body effect of an indica for pain relief with the more alert, cerebral feeling thanks to its sativa side.'"
          },
          "metadata": {},
          "execution_count": 14
        }
      ]
    },
    {
      "cell_type": "code",
      "metadata": {
        "id": "LFUpOCgSbvJh",
        "colab_type": "code",
        "colab": {}
      },
      "source": [
        ""
      ],
      "execution_count": 0,
      "outputs": []
    },
    {
      "cell_type": "markdown",
      "metadata": {
        "id": "34NqaZSwboUl",
        "colab_type": "text"
      },
      "source": [
        "### Second Value "
      ]
    },
    {
      "cell_type": "code",
      "metadata": {
        "id": "VMGgkCJGYMhK",
        "colab_type": "code",
        "colab": {}
      },
      "source": [
        "# Pull the strain name from 2nd value (1) of the 1st array (0) of the 2nd tuple (1) - the 1972 index\n",
        "df['Strain'][results[1][0][1]]"
      ],
      "execution_count": 15,
      "outputs": [
        {
          "output_type": "execute_result",
          "data": {
            "text/plain": "'Sunburn'"
          },
          "metadata": {},
          "execution_count": 15
        }
      ]
    },
    {
      "cell_type": "code",
      "metadata": {
        "id": "TwTwjUzpaLPW",
        "colab_type": "code",
        "colab": {}
      },
      "source": [
        "# Pull the criteria from 2nd value (1) of the 1st array (0) of the 2nd tuple (1) - the 1972 index\n",
        "df['Combined'][results[1][0][1]]"
      ],
      "execution_count": 16,
      "outputs": [
        {
          "output_type": "execute_result",
          "data": {
            "text/plain": "'Creative,Euphoric,Uplifted,Happy,Energetic,Citrus,Earthy,Sweet'"
          },
          "metadata": {},
          "execution_count": 16
        }
      ]
    },
    {
      "cell_type": "code",
      "metadata": {
        "id": "Qe2XQHC5YMeL",
        "colab_type": "code",
        "colab": {}
      },
      "source": [
        "# Pull the criteria from 2nd value (1) of the 1st array (0) of the 2nd tuple (1) - the 1972 index\n",
        "df['Description'][results[1][0][1]]"
      ],
      "execution_count": 17,
      "outputs": [
        {
          "output_type": "execute_result",
          "data": {
            "text/plain": "'Sunburn is a lime green sativa-dominant hybrid that reeks of old, sweet genetics. Sunburn began as Island Sweet Skunk crossed with Rug Burn OG. Island Sweet Skunk’s genetics supposedly crossed the ocean with Vietnam Veterans. Colorado Seed Inc. took this beautifully uplifting cut and stabilized the genetics further with the addition of their Gupta Kush. The blend of sweet, pungent, and floral aromas coalesce to create an all-day sativa that stimulates without too much anxiety or paranoia. \\xa0\\xa0'"
          },
          "metadata": {},
          "execution_count": 17
        }
      ]
    },
    {
      "cell_type": "code",
      "metadata": {
        "colab_type": "code",
        "id": "E7fXJNKsfcF4",
        "colab": {}
      },
      "source": [
        "# Imagine doing a detailed return of information afterwards \n",
        "# #output results here, rec strains criteria and description\n",
        "# rec_str = [strains['Strain'][results[1][0][i]] for i in range(5)]\n",
        "# rec_crit = [strains['Combined'][results[1][0][i]] for i in range(5)]\n",
        "# rec_str_desc = [strains['Description'][results[1][0][i]] for i in range(5)]\n",
        "\n",
        "# rec1 = rec_str[0] + ' * ' + rec_crit[0] + ' * ' + rec_str_desc[0]\n",
        "# rec2 = rec_str[1] + ' * ' + rec_crit[1] + ' * ' + rec_str_desc[1]\n",
        "# rec3 = rec_str[2] + ' * ' + rec_crit[2] + ' * ' + rec_str_desc[2]\n",
        "# rec4 = rec_str[3] + ' * ' + rec_crit[3] + ' * ' + rec_str_desc[3]\n",
        "# rec5 = rec_str[4] + ' * ' + rec_crit[4] + ' * ' + rec_str_desc[4]\n"
      ],
      "execution_count": 18,
      "outputs": []
    },
    {
      "cell_type": "markdown",
      "metadata": {
        "id": "RrsvE1pZzn4i",
        "colab_type": "text"
      },
      "source": [
        "### Pickling step here"
      ]
    },
    {
      "cell_type": "code",
      "metadata": {
        "id": "USIl6KZOe3oa",
        "colab_type": "code",
        "colab": {}
      },
      "source": [
        "# Pickle the dtm and tf for use in the prediction\n",
        "#pickle.dump(dtm_combined, open('/content/dtm_combined.pkl', 'wb'))\n",
        "pickle.dump(dtm_combined_tf, open('../pickles/dtm_combined_tf.pickle', 'wb'))\n",
        "with open('../pickles/nn.pickle','wb') as fp:\n",
        "    pickle.dump(nn,fp)"
      ],
      "execution_count": 28,
      "outputs": []
    },
    {
      "cell_type": "code",
      "metadata": {
        "id": "eH-wTv7pzqqD",
        "colab_type": "code",
        "colab": {}
      },
      "source": [
        ""
      ],
      "execution_count": 0,
      "outputs": []
    },
    {
      "cell_type": "markdown",
      "metadata": {
        "id": "mMtpbHkWSPUp",
        "colab_type": "text"
      },
      "source": [
        "# Effects"
      ]
    },
    {
      "cell_type": "code",
      "metadata": {
        "id": "-74HkjnWSVMH",
        "colab_type": "code",
        "colab": {}
      },
      "source": [
        "# Instantiate vecorizer object - call tokenize\n",
        "dtm_effects_tf = TfidfVectorizer(stop_words='english')\n",
        "\n",
        "\n",
        "# dtm_effects  (vocabulary) and get word counts \n",
        "# effects and flavors effects \n",
        "dtm_effects = dtm_effects_tf.fit_transform(df['Effects'].values.astype('U'))\n",
        "dtm_effects = pd.DataFrame(dtm_effects.todense(), columns=dtm_effects_tf.get_feature_names())\n",
        "dtm_effects.head()"
      ],
      "execution_count": 20,
      "outputs": [
        {
          "output_type": "execute_result",
          "data": {
            "text/plain": "    aroused  creative  dry  energetic  euphoric  focused  giggly     happy  \\\n0  0.000000  0.459088  0.0   0.491342  0.289761      0.0     0.0  0.000000   \n1  0.689667  0.430388  0.0   0.460625  0.000000      0.0     0.0  0.244321   \n2  0.000000  0.552204  0.0   0.591000  0.000000      0.0     0.0  0.313474   \n3  0.000000  0.442401  0.0   0.000000  0.000000      0.0     0.0  0.000000   \n4  0.000000  0.000000  0.0   0.000000  0.346825      0.0     0.0  0.311938   \n\n     hungry  mouth   relaxed  sleepy  talkative    tingly  uplifted  \n0  0.000000    0.0  0.276635     0.0   0.000000  0.622361  0.000000  \n1  0.000000    0.0  0.259341     0.0   0.000000  0.000000  0.000000  \n2  0.000000    0.0  0.332744     0.0   0.000000  0.000000  0.369872  \n3  0.534531    0.0  0.266579     0.0   0.000000  0.599738  0.296324  \n4  0.000000    0.0  0.331114     0.0   0.733009  0.000000  0.368060  ",
            "text/html": "<div>\n<style scoped>\n    .dataframe tbody tr th:only-of-type {\n        vertical-align: middle;\n    }\n\n    .dataframe tbody tr th {\n        vertical-align: top;\n    }\n\n    .dataframe thead th {\n        text-align: right;\n    }\n</style>\n<table border=\"1\" class=\"dataframe\">\n  <thead>\n    <tr style=\"text-align: right;\">\n      <th></th>\n      <th>aroused</th>\n      <th>creative</th>\n      <th>dry</th>\n      <th>energetic</th>\n      <th>euphoric</th>\n      <th>focused</th>\n      <th>giggly</th>\n      <th>happy</th>\n      <th>hungry</th>\n      <th>mouth</th>\n      <th>relaxed</th>\n      <th>sleepy</th>\n      <th>talkative</th>\n      <th>tingly</th>\n      <th>uplifted</th>\n    </tr>\n  </thead>\n  <tbody>\n    <tr>\n      <th>0</th>\n      <td>0.000000</td>\n      <td>0.459088</td>\n      <td>0.0</td>\n      <td>0.491342</td>\n      <td>0.289761</td>\n      <td>0.0</td>\n      <td>0.0</td>\n      <td>0.000000</td>\n      <td>0.000000</td>\n      <td>0.0</td>\n      <td>0.276635</td>\n      <td>0.0</td>\n      <td>0.000000</td>\n      <td>0.622361</td>\n      <td>0.000000</td>\n    </tr>\n    <tr>\n      <th>1</th>\n      <td>0.689667</td>\n      <td>0.430388</td>\n      <td>0.0</td>\n      <td>0.460625</td>\n      <td>0.000000</td>\n      <td>0.0</td>\n      <td>0.0</td>\n      <td>0.244321</td>\n      <td>0.000000</td>\n      <td>0.0</td>\n      <td>0.259341</td>\n      <td>0.0</td>\n      <td>0.000000</td>\n      <td>0.000000</td>\n      <td>0.000000</td>\n    </tr>\n    <tr>\n      <th>2</th>\n      <td>0.000000</td>\n      <td>0.552204</td>\n      <td>0.0</td>\n      <td>0.591000</td>\n      <td>0.000000</td>\n      <td>0.0</td>\n      <td>0.0</td>\n      <td>0.313474</td>\n      <td>0.000000</td>\n      <td>0.0</td>\n      <td>0.332744</td>\n      <td>0.0</td>\n      <td>0.000000</td>\n      <td>0.000000</td>\n      <td>0.369872</td>\n    </tr>\n    <tr>\n      <th>3</th>\n      <td>0.000000</td>\n      <td>0.442401</td>\n      <td>0.0</td>\n      <td>0.000000</td>\n      <td>0.000000</td>\n      <td>0.0</td>\n      <td>0.0</td>\n      <td>0.000000</td>\n      <td>0.534531</td>\n      <td>0.0</td>\n      <td>0.266579</td>\n      <td>0.0</td>\n      <td>0.000000</td>\n      <td>0.599738</td>\n      <td>0.296324</td>\n    </tr>\n    <tr>\n      <th>4</th>\n      <td>0.000000</td>\n      <td>0.000000</td>\n      <td>0.0</td>\n      <td>0.000000</td>\n      <td>0.346825</td>\n      <td>0.0</td>\n      <td>0.0</td>\n      <td>0.311938</td>\n      <td>0.000000</td>\n      <td>0.0</td>\n      <td>0.331114</td>\n      <td>0.0</td>\n      <td>0.733009</td>\n      <td>0.000000</td>\n      <td>0.368060</td>\n    </tr>\n  </tbody>\n</table>\n</div>"
          },
          "metadata": {},
          "execution_count": 20
        }
      ]
    },
    {
      "cell_type": "code",
      "metadata": {
        "id": "B4W2Ne_-XdmN",
        "colab_type": "code",
        "colab": {}
      },
      "source": [
        "df.head()"
      ],
      "execution_count": 21,
      "outputs": [
        {
          "output_type": "execute_result",
          "data": {
            "text/plain": "           Strain    Type  Rating                                     Effects  \\\n0          100-Og  hybrid     4.0  Creative,Energetic,Tingly,Euphoric,Relaxed   \n1  98-White-Widow  hybrid     4.7    Relaxed,Aroused,Creative,Happy,Energetic   \n2            1024  sativa     4.4   Uplifted,Happy,Relaxed,Energetic,Creative   \n3        13-Dawgs  hybrid     4.2     Tingly,Creative,Hungry,Relaxed,Uplifted   \n4        24K-Gold  hybrid     4.6   Happy,Relaxed,Euphoric,Uplifted,Talkative   \n\n                      Flavor  \\\n0        Earthy,Sweet,Citrus   \n1      Flowery,Violet,Diesel   \n2    Spicy/Herbal,Sage,Woody   \n3  Apricot,Citrus,Grapefruit   \n4       Citrus,Earthy,Orange   \n\n                                         Description  \\\n0  $100 OG is a 50/50 hybrid strain that packs a ...   \n1  The ‘98 Aloha White Widow is an especially pot...   \n2  1024 is a sativa-dominant hybrid bred in Spain...   \n3  13 Dawgs is a hybrid of G13 and Chemdawg genet...   \n4  Also known as Kosher Tangie, 24k Gold is a 60%...   \n\n                                            Combined  \n0  Creative,Energetic,Tingly,Euphoric,Relaxed,Ear...  \n1  Relaxed,Aroused,Creative,Happy,Energetic,Flowe...  \n2  Uplifted,Happy,Relaxed,Energetic,Creative,Spic...  \n3  Tingly,Creative,Hungry,Relaxed,Uplifted,Aprico...  \n4  Happy,Relaxed,Euphoric,Uplifted,Talkative,Citr...  ",
            "text/html": "<div>\n<style scoped>\n    .dataframe tbody tr th:only-of-type {\n        vertical-align: middle;\n    }\n\n    .dataframe tbody tr th {\n        vertical-align: top;\n    }\n\n    .dataframe thead th {\n        text-align: right;\n    }\n</style>\n<table border=\"1\" class=\"dataframe\">\n  <thead>\n    <tr style=\"text-align: right;\">\n      <th></th>\n      <th>Strain</th>\n      <th>Type</th>\n      <th>Rating</th>\n      <th>Effects</th>\n      <th>Flavor</th>\n      <th>Description</th>\n      <th>Combined</th>\n    </tr>\n  </thead>\n  <tbody>\n    <tr>\n      <th>0</th>\n      <td>100-Og</td>\n      <td>hybrid</td>\n      <td>4.0</td>\n      <td>Creative,Energetic,Tingly,Euphoric,Relaxed</td>\n      <td>Earthy,Sweet,Citrus</td>\n      <td>$100 OG is a 50/50 hybrid strain that packs a ...</td>\n      <td>Creative,Energetic,Tingly,Euphoric,Relaxed,Ear...</td>\n    </tr>\n    <tr>\n      <th>1</th>\n      <td>98-White-Widow</td>\n      <td>hybrid</td>\n      <td>4.7</td>\n      <td>Relaxed,Aroused,Creative,Happy,Energetic</td>\n      <td>Flowery,Violet,Diesel</td>\n      <td>The ‘98 Aloha White Widow is an especially pot...</td>\n      <td>Relaxed,Aroused,Creative,Happy,Energetic,Flowe...</td>\n    </tr>\n    <tr>\n      <th>2</th>\n      <td>1024</td>\n      <td>sativa</td>\n      <td>4.4</td>\n      <td>Uplifted,Happy,Relaxed,Energetic,Creative</td>\n      <td>Spicy/Herbal,Sage,Woody</td>\n      <td>1024 is a sativa-dominant hybrid bred in Spain...</td>\n      <td>Uplifted,Happy,Relaxed,Energetic,Creative,Spic...</td>\n    </tr>\n    <tr>\n      <th>3</th>\n      <td>13-Dawgs</td>\n      <td>hybrid</td>\n      <td>4.2</td>\n      <td>Tingly,Creative,Hungry,Relaxed,Uplifted</td>\n      <td>Apricot,Citrus,Grapefruit</td>\n      <td>13 Dawgs is a hybrid of G13 and Chemdawg genet...</td>\n      <td>Tingly,Creative,Hungry,Relaxed,Uplifted,Aprico...</td>\n    </tr>\n    <tr>\n      <th>4</th>\n      <td>24K-Gold</td>\n      <td>hybrid</td>\n      <td>4.6</td>\n      <td>Happy,Relaxed,Euphoric,Uplifted,Talkative</td>\n      <td>Citrus,Earthy,Orange</td>\n      <td>Also known as Kosher Tangie, 24k Gold is a 60%...</td>\n      <td>Happy,Relaxed,Euphoric,Uplifted,Talkative,Citr...</td>\n    </tr>\n  </tbody>\n</table>\n</div>"
          },
          "metadata": {},
          "execution_count": 21
        }
      ]
    },
    {
      "cell_type": "markdown",
      "metadata": {
        "id": "CL3MD1Q9SSyo",
        "colab_type": "text"
      },
      "source": [
        "# Flavors"
      ]
    },
    {
      "cell_type": "code",
      "metadata": {
        "id": "ymTgOC1zS-MJ",
        "colab_type": "code",
        "colab": {}
      },
      "source": [
        "# Instantiate vecorizer object - call tokenize\n",
        "dtm_flavors_tf = TfidfVectorizer(stop_words='english')\n",
        "\n",
        "\n",
        "# dtm_flavors  (vocabulary) and get word counts \n",
        "# flavors \n",
        "dtm_flavors = dtm_flavors_tf.fit_transform(df['Flavor'].values.astype('U'))\n",
        "dtm_flavors = pd.DataFrame(dtm_flavors.todense(), columns=dtm_flavors_tf.get_feature_names())\n",
        "dtm_flavors.head()"
      ],
      "execution_count": 22,
      "outputs": [
        {
          "output_type": "execute_result",
          "data": {
            "text/plain": "   ammonia  apple   apricot  berry  blue  blueberry  butter  cheese  chemical  \\\n0      0.0    0.0  0.000000    0.0   0.0        0.0     0.0     0.0       0.0   \n1      0.0    0.0  0.000000    0.0   0.0        0.0     0.0     0.0       0.0   \n2      0.0    0.0  0.000000    0.0   0.0        0.0     0.0     0.0       0.0   \n3      0.0    0.0  0.756868    0.0   0.0        0.0     0.0     0.0       0.0   \n4      0.0    0.0  0.000000    0.0   0.0        0.0     0.0     0.0       0.0   \n\n   chestnut  ...  strawberry     sweet  tar  tea  tobacco  tree  tropical  \\\n0       0.0  ...         0.0  0.507516  0.0  0.0      0.0   0.0       0.0   \n1       0.0  ...         0.0  0.000000  0.0  0.0      0.0   0.0       0.0   \n2       0.0  ...         0.0  0.000000  0.0  0.0      0.0   0.0       0.0   \n3       0.0  ...         0.0  0.000000  0.0  0.0      0.0   0.0       0.0   \n4       0.0  ...         0.0  0.000000  0.0  0.0      0.0   0.0       0.0   \n\n   vanilla    violet     woody  \n0      0.0  0.000000  0.000000  \n1      0.0  0.826508  0.000000  \n2      0.0  0.000000  0.421438  \n3      0.0  0.000000  0.000000  \n4      0.0  0.000000  0.000000  \n\n[5 rows x 50 columns]",
            "text/html": "<div>\n<style scoped>\n    .dataframe tbody tr th:only-of-type {\n        vertical-align: middle;\n    }\n\n    .dataframe tbody tr th {\n        vertical-align: top;\n    }\n\n    .dataframe thead th {\n        text-align: right;\n    }\n</style>\n<table border=\"1\" class=\"dataframe\">\n  <thead>\n    <tr style=\"text-align: right;\">\n      <th></th>\n      <th>ammonia</th>\n      <th>apple</th>\n      <th>apricot</th>\n      <th>berry</th>\n      <th>blue</th>\n      <th>blueberry</th>\n      <th>butter</th>\n      <th>cheese</th>\n      <th>chemical</th>\n      <th>chestnut</th>\n      <th>...</th>\n      <th>strawberry</th>\n      <th>sweet</th>\n      <th>tar</th>\n      <th>tea</th>\n      <th>tobacco</th>\n      <th>tree</th>\n      <th>tropical</th>\n      <th>vanilla</th>\n      <th>violet</th>\n      <th>woody</th>\n    </tr>\n  </thead>\n  <tbody>\n    <tr>\n      <th>0</th>\n      <td>0.0</td>\n      <td>0.0</td>\n      <td>0.000000</td>\n      <td>0.0</td>\n      <td>0.0</td>\n      <td>0.0</td>\n      <td>0.0</td>\n      <td>0.0</td>\n      <td>0.0</td>\n      <td>0.0</td>\n      <td>...</td>\n      <td>0.0</td>\n      <td>0.507516</td>\n      <td>0.0</td>\n      <td>0.0</td>\n      <td>0.0</td>\n      <td>0.0</td>\n      <td>0.0</td>\n      <td>0.0</td>\n      <td>0.000000</td>\n      <td>0.000000</td>\n    </tr>\n    <tr>\n      <th>1</th>\n      <td>0.0</td>\n      <td>0.0</td>\n      <td>0.000000</td>\n      <td>0.0</td>\n      <td>0.0</td>\n      <td>0.0</td>\n      <td>0.0</td>\n      <td>0.0</td>\n      <td>0.0</td>\n      <td>0.0</td>\n      <td>...</td>\n      <td>0.0</td>\n      <td>0.000000</td>\n      <td>0.0</td>\n      <td>0.0</td>\n      <td>0.0</td>\n      <td>0.0</td>\n      <td>0.0</td>\n      <td>0.0</td>\n      <td>0.826508</td>\n      <td>0.000000</td>\n    </tr>\n    <tr>\n      <th>2</th>\n      <td>0.0</td>\n      <td>0.0</td>\n      <td>0.000000</td>\n      <td>0.0</td>\n      <td>0.0</td>\n      <td>0.0</td>\n      <td>0.0</td>\n      <td>0.0</td>\n      <td>0.0</td>\n      <td>0.0</td>\n      <td>...</td>\n      <td>0.0</td>\n      <td>0.000000</td>\n      <td>0.0</td>\n      <td>0.0</td>\n      <td>0.0</td>\n      <td>0.0</td>\n      <td>0.0</td>\n      <td>0.0</td>\n      <td>0.000000</td>\n      <td>0.421438</td>\n    </tr>\n    <tr>\n      <th>3</th>\n      <td>0.0</td>\n      <td>0.0</td>\n      <td>0.756868</td>\n      <td>0.0</td>\n      <td>0.0</td>\n      <td>0.0</td>\n      <td>0.0</td>\n      <td>0.0</td>\n      <td>0.0</td>\n      <td>0.0</td>\n      <td>...</td>\n      <td>0.0</td>\n      <td>0.000000</td>\n      <td>0.0</td>\n      <td>0.0</td>\n      <td>0.0</td>\n      <td>0.0</td>\n      <td>0.0</td>\n      <td>0.0</td>\n      <td>0.000000</td>\n      <td>0.000000</td>\n    </tr>\n    <tr>\n      <th>4</th>\n      <td>0.0</td>\n      <td>0.0</td>\n      <td>0.000000</td>\n      <td>0.0</td>\n      <td>0.0</td>\n      <td>0.0</td>\n      <td>0.0</td>\n      <td>0.0</td>\n      <td>0.0</td>\n      <td>0.0</td>\n      <td>...</td>\n      <td>0.0</td>\n      <td>0.000000</td>\n      <td>0.0</td>\n      <td>0.0</td>\n      <td>0.0</td>\n      <td>0.0</td>\n      <td>0.0</td>\n      <td>0.0</td>\n      <td>0.000000</td>\n      <td>0.000000</td>\n    </tr>\n  </tbody>\n</table>\n<p>5 rows × 50 columns</p>\n</div>"
          },
          "metadata": {},
          "execution_count": 22
        }
      ]
    },
    {
      "cell_type": "markdown",
      "metadata": {
        "id": "5nJjum1ZvqGS",
        "colab_type": "text"
      },
      "source": [
        "# Leafly API EDA \n"
      ]
    },
    {
      "cell_type": "code",
      "metadata": {
        "id": "iBsKVRVbvtpP",
        "colab_type": "code",
        "colab": {}
      },
      "source": [
        "import pandas as pd "
      ],
      "execution_count": 0,
      "outputs": []
    },
    {
      "cell_type": "code",
      "metadata": {
        "id": "n3fY77Yw6IGx",
        "colab_type": "code",
        "colab": {}
      },
      "source": [
        "df = pd.read_csv(\"https://raw.githubusercontent.com/Build-Week-Med-Cabinet-6/DS/mark-dev/data/cannabis.csv\")\n",
        "df.head()"
      ],
      "execution_count": 0,
      "outputs": []
    },
    {
      "cell_type": "code",
      "metadata": {
        "id": "L_lPy4oM8FEd",
        "colab_type": "code",
        "colab": {}
      },
      "source": [
        "df.shape"
      ],
      "execution_count": 0,
      "outputs": []
    },
    {
      "cell_type": "code",
      "metadata": {
        "id": "F66Q0q4t8NwN",
        "colab_type": "code",
        "colab": {}
      },
      "source": [
        "df = df.dropna()\n"
      ],
      "execution_count": 0,
      "outputs": []
    },
    {
      "cell_type": "code",
      "metadata": {
        "id": "wvXZ9vvZ8Ql8",
        "colab_type": "code",
        "colab": {}
      },
      "source": [
        "df.shape"
      ],
      "execution_count": 0,
      "outputs": []
    },
    {
      "cell_type": "code",
      "metadata": {
        "id": "kv08GL068SKl",
        "colab_type": "code",
        "colab": {}
      },
      "source": [
        "df.describe(exclude='number')"
      ],
      "execution_count": 0,
      "outputs": []
    },
    {
      "cell_type": "code",
      "metadata": {
        "id": "BPZhHbjSkY3Z",
        "colab_type": "code",
        "colab": {}
      },
      "source": [
        "pip install https://github.com/pandas-profiling/pandas-profiling/archive/master.zip\n"
      ],
      "execution_count": 0,
      "outputs": []
    },
    {
      "cell_type": "code",
      "metadata": {
        "id": "joUifMN58rua",
        "colab_type": "code",
        "colab": {}
      },
      "source": [
        "\n",
        "import pandas_profiling\n",
        "df.profile_report()"
      ],
      "execution_count": 0,
      "outputs": []
    },
    {
      "cell_type": "code",
      "metadata": {
        "id": "zBiqcySq8wYo",
        "colab_type": "code",
        "colab": {}
      },
      "source": [
        ""
      ],
      "execution_count": 0,
      "outputs": []
    },
    {
      "cell_type": "markdown",
      "metadata": {
        "id": "WWd4YokVvChK",
        "colab_type": "text"
      },
      "source": [
        "# Kushy API "
      ]
    },
    {
      "cell_type": "code",
      "metadata": {
        "id": "XUbMm-CyVl68",
        "colab_type": "code",
        "colab": {}
      },
      "source": [
        "import pandas as pd "
      ],
      "execution_count": 0,
      "outputs": []
    },
    {
      "cell_type": "code",
      "metadata": {
        "id": "H1ZxPJP7VoF_",
        "colab_type": "code",
        "colab": {}
      },
      "source": [
        "df = pd.read_csv(\"https://raw.githubusercontent.com/kushyapp/cannabis-dataset/master/Dataset/Strains/strains-kushy_api.2017-11-14.csv\")"
      ],
      "execution_count": 0,
      "outputs": []
    },
    {
      "cell_type": "code",
      "metadata": {
        "id": "VR3ANWphVtva",
        "colab_type": "code",
        "colab": {}
      },
      "source": [
        "df.head()"
      ],
      "execution_count": 0,
      "outputs": []
    },
    {
      "cell_type": "code",
      "metadata": {
        "id": "zCh6GGddW1vJ",
        "colab_type": "code",
        "colab": {}
      },
      "source": [
        "df.shape"
      ],
      "execution_count": 0,
      "outputs": []
    },
    {
      "cell_type": "code",
      "metadata": {
        "id": "hD3qkLmxVvI6",
        "colab_type": "code",
        "colab": {}
      },
      "source": [
        "df.isnull().values.sum()"
      ],
      "execution_count": 0,
      "outputs": []
    },
    {
      "cell_type": "code",
      "metadata": {
        "id": "nN0N1j3bVych",
        "colab_type": "code",
        "colab": {}
      },
      "source": [
        "df.info()"
      ],
      "execution_count": 0,
      "outputs": []
    },
    {
      "cell_type": "code",
      "metadata": {
        "id": "4qGJ2NArWvEW",
        "colab_type": "code",
        "colab": {}
      },
      "source": [
        "# These are the columns with a percentage of missing values. \n",
        "df.isnull().sum()/len(df)*100\n"
      ],
      "execution_count": 0,
      "outputs": []
    },
    {
      "cell_type": "code",
      "metadata": {
        "id": "1p0MIHSjXAqU",
        "colab_type": "code",
        "colab": {}
      },
      "source": [
        "df.describe(exclude=\"number\")"
      ],
      "execution_count": 0,
      "outputs": []
    },
    {
      "cell_type": "code",
      "metadata": {
        "id": "dinojcUpsY50",
        "colab_type": "code",
        "colab": {}
      },
      "source": [
        "df.describe(include=\"number\")"
      ],
      "execution_count": 0,
      "outputs": []
    },
    {
      "cell_type": "code",
      "metadata": {
        "id": "fy95Mk_VuiKC",
        "colab_type": "code",
        "colab": {}
      },
      "source": [
        ""
      ],
      "execution_count": 0,
      "outputs": []
    }
  ],
  "metadata": {
    "colab": {
      "name": "Med-Cabinet-Mark.ipynb",
      "provenance": [],
      "collapsed_sections": [
        "WWd4YokVvChK"
      ]
    },
    "kernelspec": {
      "name": "python37664bitdsflaskconda5d6acf79da9542b3aeeb7103e7ad852b",
      "display_name": "Python 3.7.6 64-bit ('ds-Flask': conda)"
    }
  },
  "nbformat": 4,
  "nbformat_minor": 0
}