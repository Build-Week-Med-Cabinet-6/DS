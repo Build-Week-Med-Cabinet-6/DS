{
 "cells": [
  {
   "cell_type": "code",
   "execution_count": 29,
   "metadata": {
    "colab": {
     "base_uri": "https://localhost:8080/",
     "height": 581
    },
    "colab_type": "code",
    "id": "sRqGDt3cvBeP",
    "outputId": "26a7bfe0-b0fc-4d57-a4c5-9a1df2b51fcc"
   },
   "outputs": [
    {
     "name": "stdout",
     "output_type": "stream",
     "text": [
      "Collecting en_core_web_lg==2.2.5\n",
      "\u001b[?25l  Downloading https://github.com/explosion/spacy-models/releases/download/en_core_web_lg-2.2.5/en_core_web_lg-2.2.5.tar.gz (827.9MB)\n",
      "\u001b[K     |████████████████████████████████| 827.9MB 2.1MB/s \n",
      "\u001b[?25hRequirement already satisfied: spacy>=2.2.2 in /usr/local/lib/python3.6/dist-packages (from en_core_web_lg==2.2.5) (2.2.4)\n",
      "Requirement already satisfied: srsly<1.1.0,>=1.0.2 in /usr/local/lib/python3.6/dist-packages (from spacy>=2.2.2->en_core_web_lg==2.2.5) (1.0.2)\n",
      "Requirement already satisfied: thinc==7.4.0 in /usr/local/lib/python3.6/dist-packages (from spacy>=2.2.2->en_core_web_lg==2.2.5) (7.4.0)\n",
      "Requirement already satisfied: plac<1.2.0,>=0.9.6 in /usr/local/lib/python3.6/dist-packages (from spacy>=2.2.2->en_core_web_lg==2.2.5) (1.1.3)\n",
      "Requirement already satisfied: catalogue<1.1.0,>=0.0.7 in /usr/local/lib/python3.6/dist-packages (from spacy>=2.2.2->en_core_web_lg==2.2.5) (1.0.0)\n",
      "Requirement already satisfied: numpy>=1.15.0 in /usr/local/lib/python3.6/dist-packages (from spacy>=2.2.2->en_core_web_lg==2.2.5) (1.18.3)\n",
      "Requirement already satisfied: cymem<2.1.0,>=2.0.2 in /usr/local/lib/python3.6/dist-packages (from spacy>=2.2.2->en_core_web_lg==2.2.5) (2.0.3)\n",
      "Requirement already satisfied: preshed<3.1.0,>=3.0.2 in /usr/local/lib/python3.6/dist-packages (from spacy>=2.2.2->en_core_web_lg==2.2.5) (3.0.2)\n",
      "Requirement already satisfied: blis<0.5.0,>=0.4.0 in /usr/local/lib/python3.6/dist-packages (from spacy>=2.2.2->en_core_web_lg==2.2.5) (0.4.1)\n",
      "Requirement already satisfied: requests<3.0.0,>=2.13.0 in /usr/local/lib/python3.6/dist-packages (from spacy>=2.2.2->en_core_web_lg==2.2.5) (2.21.0)\n",
      "Requirement already satisfied: murmurhash<1.1.0,>=0.28.0 in /usr/local/lib/python3.6/dist-packages (from spacy>=2.2.2->en_core_web_lg==2.2.5) (1.0.2)\n",
      "Requirement already satisfied: tqdm<5.0.0,>=4.38.0 in /usr/local/lib/python3.6/dist-packages (from spacy>=2.2.2->en_core_web_lg==2.2.5) (4.38.0)\n",
      "Requirement already satisfied: wasabi<1.1.0,>=0.4.0 in /usr/local/lib/python3.6/dist-packages (from spacy>=2.2.2->en_core_web_lg==2.2.5) (0.6.0)\n",
      "Requirement already satisfied: setuptools in /usr/local/lib/python3.6/dist-packages (from spacy>=2.2.2->en_core_web_lg==2.2.5) (46.1.3)\n",
      "Requirement already satisfied: importlib-metadata>=0.20; python_version < \"3.8\" in /usr/local/lib/python3.6/dist-packages (from catalogue<1.1.0,>=0.0.7->spacy>=2.2.2->en_core_web_lg==2.2.5) (1.6.0)\n",
      "Requirement already satisfied: idna<2.9,>=2.5 in /usr/local/lib/python3.6/dist-packages (from requests<3.0.0,>=2.13.0->spacy>=2.2.2->en_core_web_lg==2.2.5) (2.8)\n",
      "Requirement already satisfied: certifi>=2017.4.17 in /usr/local/lib/python3.6/dist-packages (from requests<3.0.0,>=2.13.0->spacy>=2.2.2->en_core_web_lg==2.2.5) (2020.4.5.1)\n",
      "Requirement already satisfied: chardet<3.1.0,>=3.0.2 in /usr/local/lib/python3.6/dist-packages (from requests<3.0.0,>=2.13.0->spacy>=2.2.2->en_core_web_lg==2.2.5) (3.0.4)\n",
      "Requirement already satisfied: urllib3<1.25,>=1.21.1 in /usr/local/lib/python3.6/dist-packages (from requests<3.0.0,>=2.13.0->spacy>=2.2.2->en_core_web_lg==2.2.5) (1.24.3)\n",
      "Requirement already satisfied: zipp>=0.5 in /usr/local/lib/python3.6/dist-packages (from importlib-metadata>=0.20; python_version < \"3.8\"->catalogue<1.1.0,>=0.0.7->spacy>=2.2.2->en_core_web_lg==2.2.5) (3.1.0)\n",
      "Building wheels for collected packages: en-core-web-lg\n",
      "  Building wheel for en-core-web-lg (setup.py) ... \u001b[?25l\u001b[?25hdone\n",
      "  Created wheel for en-core-web-lg: filename=en_core_web_lg-2.2.5-cp36-none-any.whl size=829180944 sha256=769f2244602dd22a943a63b66f0f6fbd8f4e84d44f4f25d4a5045d7ada31c23e\n",
      "  Stored in directory: /tmp/pip-ephem-wheel-cache-tf2u4p10/wheels/2a/c1/a6/fc7a877b1efca9bc6a089d6f506f16d3868408f9ff89f8dbfc\n",
      "Successfully built en-core-web-lg\n",
      "Installing collected packages: en-core-web-lg\n",
      "Successfully installed en-core-web-lg-2.2.5\n",
      "\u001b[38;5;2m✔ Download and installation successful\u001b[0m\n",
      "You can now load the model via spacy.load('en_core_web_lg')\n"
     ]
    }
   ],
   "source": [
    "# takes 3 minutes in Colab\n",
    "#\n",
    "# run, then restart runtime and it should be in the kernel,\n",
    "# after which \"import spacy\" works\n",
    "#\n",
    "# !python -m spacy download en_core_web_lg"
   ]
  },
  {
   "cell_type": "markdown",
   "metadata": {
    "colab_type": "text",
    "id": "r0g-OnhGwcOv"
   },
   "source": [
    "## Exploratory Data Analysis and Cleaning"
   ]
  },
  {
   "cell_type": "code",
   "execution_count": 1,
   "metadata": {},
   "outputs": [],
   "source": [
    "from sklearn.neighbors import NearestNeighbors\n",
    "import pandas as pd\n",
    "import spacy\n",
    "from spacy.tokenizer import Tokenizer\n",
    "from sklearn.feature_extraction.text import TfidfVectorizer"
   ]
  },
  {
   "cell_type": "code",
   "execution_count": 2,
   "metadata": {
    "colab": {},
    "colab_type": "code",
    "id": "CJsv9o6w-pPV"
   },
   "outputs": [],
   "source": [
    "leafly = pd.read_csv('https://raw.githubusercontent.com/Build-Week-Med-Cabinet-6/DS/mark-dev/data/cannabis.csv')"
   ]
  },
  {
   "cell_type": "code",
   "execution_count": 3,
   "metadata": {
    "colab": {
     "base_uri": "https://localhost:8080/",
     "height": 289
    },
    "colab_type": "code",
    "id": "4ZJ1jWjI_Kwk",
    "outputId": "51240228-203f-499a-bb3a-49e2af0de146"
   },
   "outputs": [
    {
     "output_type": "execute_result",
     "data": {
      "text/plain": "           Strain    Type  Rating                                     Effects  \\\n0          100-Og  hybrid     4.0  Creative,Energetic,Tingly,Euphoric,Relaxed   \n1  98-White-Widow  hybrid     4.7    Relaxed,Aroused,Creative,Happy,Energetic   \n2            1024  sativa     4.4   Uplifted,Happy,Relaxed,Energetic,Creative   \n3        13-Dawgs  hybrid     4.2     Tingly,Creative,Hungry,Relaxed,Uplifted   \n4        24K-Gold  hybrid     4.6   Happy,Relaxed,Euphoric,Uplifted,Talkative   \n\n                      Flavor  \\\n0        Earthy,Sweet,Citrus   \n1      Flowery,Violet,Diesel   \n2    Spicy/Herbal,Sage,Woody   \n3  Apricot,Citrus,Grapefruit   \n4       Citrus,Earthy,Orange   \n\n                                         Description  \n0  $100 OG is a 50/50 hybrid strain that packs a ...  \n1  The ‘98 Aloha White Widow is an especially pot...  \n2  1024 is a sativa-dominant hybrid bred in Spain...  \n3  13 Dawgs is a hybrid of G13 and Chemdawg genet...  \n4  Also known as Kosher Tangie, 24k Gold is a 60%...  ",
      "text/html": "<div>\n<style scoped>\n    .dataframe tbody tr th:only-of-type {\n        vertical-align: middle;\n    }\n\n    .dataframe tbody tr th {\n        vertical-align: top;\n    }\n\n    .dataframe thead th {\n        text-align: right;\n    }\n</style>\n<table border=\"1\" class=\"dataframe\">\n  <thead>\n    <tr style=\"text-align: right;\">\n      <th></th>\n      <th>Strain</th>\n      <th>Type</th>\n      <th>Rating</th>\n      <th>Effects</th>\n      <th>Flavor</th>\n      <th>Description</th>\n    </tr>\n  </thead>\n  <tbody>\n    <tr>\n      <th>0</th>\n      <td>100-Og</td>\n      <td>hybrid</td>\n      <td>4.0</td>\n      <td>Creative,Energetic,Tingly,Euphoric,Relaxed</td>\n      <td>Earthy,Sweet,Citrus</td>\n      <td>$100 OG is a 50/50 hybrid strain that packs a ...</td>\n    </tr>\n    <tr>\n      <th>1</th>\n      <td>98-White-Widow</td>\n      <td>hybrid</td>\n      <td>4.7</td>\n      <td>Relaxed,Aroused,Creative,Happy,Energetic</td>\n      <td>Flowery,Violet,Diesel</td>\n      <td>The ‘98 Aloha White Widow is an especially pot...</td>\n    </tr>\n    <tr>\n      <th>2</th>\n      <td>1024</td>\n      <td>sativa</td>\n      <td>4.4</td>\n      <td>Uplifted,Happy,Relaxed,Energetic,Creative</td>\n      <td>Spicy/Herbal,Sage,Woody</td>\n      <td>1024 is a sativa-dominant hybrid bred in Spain...</td>\n    </tr>\n    <tr>\n      <th>3</th>\n      <td>13-Dawgs</td>\n      <td>hybrid</td>\n      <td>4.2</td>\n      <td>Tingly,Creative,Hungry,Relaxed,Uplifted</td>\n      <td>Apricot,Citrus,Grapefruit</td>\n      <td>13 Dawgs is a hybrid of G13 and Chemdawg genet...</td>\n    </tr>\n    <tr>\n      <th>4</th>\n      <td>24K-Gold</td>\n      <td>hybrid</td>\n      <td>4.6</td>\n      <td>Happy,Relaxed,Euphoric,Uplifted,Talkative</td>\n      <td>Citrus,Earthy,Orange</td>\n      <td>Also known as Kosher Tangie, 24k Gold is a 60%...</td>\n    </tr>\n  </tbody>\n</table>\n</div>"
     },
     "metadata": {},
     "execution_count": 3
    }
   ],
   "source": [
    "leafly.head()"
   ]
  },
  {
   "cell_type": "code",
   "execution_count": 4,
   "metadata": {
    "colab": {
     "base_uri": "https://localhost:8080/",
     "height": 34
    },
    "colab_type": "code",
    "id": "abxWbM-U_LzR",
    "outputId": "e8efc21d-6029-4dcb-e406-9874ad9b9440"
   },
   "outputs": [
    {
     "output_type": "execute_result",
     "data": {
      "text/plain": "(2351, 6)"
     },
     "metadata": {},
     "execution_count": 4
    }
   ],
   "source": [
    "leafly.shape"
   ]
  },
  {
   "cell_type": "code",
   "execution_count": 5,
   "metadata": {
    "colab": {
     "base_uri": "https://localhost:8080/",
     "height": 34
    },
    "colab_type": "code",
    "id": "eS_LCsUa_NNW",
    "outputId": "53250cc2-2ead-4974-9978-a6ed3e0c6689"
   },
   "outputs": [
    {
     "output_type": "execute_result",
     "data": {
      "text/plain": "2350"
     },
     "metadata": {},
     "execution_count": 5
    }
   ],
   "source": [
    "leafly['Strain'].nunique()"
   ]
  },
  {
   "cell_type": "code",
   "execution_count": 6,
   "metadata": {
    "colab": {
     "base_uri": "https://localhost:8080/",
     "height": 136
    },
    "colab_type": "code",
    "id": "bunD5E3g_RVp",
    "outputId": "bc69f1da-4366-4181-bc13-847f36e06bae"
   },
   "outputs": [
    {
     "output_type": "execute_result",
     "data": {
      "text/plain": "Strain          0\nType            0\nRating          0\nEffects         0\nFlavor         46\nDescription    33\ndtype: int64"
     },
     "metadata": {},
     "execution_count": 6
    }
   ],
   "source": [
    "leafly.isnull().sum()"
   ]
  },
  {
   "cell_type": "markdown",
   "metadata": {
    "colab_type": "text",
    "id": "UFFtbuVdwKNs"
   },
   "source": [
    "## Modeling"
   ]
  },
  {
   "cell_type": "code",
   "execution_count": 7,
   "metadata": {
    "colab": {
     "base_uri": "https://localhost:8080/",
     "height": 395
    },
    "colab_type": "code",
    "id": "fxXcGcFzFNlY",
    "outputId": "4eed8175-1d15-4ea2-b278-e1156b8bdae7"
   },
   "outputs": [
    {
     "output_type": "execute_result",
     "data": {
      "text/plain": "['Text',\n 'data',\n 'needs',\n 'to',\n 'be',\n 'processed',\n 'to',\n 'prepare',\n 'it',\n 'for',\n 'machine',\n 'learning',\n 'models!']"
     },
     "metadata": {},
     "execution_count": 7
    }
   ],
   "source": [
    "# Set up spacy tokenizer\n",
    "\n",
    "\n",
    "#!python -m spacy download en_core_web_lg\n",
    "nlp = spacy.load('en_core_web_lg')\n",
    "tokenizer = Tokenizer(nlp.vocab)\n",
    "\n",
    "sample_text = \"Text data needs to be processed to prepare it for machine learning models!\"\n",
    "\n",
    "[token.text for token in tokenizer(sample_text)]"
   ]
  },
  {
   "cell_type": "code",
   "execution_count": 8,
   "metadata": {
    "colab": {},
    "colab_type": "code",
    "id": "s7d9ekIo0BSc"
   },
   "outputs": [
    {
     "output_type": "execute_result",
     "data": {
      "text/plain": "33"
     },
     "metadata": {},
     "execution_count": 8
    }
   ],
   "source": [
    "leafly['Description'].isnull().sum()"
   ]
  },
  {
   "cell_type": "code",
   "execution_count": 10,
   "metadata": {},
   "outputs": [],
   "source": [
    "import numpy as np\n",
    "leafly.replace('None',np.NaN,inplace=True)"
   ]
  },
  {
   "cell_type": "code",
   "execution_count": 11,
   "metadata": {
    "colab": {},
    "colab_type": "code",
    "id": "q7HRKId20P0E"
   },
   "outputs": [],
   "source": [
    "leafly = leafly.dropna()"
   ]
  },
  {
   "cell_type": "code",
   "execution_count": 12,
   "metadata": {
    "colab": {},
    "colab_type": "code",
    "id": "GTYehhwm1WcV"
   },
   "outputs": [
    {
     "output_type": "execute_result",
     "data": {
      "text/plain": "(2163, 6)"
     },
     "metadata": {},
     "execution_count": 12
    }
   ],
   "source": [
    "# 2351 --> 2277.  I'm happy to just wholesale drop anything with missing values\n",
    "\n",
    "leafly.shape"
   ]
  },
  {
   "cell_type": "code",
   "execution_count": 13,
   "metadata": {
    "colab": {},
    "colab_type": "code",
    "id": "vDgxssXqFNbH"
   },
   "outputs": [
    {
     "output_type": "execute_result",
     "data": {
      "text/plain": "0    [$100, OG, is, a, 50/50, hybrid, strain, that,...\n1    [The, ‘98, Aloha, White, Widow, is, an, especi...\n2    [1024, is, a, sativa-dominant, hybrid, bred, i...\n3    [13, Dawgs, is, a, hybrid, of, G13, and, Chemd...\n4    [Also, known, as, Kosher, Tangie,, 24k, Gold, ...\nName: tokens, dtype: object"
     },
     "metadata": {},
     "execution_count": 13
    }
   ],
   "source": [
    "# Make tokens out of descriptions\n",
    "\n",
    "tokens = []\n",
    "for desc in tokenizer.pipe(leafly['Description'], batch_size=500):\n",
    "    desc_tokens = [token.text for token in desc]\n",
    "    tokens.append(desc_tokens)\n",
    "leafly['tokens'] = tokens\n",
    "leafly['tokens'].head()"
   ]
  },
  {
   "cell_type": "code",
   "execution_count": 14,
   "metadata": {
    "colab": {},
    "colab_type": "code",
    "id": "G7Ba1-yJb-2l"
   },
   "outputs": [
    {
     "output_type": "execute_result",
     "data": {
      "text/plain": "           Strain    Type  Rating                                     Effects  \\\n0          100-Og  hybrid     4.0  Creative,Energetic,Tingly,Euphoric,Relaxed   \n1  98-White-Widow  hybrid     4.7    Relaxed,Aroused,Creative,Happy,Energetic   \n2            1024  sativa     4.4   Uplifted,Happy,Relaxed,Energetic,Creative   \n3        13-Dawgs  hybrid     4.2     Tingly,Creative,Hungry,Relaxed,Uplifted   \n4        24K-Gold  hybrid     4.6   Happy,Relaxed,Euphoric,Uplifted,Talkative   \n\n                      Flavor  \\\n0        Earthy,Sweet,Citrus   \n1      Flowery,Violet,Diesel   \n2    Spicy/Herbal,Sage,Woody   \n3  Apricot,Citrus,Grapefruit   \n4       Citrus,Earthy,Orange   \n\n                                         Description  \\\n0  $100 OG is a 50/50 hybrid strain that packs a ...   \n1  The ‘98 Aloha White Widow is an especially pot...   \n2  1024 is a sativa-dominant hybrid bred in Spain...   \n3  13 Dawgs is a hybrid of G13 and Chemdawg genet...   \n4  Also known as Kosher Tangie, 24k Gold is a 60%...   \n\n                                              tokens  \n0  [$100, OG, is, a, 50/50, hybrid, strain, that,...  \n1  [The, ‘98, Aloha, White, Widow, is, an, especi...  \n2  [1024, is, a, sativa-dominant, hybrid, bred, i...  \n3  [13, Dawgs, is, a, hybrid, of, G13, and, Chemd...  \n4  [Also, known, as, Kosher, Tangie,, 24k, Gold, ...  ",
      "text/html": "<div>\n<style scoped>\n    .dataframe tbody tr th:only-of-type {\n        vertical-align: middle;\n    }\n\n    .dataframe tbody tr th {\n        vertical-align: top;\n    }\n\n    .dataframe thead th {\n        text-align: right;\n    }\n</style>\n<table border=\"1\" class=\"dataframe\">\n  <thead>\n    <tr style=\"text-align: right;\">\n      <th></th>\n      <th>Strain</th>\n      <th>Type</th>\n      <th>Rating</th>\n      <th>Effects</th>\n      <th>Flavor</th>\n      <th>Description</th>\n      <th>tokens</th>\n    </tr>\n  </thead>\n  <tbody>\n    <tr>\n      <th>0</th>\n      <td>100-Og</td>\n      <td>hybrid</td>\n      <td>4.0</td>\n      <td>Creative,Energetic,Tingly,Euphoric,Relaxed</td>\n      <td>Earthy,Sweet,Citrus</td>\n      <td>$100 OG is a 50/50 hybrid strain that packs a ...</td>\n      <td>[$100, OG, is, a, 50/50, hybrid, strain, that,...</td>\n    </tr>\n    <tr>\n      <th>1</th>\n      <td>98-White-Widow</td>\n      <td>hybrid</td>\n      <td>4.7</td>\n      <td>Relaxed,Aroused,Creative,Happy,Energetic</td>\n      <td>Flowery,Violet,Diesel</td>\n      <td>The ‘98 Aloha White Widow is an especially pot...</td>\n      <td>[The, ‘98, Aloha, White, Widow, is, an, especi...</td>\n    </tr>\n    <tr>\n      <th>2</th>\n      <td>1024</td>\n      <td>sativa</td>\n      <td>4.4</td>\n      <td>Uplifted,Happy,Relaxed,Energetic,Creative</td>\n      <td>Spicy/Herbal,Sage,Woody</td>\n      <td>1024 is a sativa-dominant hybrid bred in Spain...</td>\n      <td>[1024, is, a, sativa-dominant, hybrid, bred, i...</td>\n    </tr>\n    <tr>\n      <th>3</th>\n      <td>13-Dawgs</td>\n      <td>hybrid</td>\n      <td>4.2</td>\n      <td>Tingly,Creative,Hungry,Relaxed,Uplifted</td>\n      <td>Apricot,Citrus,Grapefruit</td>\n      <td>13 Dawgs is a hybrid of G13 and Chemdawg genet...</td>\n      <td>[13, Dawgs, is, a, hybrid, of, G13, and, Chemd...</td>\n    </tr>\n    <tr>\n      <th>4</th>\n      <td>24K-Gold</td>\n      <td>hybrid</td>\n      <td>4.6</td>\n      <td>Happy,Relaxed,Euphoric,Uplifted,Talkative</td>\n      <td>Citrus,Earthy,Orange</td>\n      <td>Also known as Kosher Tangie, 24k Gold is a 60%...</td>\n      <td>[Also, known, as, Kosher, Tangie,, 24k, Gold, ...</td>\n    </tr>\n  </tbody>\n</table>\n</div>"
     },
     "metadata": {},
     "execution_count": 14
    }
   ],
   "source": [
    "leafly.head()"
   ]
  },
  {
   "cell_type": "markdown",
   "metadata": {},
   "source": [
    "## TF-IDF Vectorizer"
   ]
  },
  {
   "cell_type": "code",
   "execution_count": 15,
   "metadata": {},
   "outputs": [],
   "source": [
    "def tokenize(document):\n",
    "    \n",
    "    doc = nlp(document)\n",
    "    \n",
    "    return [token.lemma_.strip() for token in doc if (token.is_stop != True) and (token.is_punct != True)]"
   ]
  },
  {
   "cell_type": "code",
   "execution_count": 16,
   "metadata": {
    "colab": {},
    "colab_type": "code",
    "id": "-XuWjU8Qb-y2"
   },
   "outputs": [
    {
     "output_type": "execute_result",
     "data": {
      "text/plain": "                   1st    8   afghani   aroma   black   blend   blue  \\\n0  0.000000  0.0   0.0  0.0       0.0     0.0     0.0     0.0    0.0   \n1  0.028345  0.0   0.0  0.0       0.0     0.0     0.0     0.0    0.0   \n2  0.000000  0.0   0.0  0.0       0.0     0.0     0.0     0.0    0.0   \n3  0.038187  0.0   0.0  0.0       0.0     0.0     0.0     0.0    0.0   \n4  0.030593  0.0   0.0  0.0       0.0     0.0     0.0     0.0    0.0   \n\n    blueberry  ...  yoda  zealand  zest  zestful  zesty  zesty lemon  zion  \\\n0         0.0  ...   0.0      0.0   0.0      0.0    0.0          0.0   0.0   \n1         0.0  ...   0.0      0.0   0.0      0.0    0.0          0.0   0.0   \n2         0.0  ...   0.0      0.0   0.0      0.0    0.0          0.0   0.0   \n3         0.0  ...   0.0      0.0   0.0      0.0    0.0          0.0   0.0   \n4         0.0  ...   0.0      0.0   0.0      0.0    0.0          0.0   0.0   \n\n   zombie  zombie og  zone  \n0     0.0        0.0   0.0  \n1     0.0        0.0   0.0  \n2     0.0        0.0   0.0  \n3     0.0        0.0   0.0  \n4     0.0        0.0   0.0  \n\n[5 rows x 8340 columns]",
      "text/html": "<div>\n<style scoped>\n    .dataframe tbody tr th:only-of-type {\n        vertical-align: middle;\n    }\n\n    .dataframe tbody tr th {\n        vertical-align: top;\n    }\n\n    .dataframe thead th {\n        text-align: right;\n    }\n</style>\n<table border=\"1\" class=\"dataframe\">\n  <thead>\n    <tr style=\"text-align: right;\">\n      <th></th>\n      <th></th>\n      <th></th>\n      <th>1st</th>\n      <th>8</th>\n      <th>afghani</th>\n      <th>aroma</th>\n      <th>black</th>\n      <th>blend</th>\n      <th>blue</th>\n      <th>blueberry</th>\n      <th>...</th>\n      <th>yoda</th>\n      <th>zealand</th>\n      <th>zest</th>\n      <th>zestful</th>\n      <th>zesty</th>\n      <th>zesty lemon</th>\n      <th>zion</th>\n      <th>zombie</th>\n      <th>zombie og</th>\n      <th>zone</th>\n    </tr>\n  </thead>\n  <tbody>\n    <tr>\n      <th>0</th>\n      <td>0.000000</td>\n      <td>0.0</td>\n      <td>0.0</td>\n      <td>0.0</td>\n      <td>0.0</td>\n      <td>0.0</td>\n      <td>0.0</td>\n      <td>0.0</td>\n      <td>0.0</td>\n      <td>0.0</td>\n      <td>...</td>\n      <td>0.0</td>\n      <td>0.0</td>\n      <td>0.0</td>\n      <td>0.0</td>\n      <td>0.0</td>\n      <td>0.0</td>\n      <td>0.0</td>\n      <td>0.0</td>\n      <td>0.0</td>\n      <td>0.0</td>\n    </tr>\n    <tr>\n      <th>1</th>\n      <td>0.028345</td>\n      <td>0.0</td>\n      <td>0.0</td>\n      <td>0.0</td>\n      <td>0.0</td>\n      <td>0.0</td>\n      <td>0.0</td>\n      <td>0.0</td>\n      <td>0.0</td>\n      <td>0.0</td>\n      <td>...</td>\n      <td>0.0</td>\n      <td>0.0</td>\n      <td>0.0</td>\n      <td>0.0</td>\n      <td>0.0</td>\n      <td>0.0</td>\n      <td>0.0</td>\n      <td>0.0</td>\n      <td>0.0</td>\n      <td>0.0</td>\n    </tr>\n    <tr>\n      <th>2</th>\n      <td>0.000000</td>\n      <td>0.0</td>\n      <td>0.0</td>\n      <td>0.0</td>\n      <td>0.0</td>\n      <td>0.0</td>\n      <td>0.0</td>\n      <td>0.0</td>\n      <td>0.0</td>\n      <td>0.0</td>\n      <td>...</td>\n      <td>0.0</td>\n      <td>0.0</td>\n      <td>0.0</td>\n      <td>0.0</td>\n      <td>0.0</td>\n      <td>0.0</td>\n      <td>0.0</td>\n      <td>0.0</td>\n      <td>0.0</td>\n      <td>0.0</td>\n    </tr>\n    <tr>\n      <th>3</th>\n      <td>0.038187</td>\n      <td>0.0</td>\n      <td>0.0</td>\n      <td>0.0</td>\n      <td>0.0</td>\n      <td>0.0</td>\n      <td>0.0</td>\n      <td>0.0</td>\n      <td>0.0</td>\n      <td>0.0</td>\n      <td>...</td>\n      <td>0.0</td>\n      <td>0.0</td>\n      <td>0.0</td>\n      <td>0.0</td>\n      <td>0.0</td>\n      <td>0.0</td>\n      <td>0.0</td>\n      <td>0.0</td>\n      <td>0.0</td>\n      <td>0.0</td>\n    </tr>\n    <tr>\n      <th>4</th>\n      <td>0.030593</td>\n      <td>0.0</td>\n      <td>0.0</td>\n      <td>0.0</td>\n      <td>0.0</td>\n      <td>0.0</td>\n      <td>0.0</td>\n      <td>0.0</td>\n      <td>0.0</td>\n      <td>0.0</td>\n      <td>...</td>\n      <td>0.0</td>\n      <td>0.0</td>\n      <td>0.0</td>\n      <td>0.0</td>\n      <td>0.0</td>\n      <td>0.0</td>\n      <td>0.0</td>\n      <td>0.0</td>\n      <td>0.0</td>\n      <td>0.0</td>\n    </tr>\n  </tbody>\n</table>\n<p>5 rows × 8340 columns</p>\n</div>"
     },
     "metadata": {},
     "execution_count": 16
    }
   ],
   "source": [
    "\n",
    "\n",
    "# Instantiate vectorizer object\n",
    "tfidf = TfidfVectorizer(stop_words='english', \n",
    "                        ngram_range=(1,2),\n",
    "                        max_df=.97,\n",
    "                        min_df=3,\n",
    "                        tokenizer=tokenize)\n",
    "\n",
    "# Create a vocabulary and get word counts per listing\n",
    "dtm = tfidf.fit_transform(leafly['Description'])\n",
    "\n",
    "# Get feature names to use a dataframe column headers\n",
    "dtm = pd.DataFrame(dtm.todense(), columns=tfidf.get_feature_names())\n",
    "\n",
    "# View Feature Matrix as DataFrame\n",
    "dtm.head()"
   ]
  },
  {
   "cell_type": "code",
   "execution_count": 17,
   "metadata": {
    "colab": {},
    "colab_type": "code",
    "id": "f6EB9WTib-vR"
   },
   "outputs": [
    {
     "output_type": "execute_result",
     "data": {
      "text/plain": "(2163, 8340)"
     },
     "metadata": {},
     "execution_count": 17
    }
   ],
   "source": [
    "dtm.shape"
   ]
  },
  {
   "cell_type": "markdown",
   "metadata": {},
   "source": [
    "## Fit a KNearestNeighbors Model on dtm"
   ]
  },
  {
   "cell_type": "code",
   "execution_count": 18,
   "metadata": {},
   "outputs": [
    {
     "output_type": "execute_result",
     "data": {
      "text/plain": "NearestNeighbors(algorithm='kd_tree', leaf_size=30, metric='minkowski',\n                 metric_params=None, n_jobs=None, n_neighbors=20, p=2,\n                 radius=1.0)"
     },
     "metadata": {},
     "execution_count": 18
    }
   ],
   "source": [
    "#from sklearn.neighbors import NearestNeighbors\n",
    "\n",
    "# Fit on dtm\n",
    "nn = NearestNeighbors(n_neighbors=20, algorithm='kd_tree')\n",
    "nn.fit(dtm)"
   ]
  },
  {
   "cell_type": "code",
   "execution_count": 19,
   "metadata": {},
   "outputs": [
    {
     "output_type": "execute_result",
     "data": {
      "text/plain": "(array([[0.        , 1.28354555, 1.28999472, 1.30751895, 1.31149959,\n         1.31691786, 1.31792323, 1.31849079, 1.31862296, 1.31960226,\n         1.32253938, 1.32642939, 1.32662427, 1.32953381, 1.33112344,\n         1.33364671, 1.3375809 , 1.33799352, 1.33911045, 1.33984016]]),\n array([[   0, 1738,  219,  376, 2055,  631, 1381,  889, 2036, 1791,  503,\n           48,  974,  208, 1539,   41, 1100, 1534, 1312, 1289]]))"
     },
     "metadata": {},
     "execution_count": 19
    }
   ],
   "source": [
    "# Query Using kneighbors \n",
    "nn.kneighbors([dtm.iloc[0]])"
   ]
  },
  {
   "cell_type": "code",
   "execution_count": 25,
   "metadata": {},
   "outputs": [],
   "source": [
    "# user input(\"Describe your ideal strain!\")\n",
    "\n",
    "ideal_strain = [\"\"\"\n",
    "earthy full lavored hybrid with fuit over tones\n",
    "\"\"\"]"
   ]
  },
  {
   "cell_type": "code",
   "execution_count": 26,
   "metadata": {},
   "outputs": [
    {
     "output_type": "execute_result",
     "data": {
      "text/plain": "(array([[1.2791434 , 1.29560779, 1.30798674, 1.31335276, 1.31400403,\n         1.31539701, 1.31938311, 1.32299936, 1.32307984, 1.32672534,\n         1.3283781 , 1.3283936 , 1.33063945, 1.33269761, 1.33495885,\n         1.34075064, 1.3421498 , 1.34245085, 1.34289047, 1.34358965]]),\n array([[1598,  398, 1006,  436, 2136, 2095, 1674, 1134,  612, 1126,  673,\n         1535,  381,  127, 1073, 1374,  263,  617,  122, 2038]]))"
     },
     "metadata": {},
     "execution_count": 26
    }
   ],
   "source": [
    "# Query the user's ideal strain. 2nd array is their top 20 strains\n",
    "\n",
    "new = tfidf.transform(ideal_strain)\n",
    "nn.kneighbors(new.todense())"
   ]
  },
  {
   "cell_type": "code",
   "execution_count": 32,
   "metadata": {},
   "outputs": [
    {
     "output_type": "stream",
     "name": "stdout",
     "text": "/home/joe/Desktop/school/ds-project/app/ml\n"
    }
   ],
   "source": [
    "!pwd"
   ]
  },
  {
   "cell_type": "code",
   "execution_count": 34,
   "metadata": {},
   "outputs": [],
   "source": [
    "# serializ the fitted model and the fitted estimator for use in the web app\n",
    "import pickle\n",
    "with open('../pickles/isaac_tf.pickle','wb') as fp:\n",
    "    pickle.dump(tfidf,fp)\n",
    "with open('../pickles/isaac_nn.pickle','wb') as fp2:\n",
    "    pickle.dump(nn,fp2)"
   ]
  },
  {
   "cell_type": "code",
   "execution_count": null,
   "metadata": {},
   "outputs": [],
   "source": [
    "# And then do (pseudocode)\n",
    "#\n",
    "# for number in nn.kneighbors(new.todense())[1]:\n",
    "#     return that strain\n",
    "#      Send to web so they can visualize the Top 20 list.\n",
    "#\n",
    "\n"
   ]
  },
  {
   "cell_type": "code",
   "execution_count": 31,
   "metadata": {},
   "outputs": [
    {
     "output_type": "execute_result",
     "data": {
      "text/plain": "'Sunshine #4 is an award-winning hybrid bred by Bodhi Seeds. This blend of Chemdawg 4 and Sunshine Daydream genetics took the prize for Best Hybrid Flower at the 2015 High Times Medical Cup in Michigan.'"
     },
     "metadata": {},
     "execution_count": 31
    }
   ],
   "source": [
    "# Inspect most relevant strain\n",
    "leafly['Description'][2038]"
   ]
  },
  {
   "cell_type": "code",
   "execution_count": 24,
   "metadata": {},
   "outputs": [
    {
     "data": {
      "text/plain": [
       "'Purple Kush is a pure indica strain that emerged from the Oakland area of California as the result of a Hindu Kush and Purple Afghani cross. Its aroma is subtle and earthy with sweet overtones typical of Kush varieties. Blissful, long-lasting euphoria blankets the mind while physical relaxation rids the body of pain, sleeplessness, and stress. Purple Kush will grow wide rather than tall, and will be ready for harvest following an 8 week flowering time.'"
      ]
     },
     "execution_count": 24,
     "metadata": {},
     "output_type": "execute_result"
    }
   ],
   "source": [
    "# Inspect 2nd most relevant strain\n",
    "leafly['Description'][1698]"
   ]
  },
  {
   "cell_type": "code",
   "execution_count": null,
   "metadata": {},
   "outputs": [],
   "source": []
  },
  {
   "cell_type": "code",
   "execution_count": null,
   "metadata": {},
   "outputs": [],
   "source": []
  },
  {
   "cell_type": "code",
   "execution_count": null,
   "metadata": {},
   "outputs": [],
   "source": []
  },
  {
   "cell_type": "code",
   "execution_count": null,
   "metadata": {},
   "outputs": [],
   "source": []
  },
  {
   "cell_type": "code",
   "execution_count": null,
   "metadata": {
    "colab": {},
    "colab_type": "code",
    "id": "cVgkhiV3b-rk"
   },
   "outputs": [],
   "source": [
    "#\n",
    "##\n",
    "###\n",
    "###     IGNORE BELOW\n",
    "###\n",
    "##\n",
    "#"
   ]
  },
  {
   "cell_type": "code",
   "execution_count": null,
   "metadata": {
    "colab": {},
    "colab_type": "code",
    "id": "E3vC2E9f_xnT"
   },
   "outputs": [],
   "source": [
    "# Another dataset. Will probably ignore.\n",
    "\n",
    "kushy = pd.read_csv('https://raw.githubusercontent.com/kushyapp/cannabis-dataset/master/Dataset/Strains/strains-kushy_api.2017-11-14.csv')"
   ]
  },
  {
   "cell_type": "code",
   "execution_count": 11,
   "metadata": {
    "colab": {
     "base_uri": "https://localhost:8080/",
     "height": 547
    },
    "colab_type": "code",
    "id": "xKQYhwqZArls",
    "outputId": "46546d23-4f43-4851-bab0-bb04995a2746"
   },
   "outputs": [
    {
     "data": {
      "text/html": [
       "<div>\n",
       "<style scoped>\n",
       "    .dataframe tbody tr th:only-of-type {\n",
       "        vertical-align: middle;\n",
       "    }\n",
       "\n",
       "    .dataframe tbody tr th {\n",
       "        vertical-align: top;\n",
       "    }\n",
       "\n",
       "    .dataframe thead th {\n",
       "        text-align: right;\n",
       "    }\n",
       "</style>\n",
       "<table border=\"1\" class=\"dataframe\">\n",
       "  <thead>\n",
       "    <tr style=\"text-align: right;\">\n",
       "      <th></th>\n",
       "      <th>id</th>\n",
       "      <th>status</th>\n",
       "      <th>sort</th>\n",
       "      <th>name</th>\n",
       "      <th>slug</th>\n",
       "      <th>image</th>\n",
       "      <th>description</th>\n",
       "      <th>type</th>\n",
       "      <th>crosses</th>\n",
       "      <th>breeder</th>\n",
       "      <th>effects</th>\n",
       "      <th>ailment</th>\n",
       "      <th>flavor</th>\n",
       "      <th>location</th>\n",
       "      <th>terpenes</th>\n",
       "      <th>thc</th>\n",
       "      <th>thca</th>\n",
       "      <th>thcv</th>\n",
       "      <th>cbd</th>\n",
       "      <th>cbda</th>\n",
       "      <th>cbdv</th>\n",
       "      <th>cbn</th>\n",
       "      <th>cbg</th>\n",
       "      <th>cbgm</th>\n",
       "      <th>cbgv</th>\n",
       "      <th>cbc</th>\n",
       "      <th>cbcv</th>\n",
       "      <th>cbv</th>\n",
       "      <th>cbe</th>\n",
       "      <th>cbt</th>\n",
       "      <th>cbl</th>\n",
       "    </tr>\n",
       "  </thead>\n",
       "  <tbody>\n",
       "    <tr>\n",
       "      <th>0</th>\n",
       "      <td>1</td>\n",
       "      <td>1</td>\n",
       "      <td>0</td>\n",
       "      <td>100 OG</td>\n",
       "      <td>NaN</td>\n",
       "      <td>NaN</td>\n",
       "      <td>&lt;p&gt;This strain is named after it's high price ...</td>\n",
       "      <td>Hybrid</td>\n",
       "      <td>NaN</td>\n",
       "      <td>Old School Breeder's Association</td>\n",
       "      <td>Focused</td>\n",
       "      <td>Depression</td>\n",
       "      <td>Citrus</td>\n",
       "      <td>NaN</td>\n",
       "      <td>Limonene</td>\n",
       "      <td>127</td>\n",
       "      <td>0.0</td>\n",
       "      <td>0.0</td>\n",
       "      <td>16</td>\n",
       "      <td>0.0</td>\n",
       "      <td>0.0</td>\n",
       "      <td>10</td>\n",
       "      <td>0.0</td>\n",
       "      <td>0.0</td>\n",
       "      <td>0.0</td>\n",
       "      <td>0.0</td>\n",
       "      <td>0.0</td>\n",
       "      <td>0.0</td>\n",
       "      <td>0.0</td>\n",
       "      <td>0.0</td>\n",
       "      <td>0.0</td>\n",
       "    </tr>\n",
       "    <tr>\n",
       "      <th>1</th>\n",
       "      <td>2</td>\n",
       "      <td>1</td>\n",
       "      <td>0</td>\n",
       "      <td>707 Headband</td>\n",
       "      <td>NaN</td>\n",
       "      <td>NaN</td>\n",
       "      <td>NaN</td>\n",
       "      <td>Hybrid</td>\n",
       "      <td>378,272</td>\n",
       "      <td>Unknown Breeder</td>\n",
       "      <td>NaN</td>\n",
       "      <td>NaN</td>\n",
       "      <td>NaN</td>\n",
       "      <td>NaN</td>\n",
       "      <td>NaN</td>\n",
       "      <td>127</td>\n",
       "      <td>NaN</td>\n",
       "      <td>NaN</td>\n",
       "      <td>0</td>\n",
       "      <td>NaN</td>\n",
       "      <td>NaN</td>\n",
       "      <td>0</td>\n",
       "      <td>NaN</td>\n",
       "      <td>NaN</td>\n",
       "      <td>NaN</td>\n",
       "      <td>NaN</td>\n",
       "      <td>NaN</td>\n",
       "      <td>NaN</td>\n",
       "      <td>NaN</td>\n",
       "      <td>NaN</td>\n",
       "      <td>NaN</td>\n",
       "    </tr>\n",
       "    <tr>\n",
       "      <th>2</th>\n",
       "      <td>3</td>\n",
       "      <td>1</td>\n",
       "      <td>0</td>\n",
       "      <td>A-10</td>\n",
       "      <td>NaN</td>\n",
       "      <td>NaN</td>\n",
       "      <td>NaN</td>\n",
       "      <td>Indica</td>\n",
       "      <td>0</td>\n",
       "      <td>NaN</td>\n",
       "      <td>Relaxed, Happy, Uplifted, Energetic, Sleepy, D...</td>\n",
       "      <td>Stress, Insomnia, Pain, Muscle Spasms, Depression</td>\n",
       "      <td>Citrus, Sweet</td>\n",
       "      <td>NaN</td>\n",
       "      <td>NaN</td>\n",
       "      <td>0</td>\n",
       "      <td>NaN</td>\n",
       "      <td>NaN</td>\n",
       "      <td>0</td>\n",
       "      <td>NaN</td>\n",
       "      <td>NaN</td>\n",
       "      <td>0</td>\n",
       "      <td>NaN</td>\n",
       "      <td>NaN</td>\n",
       "      <td>NaN</td>\n",
       "      <td>NaN</td>\n",
       "      <td>NaN</td>\n",
       "      <td>NaN</td>\n",
       "      <td>NaN</td>\n",
       "      <td>NaN</td>\n",
       "      <td>NaN</td>\n",
       "    </tr>\n",
       "    <tr>\n",
       "      <th>3</th>\n",
       "      <td>4</td>\n",
       "      <td>1</td>\n",
       "      <td>0</td>\n",
       "      <td>Acapulco Gold</td>\n",
       "      <td>NaN</td>\n",
       "      <td>NaN</td>\n",
       "      <td>NaN</td>\n",
       "      <td>Sativa</td>\n",
       "      <td>0</td>\n",
       "      <td>NaN</td>\n",
       "      <td>Happy, Euphoric, Uplifted, Relaxed, Creative, ...</td>\n",
       "      <td>Depression, Stress, Pain, Lack of Appetite</td>\n",
       "      <td>Earthy, Citrus</td>\n",
       "      <td>NaN</td>\n",
       "      <td>NaN</td>\n",
       "      <td>0</td>\n",
       "      <td>NaN</td>\n",
       "      <td>NaN</td>\n",
       "      <td>0</td>\n",
       "      <td>NaN</td>\n",
       "      <td>NaN</td>\n",
       "      <td>0</td>\n",
       "      <td>NaN</td>\n",
       "      <td>NaN</td>\n",
       "      <td>NaN</td>\n",
       "      <td>NaN</td>\n",
       "      <td>NaN</td>\n",
       "      <td>NaN</td>\n",
       "      <td>NaN</td>\n",
       "      <td>NaN</td>\n",
       "      <td>NaN</td>\n",
       "    </tr>\n",
       "    <tr>\n",
       "      <th>4</th>\n",
       "      <td>5</td>\n",
       "      <td>1</td>\n",
       "      <td>0</td>\n",
       "      <td>Afghani Bullrider</td>\n",
       "      <td>NaN</td>\n",
       "      <td>NaN</td>\n",
       "      <td>NaN</td>\n",
       "      <td>Hybrid</td>\n",
       "      <td>0</td>\n",
       "      <td>Unknown Breeder</td>\n",
       "      <td>Uplifted, Relaxed, Happy, Euphoric, Dry Mouth,...</td>\n",
       "      <td>Stress, Depression, Insomnia, Pain</td>\n",
       "      <td>Sweet, Pine, Earthy</td>\n",
       "      <td>NaN</td>\n",
       "      <td>NaN</td>\n",
       "      <td>127</td>\n",
       "      <td>NaN</td>\n",
       "      <td>NaN</td>\n",
       "      <td>0</td>\n",
       "      <td>NaN</td>\n",
       "      <td>NaN</td>\n",
       "      <td>0</td>\n",
       "      <td>NaN</td>\n",
       "      <td>NaN</td>\n",
       "      <td>NaN</td>\n",
       "      <td>NaN</td>\n",
       "      <td>NaN</td>\n",
       "      <td>NaN</td>\n",
       "      <td>NaN</td>\n",
       "      <td>NaN</td>\n",
       "      <td>NaN</td>\n",
       "    </tr>\n",
       "  </tbody>\n",
       "</table>\n",
       "</div>"
      ],
      "text/plain": [
       "   id  status  sort               name  slug  ...  cbcv  cbv  cbe  cbt  cbl\n",
       "0   1       1     0             100 OG   NaN  ...   0.0  0.0  0.0  0.0  0.0\n",
       "1   2       1     0       707 Headband   NaN  ...   NaN  NaN  NaN  NaN  NaN\n",
       "2   3       1     0               A-10   NaN  ...   NaN  NaN  NaN  NaN  NaN\n",
       "3   4       1     0      Acapulco Gold   NaN  ...   NaN  NaN  NaN  NaN  NaN\n",
       "4   5       1     0  Afghani Bullrider   NaN  ...   NaN  NaN  NaN  NaN  NaN\n",
       "\n",
       "[5 rows x 31 columns]"
      ]
     },
     "execution_count": 11,
     "metadata": {
      "tags": []
     },
     "output_type": "execute_result"
    }
   ],
   "source": [
    "kushy.head()"
   ]
  },
  {
   "cell_type": "code",
   "execution_count": null,
   "metadata": {
    "colab": {},
    "colab_type": "code",
    "id": "scYy9-blAsyL"
   },
   "outputs": [],
   "source": []
  }
 ],
 "metadata": {
  "colab": {
   "name": "Build_week_IsaacGrove.ipynb",
   "provenance": []
  },
  "kernelspec": {
   "display_name": "Python 3.7.6 64-bit ('ds-Flask': conda)",
   "language": "python",
   "name": "python37664bitdsflaskconda5d6acf79da9542b3aeeb7103e7ad852b"
  },
  "language_info": {
   "codemirror_mode": {
    "name": "ipython",
    "version": 3
   },
   "file_extension": ".py",
   "mimetype": "text/x-python",
   "name": "python",
   "nbconvert_exporter": "python",
   "pygments_lexer": "ipython3",
   "version": "3.7.6-final"
  }
 },
 "nbformat": 4,
 "nbformat_minor": 4
}